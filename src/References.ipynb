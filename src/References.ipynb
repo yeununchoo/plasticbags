{
 "cells": [
  {
   "cell_type": "markdown",
   "id": "15c8c93c-b3c8-4403-bc98-4fbb0295a45c",
   "metadata": {},
   "source": [
    "## References\n",
    "\n",
    "- Thomas GO, Sautkina E, Poortinga W, Wolstenholme E and Whitmarsh L (2019) The English Plastic Bag Charge Changed Behavior and Increased Support for Other Charges to Reduce Plastic Waste. *Front. Psychol.* 10:266. doi: [10.3389/fpsyg.2019.00266](https://dx.doi.org/10.3389/fpsyg.2019.00266)\n",
    "\n",
    "- Poortinga, Wouter and Whitmarsh, Lorraine (2018). *The English plastic bag charge and behavioural spillover.* [Data Collection]. Colchester, Essex: UK Data Archive. [10.5255/UKDA-SN-852642](https://dx.doi.org/10.5255/UKDA-SN-852642)\n",
    "\n",
    "-  Poortinga, Wouter, Sautkina, Elena, Thomas, Gregory O. and Wolstenholme, Emily 2016. *The English plastic bag charge: Changes in attitudes and behaviour*. [Project Report]. Welsh School of Architecture, School of Psychology, Cardiff University. URL: https://orca.cardiff.ac.uk/94652/\n",
    "\n",
    "- Lavelle-Hill, R., Goulding, J., Smith, G., Clarke, D.D. and Bibby, P.A., 2020. Psychological and demographic predictors of plastic bag consumption in transaction data. *Journal of Environmental Psychology*, 72, p.101473. doi: [10.1016/j.jenvp.2020.101473](https://doi.org/10.1016/j.jenvp.2020.101473)\n",
    "\n",
    "- Edgington, Tom. Plastic or paper: Which bag is greener? *BBC*, 28 January 2019. URL: https://www.bbc.com/news/business-47027792. Accessed 9 October 2021.\n",
    "\n",
    "- Cho, Renee. Plastic, Paper or Cotton: Which Shopping Bag is Best? *Earth Institute, Columbia University*, 30 April 2020, URL: https://news.climate.columbia.edu/2020/04/30/plastic-paper-cotton-bags/. Accessed 9 October 2021. \n",
    "\n",
    "- Thompson, Claire, Paper, Plastic or Reusable? *Stanford Magazine*, September 2017. URL: https://stanfordmag.org/contents/paper-plastic-or-reusable. Accessed 9 October 2021.\n",
    "\n",
    "- UNEP (2018). SINGLE-USE PLASTICS: A Roadmap for Sustainability (Rev. ed., pp. vi; 6) ISBN: 978-92-807-3705-9. URL: https://www.unep.org/resources/report/single-use-plastics-roadmap-sustainability"
   ]
  }
 ],
 "metadata": {
  "kernelspec": {
   "display_name": "Python 3 (ipykernel)",
   "language": "python",
   "name": "python3"
  },
  "language_info": {
   "codemirror_mode": {
    "name": "ipython",
    "version": 3
   },
   "file_extension": ".py",
   "mimetype": "text/x-python",
   "name": "python",
   "nbconvert_exporter": "python",
   "pygments_lexer": "ipython3",
   "version": "3.9.7"
  }
 },
 "nbformat": 4,
 "nbformat_minor": 5
}
