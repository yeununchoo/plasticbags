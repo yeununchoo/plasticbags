{
 "cells": [
  {
   "cell_type": "markdown",
   "id": "9500a59d-c5b4-445f-95c3-569ead697c45",
   "metadata": {},
   "source": [
    "## Model 1: Logistic Regression"
   ]
  },
  {
   "cell_type": "code",
   "execution_count": 1,
   "id": "29a906e8-4e30-4472-9090-011bbf9cd0a3",
   "metadata": {},
   "outputs": [],
   "source": [
    "import pandas as pd\n",
    "import numpy as np\n",
    "import time\n",
    "\n",
    "import matplotlib as mpl\n",
    "import matplotlib.pyplot as plt\n",
    "\n",
    "from sklearn.linear_model import LogisticRegression\n",
    "from sklearn.metrics import roc_curve, auc, RocCurveDisplay\n",
    "from sklearn.metrics import balanced_accuracy_score\n",
    "\n",
    "from sklearn.model_selection import GridSearchCV\n",
    "from sklearn.model_selection import train_test_split\n",
    "\n",
    "from sklearn.model_selection import StratifiedKFold\n",
    "\n",
    "\n",
    "save_figures = False\n",
    "figure_path = \"../figures/models/\"\n",
    "# df_init = pd.read_parquet(\"../data/init.parquet\")\n",
    "# df_before = pd.read_parquet(\"../data/before_split.parquet\")\n",
    "# df_train = pd.read_parquet(\"../data/prep_train.parquet\")\n",
    "# df_val = pd.read_parquet(\"../data/prep_val.parquet\")\n",
    "# df_test = pd.read_parquet(\"../data/prep_test.parquet\")\n",
    "# df_tt_train = pd.read_parquet(\"../data/prep_tt_train.parquet\")\n",
    "# df_tt_test = pd.read_parquet(\"../data/prep_tt_test.parquet\")\n",
    "df_all = pd.read_parquet(\"../data/prep_all.parquet\")"
   ]
  },
  {
   "cell_type": "code",
   "execution_count": 2,
   "id": "8ea60c08-aedd-49f5-af79-25d9b2ead2f5",
   "metadata": {},
   "outputs": [
    {
     "data": {
      "text/html": [
       "<div>\n",
       "<style scoped>\n",
       "    .dataframe tbody tr th:only-of-type {\n",
       "        vertical-align: middle;\n",
       "    }\n",
       "\n",
       "    .dataframe tbody tr th {\n",
       "        vertical-align: top;\n",
       "    }\n",
       "\n",
       "    .dataframe thead th {\n",
       "        text-align: right;\n",
       "    }\n",
       "</style>\n",
       "<table border=\"1\" class=\"dataframe\">\n",
       "  <thead>\n",
       "    <tr style=\"text-align: right;\">\n",
       "      <th></th>\n",
       "      <th>Year_Y2015</th>\n",
       "      <th>Year_Y2016</th>\n",
       "      <th>Country_England</th>\n",
       "      <th>Country_Wales</th>\n",
       "      <th>Supermarket_Asda</th>\n",
       "      <th>Supermarket_Tesco Extra</th>\n",
       "      <th>Supermarket_Tesco Metro</th>\n",
       "      <th>Supermarket_Waitrose</th>\n",
       "      <th>Time_Evening</th>\n",
       "      <th>Time_Morning</th>\n",
       "      <th>...</th>\n",
       "      <th>YearCountryAge_Y2016EnglandAge_g2</th>\n",
       "      <th>YearCountryAge_Y2016EnglandAge_g3</th>\n",
       "      <th>YearCountryAge_Y2016WalesAge_g1</th>\n",
       "      <th>YearCountryAge_Y2016WalesAge_g2</th>\n",
       "      <th>YearCountryAge_Y2016WalesAge_g3</th>\n",
       "      <th>YearCountryAge_nan</th>\n",
       "      <th>ObsSize</th>\n",
       "      <th>FemaleN</th>\n",
       "      <th>MaleN</th>\n",
       "      <th>y</th>\n",
       "    </tr>\n",
       "  </thead>\n",
       "  <tbody>\n",
       "    <tr>\n",
       "      <th>0</th>\n",
       "      <td>0.0</td>\n",
       "      <td>1.0</td>\n",
       "      <td>0.0</td>\n",
       "      <td>1.0</td>\n",
       "      <td>0.0</td>\n",
       "      <td>0.0</td>\n",
       "      <td>1.0</td>\n",
       "      <td>0.0</td>\n",
       "      <td>0.0</td>\n",
       "      <td>1.0</td>\n",
       "      <td>...</td>\n",
       "      <td>0.0</td>\n",
       "      <td>0.0</td>\n",
       "      <td>0.0</td>\n",
       "      <td>1.0</td>\n",
       "      <td>0.0</td>\n",
       "      <td>0.0</td>\n",
       "      <td>-0.471136</td>\n",
       "      <td>-1.156159</td>\n",
       "      <td>0.871226</td>\n",
       "      <td>1</td>\n",
       "    </tr>\n",
       "    <tr>\n",
       "      <th>1</th>\n",
       "      <td>0.0</td>\n",
       "      <td>1.0</td>\n",
       "      <td>0.0</td>\n",
       "      <td>1.0</td>\n",
       "      <td>0.0</td>\n",
       "      <td>0.0</td>\n",
       "      <td>1.0</td>\n",
       "      <td>0.0</td>\n",
       "      <td>0.0</td>\n",
       "      <td>1.0</td>\n",
       "      <td>...</td>\n",
       "      <td>0.0</td>\n",
       "      <td>0.0</td>\n",
       "      <td>0.0</td>\n",
       "      <td>1.0</td>\n",
       "      <td>0.0</td>\n",
       "      <td>0.0</td>\n",
       "      <td>-0.471136</td>\n",
       "      <td>-1.156159</td>\n",
       "      <td>0.871226</td>\n",
       "      <td>1</td>\n",
       "    </tr>\n",
       "    <tr>\n",
       "      <th>2</th>\n",
       "      <td>0.0</td>\n",
       "      <td>1.0</td>\n",
       "      <td>0.0</td>\n",
       "      <td>1.0</td>\n",
       "      <td>0.0</td>\n",
       "      <td>0.0</td>\n",
       "      <td>1.0</td>\n",
       "      <td>0.0</td>\n",
       "      <td>0.0</td>\n",
       "      <td>1.0</td>\n",
       "      <td>...</td>\n",
       "      <td>0.0</td>\n",
       "      <td>0.0</td>\n",
       "      <td>1.0</td>\n",
       "      <td>0.0</td>\n",
       "      <td>0.0</td>\n",
       "      <td>0.0</td>\n",
       "      <td>-0.471136</td>\n",
       "      <td>0.583858</td>\n",
       "      <td>-0.993069</td>\n",
       "      <td>1</td>\n",
       "    </tr>\n",
       "    <tr>\n",
       "      <th>3</th>\n",
       "      <td>0.0</td>\n",
       "      <td>1.0</td>\n",
       "      <td>0.0</td>\n",
       "      <td>1.0</td>\n",
       "      <td>0.0</td>\n",
       "      <td>0.0</td>\n",
       "      <td>1.0</td>\n",
       "      <td>0.0</td>\n",
       "      <td>0.0</td>\n",
       "      <td>1.0</td>\n",
       "      <td>...</td>\n",
       "      <td>0.0</td>\n",
       "      <td>0.0</td>\n",
       "      <td>0.0</td>\n",
       "      <td>0.0</td>\n",
       "      <td>0.0</td>\n",
       "      <td>1.0</td>\n",
       "      <td>1.811174</td>\n",
       "      <td>2.323876</td>\n",
       "      <td>-0.993069</td>\n",
       "      <td>1</td>\n",
       "    </tr>\n",
       "    <tr>\n",
       "      <th>4</th>\n",
       "      <td>0.0</td>\n",
       "      <td>1.0</td>\n",
       "      <td>0.0</td>\n",
       "      <td>1.0</td>\n",
       "      <td>0.0</td>\n",
       "      <td>0.0</td>\n",
       "      <td>1.0</td>\n",
       "      <td>0.0</td>\n",
       "      <td>0.0</td>\n",
       "      <td>1.0</td>\n",
       "      <td>...</td>\n",
       "      <td>0.0</td>\n",
       "      <td>0.0</td>\n",
       "      <td>0.0</td>\n",
       "      <td>0.0</td>\n",
       "      <td>1.0</td>\n",
       "      <td>0.0</td>\n",
       "      <td>-0.471136</td>\n",
       "      <td>0.583858</td>\n",
       "      <td>-0.993069</td>\n",
       "      <td>1</td>\n",
       "    </tr>\n",
       "  </tbody>\n",
       "</table>\n",
       "<p>5 rows × 86 columns</p>\n",
       "</div>"
      ],
      "text/plain": [
       "   Year_Y2015  Year_Y2016  Country_England  Country_Wales  Supermarket_Asda  \\\n",
       "0         0.0         1.0              0.0            1.0               0.0   \n",
       "1         0.0         1.0              0.0            1.0               0.0   \n",
       "2         0.0         1.0              0.0            1.0               0.0   \n",
       "3         0.0         1.0              0.0            1.0               0.0   \n",
       "4         0.0         1.0              0.0            1.0               0.0   \n",
       "\n",
       "   Supermarket_Tesco Extra  Supermarket_Tesco Metro  Supermarket_Waitrose  \\\n",
       "0                      0.0                      1.0                   0.0   \n",
       "1                      0.0                      1.0                   0.0   \n",
       "2                      0.0                      1.0                   0.0   \n",
       "3                      0.0                      1.0                   0.0   \n",
       "4                      0.0                      1.0                   0.0   \n",
       "\n",
       "   Time_Evening  Time_Morning  ...  YearCountryAge_Y2016EnglandAge_g2  \\\n",
       "0           0.0           1.0  ...                                0.0   \n",
       "1           0.0           1.0  ...                                0.0   \n",
       "2           0.0           1.0  ...                                0.0   \n",
       "3           0.0           1.0  ...                                0.0   \n",
       "4           0.0           1.0  ...                                0.0   \n",
       "\n",
       "   YearCountryAge_Y2016EnglandAge_g3  YearCountryAge_Y2016WalesAge_g1  \\\n",
       "0                                0.0                              0.0   \n",
       "1                                0.0                              0.0   \n",
       "2                                0.0                              1.0   \n",
       "3                                0.0                              0.0   \n",
       "4                                0.0                              0.0   \n",
       "\n",
       "   YearCountryAge_Y2016WalesAge_g2  YearCountryAge_Y2016WalesAge_g3  \\\n",
       "0                              1.0                              0.0   \n",
       "1                              1.0                              0.0   \n",
       "2                              0.0                              0.0   \n",
       "3                              0.0                              0.0   \n",
       "4                              0.0                              1.0   \n",
       "\n",
       "   YearCountryAge_nan   ObsSize   FemaleN     MaleN  y  \n",
       "0                 0.0 -0.471136 -1.156159  0.871226  1  \n",
       "1                 0.0 -0.471136 -1.156159  0.871226  1  \n",
       "2                 0.0 -0.471136  0.583858 -0.993069  1  \n",
       "3                 1.0  1.811174  2.323876 -0.993069  1  \n",
       "4                 0.0 -0.471136  0.583858 -0.993069  1  \n",
       "\n",
       "[5 rows x 86 columns]"
      ]
     },
     "execution_count": 2,
     "metadata": {},
     "output_type": "execute_result"
    }
   ],
   "source": [
    "df_all.head()"
   ]
  },
  {
   "cell_type": "code",
   "execution_count": 3,
   "id": "ba6d25b5-4243-4c0c-91ba-dc1d1fb404a1",
   "metadata": {},
   "outputs": [],
   "source": [
    "X_all = df_all.iloc[:,0:-1].to_numpy()\n",
    "y_all = df_all[\"y\"].to_numpy()"
   ]
  },
  {
   "cell_type": "markdown",
   "id": "2eaded25-6510-492b-8d50-48662648189d",
   "metadata": {},
   "source": [
    "### Logistic Regression No Penalty"
   ]
  },
  {
   "cell_type": "code",
   "execution_count": 4,
   "id": "1861c81b-bd2e-43f5-af24-82d1bdaa62cd",
   "metadata": {},
   "outputs": [
    {
     "data": {
      "text/plain": [
       "LogisticRegression(class_weight='balanced', fit_intercept=False, max_iter=10000,\n",
       "                   penalty='none', random_state=132, solver='saga')"
      ]
     },
     "execution_count": 4,
     "metadata": {},
     "output_type": "execute_result"
    }
   ],
   "source": [
    "random_state_LR = 132\n",
    "LR_no = LogisticRegression(penalty = 'none', \n",
    "                           solver = 'saga', \n",
    "                           random_state = random_state_LR,\n",
    "                           fit_intercept = False, \n",
    "                           max_iter = 10000, \n",
    "                           class_weight = 'balanced')\n",
    "LR_no "
   ]
  },
  {
   "cell_type": "code",
   "execution_count": 5,
   "id": "ed36ad78-bdd6-4c05-95cd-c9fed2ca0921",
   "metadata": {},
   "outputs": [],
   "source": [
    "skf = StratifiedKFold(n_splits = 5, \n",
    "                      shuffle = True,\n",
    "                      random_state = random_state_LR)\n",
    "\n",
    "random_states_split = [123, 456, 789, \n",
    "                       741, 852, 963, \n",
    "                       159, 753, 951, 357]"
   ]
  },
  {
   "cell_type": "code",
   "execution_count": 6,
   "id": "22b81924-e7aa-4c69-b307-8d8d41ef2995",
   "metadata": {},
   "outputs": [
    {
     "name": "stdout",
     "output_type": "stream",
     "text": [
      "\tCV: 2.665 seconds\n",
      "\tCV: 2.498 seconds\n",
      "\tCV: 2.587 seconds\n",
      "\tCV: 2.382 seconds\n",
      "\tCV: 2.468 seconds\n",
      "Iteration 123: 12.616 seconds\n",
      "\tCV: 2.606 seconds\n",
      "\tCV: 2.554 seconds\n",
      "\tCV: 2.449 seconds\n",
      "\tCV: 2.570 seconds\n",
      "\tCV: 2.379 seconds\n",
      "Iteration 456: 12.565 seconds\n",
      "\tCV: 2.422 seconds\n",
      "\tCV: 2.593 seconds\n",
      "\tCV: 2.439 seconds\n",
      "\tCV: 2.440 seconds\n",
      "\tCV: 2.547 seconds\n",
      "Iteration 789: 12.447 seconds\n",
      "\tCV: 2.440 seconds\n",
      "\tCV: 2.425 seconds\n",
      "\tCV: 2.521 seconds\n",
      "\tCV: 2.379 seconds\n",
      "\tCV: 2.433 seconds\n",
      "Iteration 741: 12.202 seconds\n",
      "\tCV: 2.502 seconds\n",
      "\tCV: 2.372 seconds\n",
      "\tCV: 2.460 seconds\n",
      "\tCV: 2.541 seconds\n",
      "\tCV: 2.399 seconds\n",
      "Iteration 852: 12.280 seconds\n",
      "\tCV: 2.392 seconds\n",
      "\tCV: 2.547 seconds\n",
      "\tCV: 2.440 seconds\n",
      "\tCV: 2.442 seconds\n",
      "\tCV: 2.517 seconds\n",
      "Iteration 963: 12.348 seconds\n",
      "\tCV: 2.515 seconds\n",
      "\tCV: 2.471 seconds\n",
      "\tCV: 2.589 seconds\n",
      "\tCV: 2.551 seconds\n",
      "\tCV: 2.486 seconds\n",
      "Iteration 159: 12.619 seconds\n",
      "\tCV: 2.605 seconds\n",
      "\tCV: 2.452 seconds\n",
      "\tCV: 2.462 seconds\n",
      "\tCV: 2.545 seconds\n",
      "\tCV: 2.393 seconds\n",
      "Iteration 753: 12.466 seconds\n",
      "\tCV: 2.529 seconds\n",
      "\tCV: 2.601 seconds\n",
      "\tCV: 2.419 seconds\n",
      "\tCV: 2.391 seconds\n",
      "\tCV: 2.512 seconds\n",
      "Iteration 951: 12.459 seconds\n",
      "\tCV: 2.440 seconds\n",
      "\tCV: 2.447 seconds\n",
      "\tCV: 2.599 seconds\n",
      "\tCV: 2.544 seconds\n",
      "\tCV: 2.510 seconds\n",
      "Iteration 357: 12.549 seconds\n",
      "Wall time: 2min 4s\n"
     ]
    }
   ],
   "source": [
    "%%time\n",
    "BalAccuracy_no = []\n",
    "\n",
    "for each_rs in random_states_split:\n",
    "    start_time = time.time()\n",
    "    \n",
    "    X_other_temp, X_test_temp, y_other_temp, y_test_temp = \\\n",
    "        train_test_split(X_all, y_all, \n",
    "                         test_size = 0.1, \n",
    "                         random_state = each_rs, \n",
    "                         stratify = y_all)\n",
    "    \n",
    "    BalAccuracy_no_cv = []\n",
    "    \n",
    "    for train_index, val_index in skf.split(X_other_temp, y_other_temp):\n",
    "        cv_start_time = time.time()\n",
    "\n",
    "        X_train_no, X_val_no = X_other_temp[train_index], X_other_temp[val_index]\n",
    "        y_train_no, y_val_no = y_other_temp[train_index], y_other_temp[val_index]\n",
    "\n",
    "        LR_no.fit(X_train_no, y_train_no)\n",
    "\n",
    "        y_pred_no_temp = LR_no.predict(X_val_no)\n",
    "        BalAccuracy_no_cv.append(balanced_accuracy_score(y_val_no, y_pred_no_temp))\n",
    "\n",
    "        cv_end_time = time.time()\n",
    "        print(f\"\\tCV: {cv_end_time - cv_start_time:.3f} seconds\", flush = True)\n",
    "    \n",
    "    BalAccuracy_no.append(np.mean(BalAccuracy_no_cv))\n",
    "    \n",
    "    end_time = time.time()\n",
    "    print(f\"Iteration {each_rs}: {end_time - start_time:.3f} seconds\", flush = True)"
   ]
  },
  {
   "cell_type": "code",
   "execution_count": 7,
   "id": "cf191170-e16f-4d13-b692-b0832111a3aa",
   "metadata": {},
   "outputs": [
    {
     "name": "stdout",
     "output_type": "stream",
     "text": [
      "0.6811 (0.0041)\n"
     ]
    }
   ],
   "source": [
    "print(f\"{np.mean(BalAccuracy_no):.4f} ({np.std(BalAccuracy_no):.4f})\")"
   ]
  },
  {
   "cell_type": "markdown",
   "id": "c60e507f-1770-4fe8-99bc-5ee940652879",
   "metadata": {},
   "source": [
    "### Logistic Regression L1 Penalty"
   ]
  },
  {
   "cell_type": "code",
   "execution_count": 8,
   "id": "6d215c00-e1a8-4f1b-bf4d-837b50b04831",
   "metadata": {},
   "outputs": [
    {
     "data": {
      "text/plain": [
       "LogisticRegression(class_weight='balanced', fit_intercept=False, max_iter=10000,\n",
       "                   penalty='l1', random_state=132, solver='saga')"
      ]
     },
     "execution_count": 8,
     "metadata": {},
     "output_type": "execute_result"
    }
   ],
   "source": [
    "random_state_LR = 132\n",
    "LR_l1 = LogisticRegression(penalty = 'l1', \n",
    "                           solver = 'saga', \n",
    "                           random_state = random_state_LR,\n",
    "                           fit_intercept = False, \n",
    "                           max_iter = 10000, \n",
    "                           class_weight = 'balanced')\n",
    "LR_l1"
   ]
  },
  {
   "cell_type": "code",
   "execution_count": 9,
   "id": "4593bbba-e7f2-476b-941e-b1a3347e1672",
   "metadata": {
    "tags": []
   },
   "outputs": [],
   "source": [
    "c_penalty = np.logspace(-3, 2, 21)\n",
    "params_l1 = {'C':c_penalty}\n",
    "random_states_split = [123, 456, 789, \n",
    "                       741, 852, 963, \n",
    "                       159, 753, 951, 357]\n",
    "\n",
    "gridCV_l1 = GridSearchCV(estimator = LR_l1, \n",
    "                         param_grid = params_l1, \n",
    "                         scoring = 'balanced_accuracy', \n",
    "                         n_jobs = -2,\n",
    "                         refit = True, \n",
    "                         cv = 5)\n"
   ]
  },
  {
   "cell_type": "code",
   "execution_count": 10,
   "id": "97c449dd-e73d-4f8f-a10f-f9c675809e72",
   "metadata": {},
   "outputs": [
    {
     "name": "stdout",
     "output_type": "stream",
     "text": [
      "{'C': 0.03162277660168379}\n",
      "Iteration 123: 26.326 seconds\n",
      "{'C': 0.5623413251903491}\n",
      "Iteration 456: 26.266 seconds\n",
      "{'C': 0.5623413251903491}\n",
      "Iteration 789: 26.989 seconds\n",
      "{'C': 0.1778279410038923}\n",
      "Iteration 741: 26.615 seconds\n",
      "{'C': 0.1}\n",
      "Iteration 852: 26.783 seconds\n",
      "{'C': 1.0}\n",
      "Iteration 963: 27.883 seconds\n",
      "{'C': 0.31622776601683794}\n",
      "Iteration 159: 28.505 seconds\n",
      "{'C': 0.1778279410038923}\n",
      "Iteration 753: 27.126 seconds\n",
      "{'C': 0.5623413251903491}\n",
      "Iteration 951: 28.188 seconds\n",
      "{'C': 0.31622776601683794}\n",
      "Iteration 357: 27.754 seconds\n",
      "Wall time: 4min 32s\n"
     ]
    }
   ],
   "source": [
    "%%time\n",
    "\n",
    "BalAccuracy_l1 = []\n",
    "\n",
    "for each_rs in random_states_split:\n",
    "    start_time = time.time()\n",
    "    \n",
    "    X_other_temp, X_test_temp, y_other_temp, y_test_temp = \\\n",
    "        train_test_split(X_all, y_all, \n",
    "                         test_size = 0.1, \n",
    "                         random_state = each_rs, \n",
    "                         stratify = y_all)\n",
    "    \n",
    "    gridCV_l1.fit(X_other_temp, y_other_temp)\n",
    "    \n",
    "    BalAccuracy_l1.append(gridCV_l1.best_score_)\n",
    "    \n",
    "    print(gridCV_l1.best_params_, flush = True)\n",
    "    \n",
    "    end_time = time.time()\n",
    "    print(f\"Iteration {each_rs}: {end_time - start_time:.3f} seconds\", flush = True)"
   ]
  },
  {
   "cell_type": "code",
   "execution_count": 11,
   "id": "b54b4cce-1a4f-4117-8ca3-2929f2a8db46",
   "metadata": {},
   "outputs": [
    {
     "name": "stdout",
     "output_type": "stream",
     "text": [
      "0.6909 (0.0043)\n"
     ]
    }
   ],
   "source": [
    "print(f\"{np.mean(BalAccuracy_l1):.4f} ({np.std(BalAccuracy_l1):.4f})\")\n"
   ]
  },
  {
   "cell_type": "markdown",
   "id": "ba61df3a-b845-4a90-81bf-d7b2e8624ace",
   "metadata": {},
   "source": [
    "### Logistic Regression L2 Penalty"
   ]
  },
  {
   "cell_type": "code",
   "execution_count": 12,
   "id": "f39bad9f-9ece-495b-ab1a-01e2186d6128",
   "metadata": {},
   "outputs": [
    {
     "data": {
      "text/plain": [
       "LogisticRegression(class_weight='balanced', fit_intercept=False, max_iter=10000,\n",
       "                   random_state=132, solver='saga')"
      ]
     },
     "execution_count": 12,
     "metadata": {},
     "output_type": "execute_result"
    }
   ],
   "source": [
    "random_state_LR = 132\n",
    "LR_l2 = LogisticRegression(penalty = 'l2', \n",
    "                           solver = 'saga', \n",
    "                           random_state = random_state_LR,\n",
    "                           fit_intercept = False, \n",
    "                           max_iter = 10000, \n",
    "                           class_weight = 'balanced')\n",
    "LR_l2"
   ]
  },
  {
   "cell_type": "code",
   "execution_count": 13,
   "id": "14097f7e-8910-42ae-afa0-288155a1a8b9",
   "metadata": {},
   "outputs": [],
   "source": [
    "c_penalty = np.logspace(-3, 2, 21)\n",
    "params_l2 = {'C':c_penalty}\n",
    "random_states_split = [123, 456, 789, \n",
    "                       741, 852, 963, \n",
    "                       159, 753, 951, 357]\n",
    "\n",
    "gridCV_l2 = GridSearchCV(estimator = LR_l2, \n",
    "                         param_grid = params_l2, \n",
    "                         scoring = 'balanced_accuracy', \n",
    "                         n_jobs = -2,\n",
    "                         refit = True, \n",
    "                         cv = 5)"
   ]
  },
  {
   "cell_type": "code",
   "execution_count": 14,
   "id": "8d571373-6906-4ff0-ad53-2d0cce5cb377",
   "metadata": {},
   "outputs": [
    {
     "name": "stdout",
     "output_type": "stream",
     "text": [
      "{'C': 0.005623413251903491}\n",
      "Iteration 123: 6.904 seconds\n",
      "{'C': 0.1}\n",
      "Iteration 456: 7.019 seconds\n",
      "{'C': 0.1}\n",
      "Iteration 789: 7.032 seconds\n",
      "{'C': 0.01778279410038923}\n",
      "Iteration 741: 6.752 seconds\n",
      "{'C': 0.03162277660168379}\n",
      "Iteration 852: 6.493 seconds\n",
      "{'C': 0.31622776601683794}\n",
      "Iteration 963: 6.394 seconds\n",
      "{'C': 0.03162277660168379}\n",
      "Iteration 159: 6.946 seconds\n",
      "{'C': 0.01}\n",
      "Iteration 753: 6.971 seconds\n",
      "{'C': 0.5623413251903491}\n",
      "Iteration 951: 7.208 seconds\n",
      "{'C': 0.1778279410038923}\n",
      "Iteration 357: 7.082 seconds\n",
      "Wall time: 1min 8s\n"
     ]
    }
   ],
   "source": [
    "%%time\n",
    "\n",
    "BalAccuracy_l2 = []\n",
    "\n",
    "for each_rs in random_states_split:\n",
    "    start_time = time.time()\n",
    "    \n",
    "    X_other_temp, X_test_temp, y_other_temp, y_test_temp = \\\n",
    "        train_test_split(X_all, y_all, \n",
    "                         test_size = 0.1, \n",
    "                         random_state = each_rs, \n",
    "                         stratify = y_all)\n",
    "    \n",
    "    gridCV_l2.fit(X_other_temp, y_other_temp)\n",
    "    \n",
    "    BalAccuracy_l2.append(gridCV_l2.best_score_)\n",
    "    \n",
    "    print(gridCV_l2.best_params_, flush = True)\n",
    "    \n",
    "    end_time = time.time()\n",
    "    print(f\"Iteration {each_rs}: {end_time - start_time:.3f} seconds\", flush = True)"
   ]
  },
  {
   "cell_type": "code",
   "execution_count": 15,
   "id": "4d4c8392-8e35-4626-b757-55ec78e2228b",
   "metadata": {},
   "outputs": [
    {
     "name": "stdout",
     "output_type": "stream",
     "text": [
      "0.6891 (0.0052)\n"
     ]
    }
   ],
   "source": [
    "print(f\"{np.mean(BalAccuracy_l2):.4f} ({np.std(BalAccuracy_l2):.4f})\")\n"
   ]
  },
  {
   "cell_type": "markdown",
   "id": "f131bb2c-1f2d-4c78-8c7f-fac4f0f5db3b",
   "metadata": {},
   "source": [
    "### Logistic Regression Elastic Net"
   ]
  },
  {
   "cell_type": "code",
   "execution_count": 16,
   "id": "48424e74-8161-4453-bbe8-171e363423a3",
   "metadata": {},
   "outputs": [
    {
     "data": {
      "text/plain": [
       "LogisticRegression(class_weight='balanced', fit_intercept=False, max_iter=10000,\n",
       "                   penalty='elasticnet', random_state=132, solver='saga')"
      ]
     },
     "execution_count": 16,
     "metadata": {},
     "output_type": "execute_result"
    }
   ],
   "source": [
    "random_state_LR = 132\n",
    "LR_el = LogisticRegression(penalty = 'elasticnet', \n",
    "                           solver = 'saga', \n",
    "                           random_state = random_state_LR,\n",
    "                           fit_intercept = False, \n",
    "                           max_iter = 10000, \n",
    "                           class_weight = 'balanced')\n",
    "LR_el"
   ]
  },
  {
   "cell_type": "code",
   "execution_count": 17,
   "id": "15dc5fe7-7e63-4033-a39b-909776390838",
   "metadata": {},
   "outputs": [],
   "source": [
    "c_penalty = np.logspace(-3, 2, 21)\n",
    "l1_ratio = np.linspace(0.1, 0.9, 9)\n",
    "params_el = {'C':c_penalty, \n",
    "             'l1_ratio':l1_ratio}\n",
    "random_states_split = [123, 456, 789, \n",
    "                       741, 852, 963, \n",
    "                       159, 753, 951, 357]\n",
    "\n",
    "gridCV_el = GridSearchCV(estimator = LR_el, \n",
    "                         param_grid = params_el, \n",
    "                         scoring = 'balanced_accuracy', \n",
    "                         n_jobs = -2,\n",
    "                         refit = True, \n",
    "                         cv = 5)"
   ]
  },
  {
   "cell_type": "code",
   "execution_count": 18,
   "id": "e88f01ff-e840-43a6-b736-356a3514b49c",
   "metadata": {},
   "outputs": [
    {
     "name": "stdout",
     "output_type": "stream",
     "text": [
      "{'C': 0.03162277660168379, 'l1_ratio': 0.8}\n",
      "Iteration 123: 154.971 seconds\n",
      "{'C': 0.1778279410038923, 'l1_ratio': 0.30000000000000004}\n",
      "Iteration 456: 152.725 seconds\n",
      "{'C': 0.1778279410038923, 'l1_ratio': 0.1}\n",
      "Iteration 789: 153.414 seconds\n",
      "{'C': 0.01, 'l1_ratio': 0.30000000000000004}\n",
      "Iteration 741: 147.254 seconds\n",
      "{'C': 0.1, 'l1_ratio': 0.9}\n",
      "Iteration 852: 148.345 seconds\n",
      "{'C': 0.5623413251903491, 'l1_ratio': 0.7000000000000001}\n",
      "Iteration 963: 148.515 seconds\n",
      "{'C': 0.05623413251903491, 'l1_ratio': 0.2}\n",
      "Iteration 159: 156.025 seconds\n",
      "{'C': 0.1778279410038923, 'l1_ratio': 0.9}\n",
      "Iteration 753: 153.238 seconds\n",
      "{'C': 0.31622776601683794, 'l1_ratio': 0.9}\n",
      "Iteration 951: 154.325 seconds\n",
      "{'C': 0.1, 'l1_ratio': 0.6}\n",
      "Iteration 357: 154.398 seconds\n",
      "Wall time: 25min 23s\n"
     ]
    }
   ],
   "source": [
    "%%time\n",
    "\n",
    "BalAccuracy_el = []\n",
    "\n",
    "for each_rs in random_states_split:\n",
    "    start_time = time.time()\n",
    "    \n",
    "    X_other_temp, X_test_temp, y_other_temp, y_test_temp = \\\n",
    "        train_test_split(X_all, y_all, \n",
    "                         test_size = 0.1, \n",
    "                         random_state = each_rs, \n",
    "                         stratify = y_all)\n",
    "    \n",
    "    gridCV_el.fit(X_other_temp, y_other_temp)\n",
    "    \n",
    "    BalAccuracy_el.append(gridCV_el.best_score_)\n",
    "    \n",
    "    print(gridCV_el.best_params_, flush = True)\n",
    "    \n",
    "    end_time = time.time()\n",
    "    print(f\"Iteration {each_rs}: {end_time - start_time:.3f} seconds\", flush = True)"
   ]
  },
  {
   "cell_type": "code",
   "execution_count": 19,
   "id": "6176c368-cdd2-4ae6-957a-0989a93e3ec0",
   "metadata": {},
   "outputs": [
    {
     "data": {
      "text/plain": [
       "[0.6916709853968059,\n",
       " 0.6878088528225927,\n",
       " 0.6863517390925538,\n",
       " 0.6844716110336937,\n",
       " 0.6913817733213203,\n",
       " 0.7009445595816558,\n",
       " 0.6945675822636019,\n",
       " 0.6947443836138149,\n",
       " 0.6911192311780187,\n",
       " 0.6956824226415487]"
      ]
     },
     "execution_count": 19,
     "metadata": {},
     "output_type": "execute_result"
    }
   ],
   "source": [
    "BalAccuracy_el"
   ]
  },
  {
   "cell_type": "code",
   "execution_count": 20,
   "id": "4b3ab543-36f6-4feb-b2c6-7b1cc26cbddd",
   "metadata": {},
   "outputs": [
    {
     "name": "stdout",
     "output_type": "stream",
     "text": [
      "0.6919 (0.0046)\n"
     ]
    }
   ],
   "source": [
    "print(f\"{np.mean(BalAccuracy_el):.4f} ({np.std(BalAccuracy_el):.4f})\")\n"
   ]
  },
  {
   "cell_type": "code",
   "execution_count": 21,
   "id": "5e5444ca-1907-4a76-a000-d71526b548e9",
   "metadata": {},
   "outputs": [
    {
     "name": "stdout",
     "output_type": "stream",
     "text": [
      "0.6811 (0.0041)\n",
      "0.6909 (0.0043)\n",
      "0.6891 (0.0052)\n",
      "0.6919 (0.0046)\n"
     ]
    }
   ],
   "source": [
    "print(f\"{np.mean(BalAccuracy_no):.4f} ({np.std(BalAccuracy_no):.4f})\")\n",
    "print(f\"{np.mean(BalAccuracy_l1):.4f} ({np.std(BalAccuracy_l1):.4f})\")\n",
    "print(f\"{np.mean(BalAccuracy_l2):.4f} ({np.std(BalAccuracy_l2):.4f})\")\n",
    "print(f\"{np.mean(BalAccuracy_el):.4f} ({np.std(BalAccuracy_el):.4f})\")"
   ]
  },
  {
   "cell_type": "code",
   "execution_count": 22,
   "id": "dd93e939-a1f7-4114-8a63-977e92d8431b",
   "metadata": {},
   "outputs": [],
   "source": [
    "import json\n",
    "\n",
    "logistic_scores = {\"no\": BalAccuracy_no,\n",
    "                   \"l1\": BalAccuracy_l1,\n",
    "                   \"l2\": BalAccuracy_l2,\n",
    "                   \"elastic\": BalAccuracy_el}\n",
    "\n",
    "with open(\"../results/logistic_scores.json\", \"w\") as outfile:\n",
    "    json.dump(logistic_scores, outfile)\n",
    "    \n",
    "# with open(\"logistic.json\", \"r\") as readfile:\n",
    "#     dict_data = json.load(readfile)"
   ]
  },
  {
   "cell_type": "code",
   "execution_count": null,
   "id": "646827bb-8014-454e-892a-e02e89545992",
   "metadata": {},
   "outputs": [],
   "source": []
  }
 ],
 "metadata": {
  "kernelspec": {
   "display_name": "Python 3 (ipykernel)",
   "language": "python",
   "name": "python3"
  },
  "language_info": {
   "codemirror_mode": {
    "name": "ipython",
    "version": 3
   },
   "file_extension": ".py",
   "mimetype": "text/x-python",
   "name": "python",
   "nbconvert_exporter": "python",
   "pygments_lexer": "ipython3",
   "version": "3.9.7"
  }
 },
 "nbformat": 4,
 "nbformat_minor": 5
}
