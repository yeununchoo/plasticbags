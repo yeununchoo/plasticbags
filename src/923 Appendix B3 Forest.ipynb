{
 "cells": [
  {
   "cell_type": "markdown",
   "id": "9500a59d-c5b4-445f-95c3-569ead697c45",
   "metadata": {},
   "source": [
    "## Appendix B3. Random Forest"
   ]
  },
  {
   "cell_type": "code",
   "execution_count": 1,
   "id": "29a906e8-4e30-4472-9090-011bbf9cd0a3",
   "metadata": {},
   "outputs": [],
   "source": [
    "import pandas as pd\n",
    "import numpy as np\n",
    "\n",
    "import matplotlib as mpl\n",
    "import matplotlib.pyplot as plt\n",
    "\n",
    "# from sklearn.linear_model import LogisticRegression\n",
    "# from sklearn.metrics import roc_curve, auc, RocCurveDisplay\n",
    "from sklearn.ensemble import RandomForestClassifier\n",
    "from sklearn.metrics import balanced_accuracy_score\n",
    "from sklearn.metrics import accuracy_score\n",
    "\n",
    "from sklearn.model_selection import GridSearchCV\n",
    "\n",
    "save_figures = False\n",
    "figure_path = \"../figures/models/\"\n",
    "# df_init = pd.read_parquet(\"../data/init.parquet\")\n",
    "# df_before = pd.read_parquet(\"../data/before_split.parquet\")\n",
    "# df_train = pd.read_parquet(\"../data/prep_train.parquet\")\n",
    "# df_val = pd.read_parquet(\"../data/prep_val.parquet\")\n",
    "# df_test = pd.read_parquet(\"../data/prep_test.parquet\")\n",
    "df_tt_train = pd.read_parquet(\"../data/prep_tt_train.parquet\")\n",
    "df_tt_test = pd.read_parquet(\"../data/prep_tt_test.parquet\")"
   ]
  },
  {
   "cell_type": "code",
   "execution_count": 2,
   "id": "fcad624e-08ea-4b2a-81a5-98bfab72ab7b",
   "metadata": {},
   "outputs": [
    {
     "data": {
      "text/html": [
       "<div>\n",
       "<style scoped>\n",
       "    .dataframe tbody tr th:only-of-type {\n",
       "        vertical-align: middle;\n",
       "    }\n",
       "\n",
       "    .dataframe tbody tr th {\n",
       "        vertical-align: top;\n",
       "    }\n",
       "\n",
       "    .dataframe thead th {\n",
       "        text-align: right;\n",
       "    }\n",
       "</style>\n",
       "<table border=\"1\" class=\"dataframe\">\n",
       "  <thead>\n",
       "    <tr style=\"text-align: right;\">\n",
       "      <th></th>\n",
       "      <th>Year_Y2015</th>\n",
       "      <th>Year_Y2016</th>\n",
       "      <th>Country_England</th>\n",
       "      <th>Country_Wales</th>\n",
       "      <th>Supermarket_Asda</th>\n",
       "      <th>Supermarket_Tesco Extra</th>\n",
       "      <th>Supermarket_Tesco Metro</th>\n",
       "      <th>Supermarket_Waitrose</th>\n",
       "      <th>Time_Evening</th>\n",
       "      <th>Time_Morning</th>\n",
       "      <th>...</th>\n",
       "      <th>YearCountryAge_Y2016EnglandAge_g2</th>\n",
       "      <th>YearCountryAge_Y2016EnglandAge_g3</th>\n",
       "      <th>YearCountryAge_Y2016WalesAge_g1</th>\n",
       "      <th>YearCountryAge_Y2016WalesAge_g2</th>\n",
       "      <th>YearCountryAge_Y2016WalesAge_g3</th>\n",
       "      <th>YearCountryAge_nan</th>\n",
       "      <th>ObsSize</th>\n",
       "      <th>FemaleN</th>\n",
       "      <th>MaleN</th>\n",
       "      <th>y</th>\n",
       "    </tr>\n",
       "  </thead>\n",
       "  <tbody>\n",
       "    <tr>\n",
       "      <th>0</th>\n",
       "      <td>0.0</td>\n",
       "      <td>1.0</td>\n",
       "      <td>0.0</td>\n",
       "      <td>1.0</td>\n",
       "      <td>0.0</td>\n",
       "      <td>0.0</td>\n",
       "      <td>1.0</td>\n",
       "      <td>0.0</td>\n",
       "      <td>0.0</td>\n",
       "      <td>0.0</td>\n",
       "      <td>...</td>\n",
       "      <td>0.0</td>\n",
       "      <td>0.0</td>\n",
       "      <td>0.0</td>\n",
       "      <td>1.0</td>\n",
       "      <td>0.0</td>\n",
       "      <td>0.0</td>\n",
       "      <td>-0.474255</td>\n",
       "      <td>-1.160118</td>\n",
       "      <td>0.858181</td>\n",
       "      <td>1</td>\n",
       "    </tr>\n",
       "    <tr>\n",
       "      <th>1</th>\n",
       "      <td>0.0</td>\n",
       "      <td>1.0</td>\n",
       "      <td>1.0</td>\n",
       "      <td>0.0</td>\n",
       "      <td>0.0</td>\n",
       "      <td>1.0</td>\n",
       "      <td>0.0</td>\n",
       "      <td>0.0</td>\n",
       "      <td>0.0</td>\n",
       "      <td>0.0</td>\n",
       "      <td>...</td>\n",
       "      <td>0.0</td>\n",
       "      <td>1.0</td>\n",
       "      <td>0.0</td>\n",
       "      <td>0.0</td>\n",
       "      <td>0.0</td>\n",
       "      <td>0.0</td>\n",
       "      <td>-0.474255</td>\n",
       "      <td>0.589356</td>\n",
       "      <td>-0.999109</td>\n",
       "      <td>1</td>\n",
       "    </tr>\n",
       "    <tr>\n",
       "      <th>2</th>\n",
       "      <td>1.0</td>\n",
       "      <td>0.0</td>\n",
       "      <td>0.0</td>\n",
       "      <td>1.0</td>\n",
       "      <td>1.0</td>\n",
       "      <td>0.0</td>\n",
       "      <td>0.0</td>\n",
       "      <td>0.0</td>\n",
       "      <td>0.0</td>\n",
       "      <td>0.0</td>\n",
       "      <td>...</td>\n",
       "      <td>0.0</td>\n",
       "      <td>0.0</td>\n",
       "      <td>0.0</td>\n",
       "      <td>0.0</td>\n",
       "      <td>0.0</td>\n",
       "      <td>0.0</td>\n",
       "      <td>-0.474255</td>\n",
       "      <td>0.589356</td>\n",
       "      <td>-0.999109</td>\n",
       "      <td>1</td>\n",
       "    </tr>\n",
       "    <tr>\n",
       "      <th>3</th>\n",
       "      <td>0.0</td>\n",
       "      <td>1.0</td>\n",
       "      <td>0.0</td>\n",
       "      <td>1.0</td>\n",
       "      <td>0.0</td>\n",
       "      <td>1.0</td>\n",
       "      <td>0.0</td>\n",
       "      <td>0.0</td>\n",
       "      <td>0.0</td>\n",
       "      <td>0.0</td>\n",
       "      <td>...</td>\n",
       "      <td>0.0</td>\n",
       "      <td>0.0</td>\n",
       "      <td>0.0</td>\n",
       "      <td>0.0</td>\n",
       "      <td>0.0</td>\n",
       "      <td>1.0</td>\n",
       "      <td>1.794531</td>\n",
       "      <td>0.589356</td>\n",
       "      <td>0.858181</td>\n",
       "      <td>1</td>\n",
       "    </tr>\n",
       "    <tr>\n",
       "      <th>4</th>\n",
       "      <td>0.0</td>\n",
       "      <td>1.0</td>\n",
       "      <td>1.0</td>\n",
       "      <td>0.0</td>\n",
       "      <td>1.0</td>\n",
       "      <td>0.0</td>\n",
       "      <td>0.0</td>\n",
       "      <td>0.0</td>\n",
       "      <td>0.0</td>\n",
       "      <td>1.0</td>\n",
       "      <td>...</td>\n",
       "      <td>0.0</td>\n",
       "      <td>1.0</td>\n",
       "      <td>0.0</td>\n",
       "      <td>0.0</td>\n",
       "      <td>0.0</td>\n",
       "      <td>0.0</td>\n",
       "      <td>-0.474255</td>\n",
       "      <td>-1.160118</td>\n",
       "      <td>0.858181</td>\n",
       "      <td>0</td>\n",
       "    </tr>\n",
       "  </tbody>\n",
       "</table>\n",
       "<p>5 rows × 86 columns</p>\n",
       "</div>"
      ],
      "text/plain": [
       "   Year_Y2015  Year_Y2016  Country_England  Country_Wales  Supermarket_Asda  \\\n",
       "0         0.0         1.0              0.0            1.0               0.0   \n",
       "1         0.0         1.0              1.0            0.0               0.0   \n",
       "2         1.0         0.0              0.0            1.0               1.0   \n",
       "3         0.0         1.0              0.0            1.0               0.0   \n",
       "4         0.0         1.0              1.0            0.0               1.0   \n",
       "\n",
       "   Supermarket_Tesco Extra  Supermarket_Tesco Metro  Supermarket_Waitrose  \\\n",
       "0                      0.0                      1.0                   0.0   \n",
       "1                      1.0                      0.0                   0.0   \n",
       "2                      0.0                      0.0                   0.0   \n",
       "3                      1.0                      0.0                   0.0   \n",
       "4                      0.0                      0.0                   0.0   \n",
       "\n",
       "   Time_Evening  Time_Morning  ...  YearCountryAge_Y2016EnglandAge_g2  \\\n",
       "0           0.0           0.0  ...                                0.0   \n",
       "1           0.0           0.0  ...                                0.0   \n",
       "2           0.0           0.0  ...                                0.0   \n",
       "3           0.0           0.0  ...                                0.0   \n",
       "4           0.0           1.0  ...                                0.0   \n",
       "\n",
       "   YearCountryAge_Y2016EnglandAge_g3  YearCountryAge_Y2016WalesAge_g1  \\\n",
       "0                                0.0                              0.0   \n",
       "1                                1.0                              0.0   \n",
       "2                                0.0                              0.0   \n",
       "3                                0.0                              0.0   \n",
       "4                                1.0                              0.0   \n",
       "\n",
       "   YearCountryAge_Y2016WalesAge_g2  YearCountryAge_Y2016WalesAge_g3  \\\n",
       "0                              1.0                              0.0   \n",
       "1                              0.0                              0.0   \n",
       "2                              0.0                              0.0   \n",
       "3                              0.0                              0.0   \n",
       "4                              0.0                              0.0   \n",
       "\n",
       "   YearCountryAge_nan   ObsSize   FemaleN     MaleN  y  \n",
       "0                 0.0 -0.474255 -1.160118  0.858181  1  \n",
       "1                 0.0 -0.474255  0.589356 -0.999109  1  \n",
       "2                 0.0 -0.474255  0.589356 -0.999109  1  \n",
       "3                 1.0  1.794531  0.589356  0.858181  1  \n",
       "4                 0.0 -0.474255 -1.160118  0.858181  0  \n",
       "\n",
       "[5 rows x 86 columns]"
      ]
     },
     "execution_count": 2,
     "metadata": {},
     "output_type": "execute_result"
    }
   ],
   "source": [
    "df_tt_train.head()"
   ]
  },
  {
   "cell_type": "code",
   "execution_count": 3,
   "id": "ba6d25b5-4243-4c0c-91ba-dc1d1fb404a1",
   "metadata": {},
   "outputs": [],
   "source": [
    "X_tt_train = df_tt_train.iloc[:,0:-1].to_numpy()\n",
    "y_tt_train = df_tt_train[\"y\"].to_numpy()\n",
    "\n",
    "X_tt_test = df_tt_test.iloc[:,0:-1].to_numpy()\n",
    "y_tt_test = df_tt_test[\"y\"].to_numpy()\n",
    "\n",
    "X_tt_train = np.ascontiguousarray(X_tt_train)\n",
    "y_tt_train = np.ascontiguousarray(y_tt_train)\n",
    "X_tt_test = np.ascontiguousarray(X_tt_test)\n",
    "y_tt_test = np.ascontiguousarray(y_tt_test)"
   ]
  },
  {
   "cell_type": "markdown",
   "id": "2eaded25-6510-492b-8d50-48662648189d",
   "metadata": {},
   "source": [
    "### Random Forest, Default Parameter"
   ]
  },
  {
   "cell_type": "code",
   "execution_count": 4,
   "id": "1861c81b-bd2e-43f5-af24-82d1bdaa62cd",
   "metadata": {},
   "outputs": [
    {
     "name": "stdout",
     "output_type": "stream",
     "text": [
      "Wall time: 158 ms\n"
     ]
    },
    {
     "data": {
      "text/plain": [
       "RandomForestClassifier(class_weight='balanced', n_jobs=-2, random_state=132)"
      ]
     },
     "execution_count": 4,
     "metadata": {},
     "output_type": "execute_result"
    }
   ],
   "source": [
    "%%time\n",
    "\n",
    "random_state = 132\n",
    "RFC_default = RandomForestClassifier(random_state= random_state, \n",
    "                                     n_jobs = -2, \n",
    "                                     class_weight = \"balanced\")\n",
    "RFC_default.fit(X_tt_train, y_tt_train)"
   ]
  },
  {
   "cell_type": "code",
   "execution_count": 5,
   "id": "933cc4ec-e940-4f28-b286-8c70ef7289fc",
   "metadata": {},
   "outputs": [
    {
     "data": {
      "text/plain": [
       "{'bootstrap': True,\n",
       " 'ccp_alpha': 0.0,\n",
       " 'class_weight': 'balanced',\n",
       " 'criterion': 'gini',\n",
       " 'max_depth': None,\n",
       " 'max_features': 'auto',\n",
       " 'max_leaf_nodes': None,\n",
       " 'max_samples': None,\n",
       " 'min_impurity_decrease': 0.0,\n",
       " 'min_impurity_split': None,\n",
       " 'min_samples_leaf': 1,\n",
       " 'min_samples_split': 2,\n",
       " 'min_weight_fraction_leaf': 0.0,\n",
       " 'n_estimators': 100,\n",
       " 'n_jobs': -2,\n",
       " 'oob_score': False,\n",
       " 'random_state': 132,\n",
       " 'verbose': 0,\n",
       " 'warm_start': False}"
      ]
     },
     "execution_count": 5,
     "metadata": {},
     "output_type": "execute_result"
    }
   ],
   "source": [
    "RFC_default.get_params()"
   ]
  },
  {
   "cell_type": "code",
   "execution_count": 6,
   "id": "a8567cbe-6b9c-4c20-a450-cfcde1e4b65b",
   "metadata": {},
   "outputs": [],
   "source": [
    "y_pred_default = RFC_default.predict(X_tt_test)"
   ]
  },
  {
   "cell_type": "code",
   "execution_count": 7,
   "id": "20c26632-96e8-4255-af9f-5e00227fcc1e",
   "metadata": {},
   "outputs": [
    {
     "name": "stdout",
     "output_type": "stream",
     "text": [
      "0.6376158940397352\n",
      "0.6843501326259946\n"
     ]
    }
   ],
   "source": [
    "print(balanced_accuracy_score(y_tt_test, y_pred_default))\n",
    "print(accuracy_score(y_tt_test, y_pred_default))"
   ]
  },
  {
   "cell_type": "code",
   "execution_count": 8,
   "id": "d0566c3b-5593-4687-9afd-4b6d254e8334",
   "metadata": {},
   "outputs": [],
   "source": [
    "n_est = [1, 2, 5, 10, 20, 50, 100, 150, 200, 250, 300]\n",
    "accuracy_by_n = []\n",
    "random_state = 24\n",
    "\n",
    "for each_n in n_est:\n",
    "    RFC_default = RandomForestClassifier(n_estimators = each_n,\n",
    "                                         random_state= random_state, \n",
    "                                         n_jobs = -2, \n",
    "                                         class_weight = \"balanced\", criterion = \"gini\")\n",
    "    RFC_default.fit(X_tt_train, y_tt_train)\n",
    "    y_pred_default = RFC_default.predict(X_tt_test)\n",
    "    accuracy_by_n.append(balanced_accuracy_score(y_tt_test, y_pred_default))"
   ]
  },
  {
   "cell_type": "code",
   "execution_count": 9,
   "id": "29153b06-1550-43e0-9964-10061f9a904a",
   "metadata": {},
   "outputs": [
    {
     "data": {
      "text/plain": [
       "[(1, 0.5813245033112583),\n",
       " (2, 0.587858719646799),\n",
       " (5, 0.6044150110375276),\n",
       " (10, 0.6194039735099338),\n",
       " (20, 0.6126931567328918),\n",
       " (50, 0.6376158940397352),\n",
       " (100, 0.6326490066225166),\n",
       " (150, 0.6359602649006623),\n",
       " (200, 0.6309933774834438),\n",
       " (250, 0.6326490066225166),\n",
       " (300, 0.629337748344371)]"
      ]
     },
     "execution_count": 9,
     "metadata": {},
     "output_type": "execute_result"
    }
   ],
   "source": [
    "list(zip(n_est, accuracy_by_n))"
   ]
  },
  {
   "cell_type": "markdown",
   "id": "c60e507f-1770-4fe8-99bc-5ee940652879",
   "metadata": {},
   "source": [
    "### Random Forest, Grid Search"
   ]
  },
  {
   "cell_type": "code",
   "execution_count": 10,
   "id": "6d215c00-e1a8-4f1b-bf4d-837b50b04831",
   "metadata": {},
   "outputs": [
    {
     "data": {
      "text/plain": [
       "RandomForestClassifier(class_weight='balanced', n_jobs=1, random_state=132)"
      ]
     },
     "execution_count": 10,
     "metadata": {},
     "output_type": "execute_result"
    }
   ],
   "source": [
    "random_state = 132\n",
    "RFC_grid = RandomForestClassifier(n_estimators = 100,\n",
    "                                  random_state= random_state, \n",
    "                                  n_jobs = 1, \n",
    "                                  class_weight = \"balanced\")\n",
    "RFC_grid"
   ]
  },
  {
   "cell_type": "code",
   "execution_count": 11,
   "id": "4593bbba-e7f2-476b-941e-b1a3347e1672",
   "metadata": {},
   "outputs": [
    {
     "data": {
      "text/plain": [
       "GridSearchCV(cv=5,\n",
       "             estimator=RandomForestClassifier(class_weight='balanced', n_jobs=1,\n",
       "                                              random_state=132),\n",
       "             n_jobs=-2,\n",
       "             param_grid={'max_depth': [3, 4, 5, 6, 8, None],\n",
       "                         'max_features': [0.3, 0.35, 0.4, 0.45, 0.5, 0.55, 0.6,\n",
       "                                          0.65, None],\n",
       "                         'min_samples_split': [2, 3, 4, 5, 6, 7]},\n",
       "             scoring='balanced_accuracy', verbose=4)"
      ]
     },
     "execution_count": 11,
     "metadata": {},
     "output_type": "execute_result"
    }
   ],
   "source": [
    "params_RFC = {'max_features': [0.3, 0.35, 0.4, 0.45, 0.5, 0.55, 0.6, 0.65, None],\n",
    "              'max_depth': [3, 4, 5, 6, 8, None],\n",
    "              'min_samples_split': [2, 3, 4, 5, 6, 7]}\n",
    "\n",
    "gridCV_rfc = GridSearchCV(estimator = RFC_grid, \n",
    "                          param_grid = params_RFC, \n",
    "                          scoring = 'balanced_accuracy', \n",
    "                          n_jobs = -2,\n",
    "                          refit = True, \n",
    "                          cv = 5, verbose = 4)\n",
    "gridCV_rfc"
   ]
  },
  {
   "cell_type": "code",
   "execution_count": 12,
   "id": "97c449dd-e73d-4f8f-a10f-f9c675809e72",
   "metadata": {},
   "outputs": [
    {
     "name": "stdout",
     "output_type": "stream",
     "text": [
      "Fitting 5 folds for each of 324 candidates, totalling 1620 fits\n",
      "Wall time: 1min 42s\n"
     ]
    },
    {
     "data": {
      "text/plain": [
       "GridSearchCV(cv=5,\n",
       "             estimator=RandomForestClassifier(class_weight='balanced', n_jobs=1,\n",
       "                                              random_state=132),\n",
       "             n_jobs=-2,\n",
       "             param_grid={'max_depth': [3, 4, 5, 6, 8, None],\n",
       "                         'max_features': [0.3, 0.35, 0.4, 0.45, 0.5, 0.55, 0.6,\n",
       "                                          0.65, None],\n",
       "                         'min_samples_split': [2, 3, 4, 5, 6, 7]},\n",
       "             scoring='balanced_accuracy', verbose=4)"
      ]
     },
     "execution_count": 12,
     "metadata": {},
     "output_type": "execute_result"
    }
   ],
   "source": [
    "%%time \n",
    "gridCV_rfc.fit(X_tt_train, y_tt_train)"
   ]
  },
  {
   "cell_type": "code",
   "execution_count": 13,
   "id": "b54b4cce-1a4f-4117-8ca3-2929f2a8db46",
   "metadata": {},
   "outputs": [
    {
     "data": {
      "text/plain": [
       "{'max_depth': 4, 'max_features': 0.4, 'min_samples_split': 5}"
      ]
     },
     "execution_count": 13,
     "metadata": {},
     "output_type": "execute_result"
    }
   ],
   "source": [
    "y_pred_rfc = gridCV_rfc.predict(X_tt_test)\n",
    "gridCV_rfc.best_params_"
   ]
  },
  {
   "cell_type": "code",
   "execution_count": 14,
   "id": "551c5b9a-29fe-4f25-ab0c-e12f6eb9fd71",
   "metadata": {},
   "outputs": [
    {
     "name": "stdout",
     "output_type": "stream",
     "text": [
      "0.6891169977924945\n",
      "0.7347480106100795\n"
     ]
    }
   ],
   "source": [
    "print(balanced_accuracy_score(y_tt_test, y_pred_rfc))\n",
    "print(accuracy_score(y_tt_test, y_pred_rfc))"
   ]
  },
  {
   "cell_type": "code",
   "execution_count": 15,
   "id": "1d1164f9-6717-48a7-9754-ed02b2cbd62f",
   "metadata": {},
   "outputs": [
    {
     "data": {
      "text/plain": [
       "0.6873183740495771"
      ]
     },
     "execution_count": 15,
     "metadata": {},
     "output_type": "execute_result"
    }
   ],
   "source": [
    "gridCV_rfc.best_score_"
   ]
  },
  {
   "cell_type": "code",
   "execution_count": 16,
   "id": "dd93e939-a1f7-4114-8a63-977e92d8431b",
   "metadata": {},
   "outputs": [],
   "source": [
    "import json\n",
    "\n",
    "rfc_params = {\"rfc\": gridCV_rfc.best_params_}\n",
    "\n",
    "with open(\"../results/rfc_params.json\", \"w\") as outfile:\n",
    "    json.dump(rfc_params, outfile)\n",
    "    \n",
    "# with open(\"logistic.json\", \"r\") as readfile:\n",
    "#     dict_data = json.load(readfile)"
   ]
  },
  {
   "cell_type": "code",
   "execution_count": 17,
   "id": "88713e2a-fb97-4578-a28e-e1db0b5a3a58",
   "metadata": {},
   "outputs": [],
   "source": [
    "from sklearn.metrics import confusion_matrix, ConfusionMatrixDisplay\n",
    "\n",
    "def custom_confusin_matrix(y_test, y_pred, model_name):\n",
    "    c_labels = [0, 1] \n",
    "    c_disp_labels = [\"Not Green\", \"Green\"]\n",
    "\n",
    "    c_matrix = confusion_matrix(y_test, y_pred,\n",
    "                                labels = c_labels)\n",
    "    c_mat_display = ConfusionMatrixDisplay(confusion_matrix = c_matrix,\n",
    "                                           display_labels = c_disp_labels)\n",
    "\n",
    "    fig_con, ax_con = plt.subplots()\n",
    "\n",
    "    c_mat_display.plot(ax = ax_con, cmap = \"PuBu\")\n",
    "    ax_con.set_xlabel(ax_con.get_xlabel(), fontsize = 16)\n",
    "    ax_con.set_ylabel(ax_con.get_ylabel(), fontsize = 16)\n",
    "    ax_con.set_title(model_name, fontsize = 18)\n",
    "\n",
    "    text_artists = ax_con.get_children()[0:4]\n",
    "    for each_text in text_artists:\n",
    "        each_text.set_fontsize(14)\n",
    "\n",
    "    ax_con.set_xticks(ax_con.get_xticks())\n",
    "    ax_con.set_xticklabels(c_disp_labels, fontsize = 14)\n",
    "\n",
    "    ax_con.set_yticks(ax_con.get_xticks())\n",
    "    ax_con.set_yticklabels(c_disp_labels, fontsize = 14)\n",
    "\n",
    "    fig_con.set_size_inches([8, 6])\n",
    "    \n",
    "    return fig_con, ax_con\n"
   ]
  },
  {
   "cell_type": "code",
   "execution_count": 20,
   "id": "d0ac1617-67e3-4194-ae2a-1a3777e5423d",
   "metadata": {},
   "outputs": [
    {
     "data": {
      "image/png": "[encoded data removed]",
      "text/plain": [
       "<Figure size 576x432 with 2 Axes>"
      ]
     },
     "metadata": {
      "needs_background": "light"
     },
     "output_type": "display_data"
    },
    {
     "data": {
      "image/png": "[encoded data removed]",
      "text/plain": [
       "<Figure size 576x432 with 2 Axes>"
      ]
     },
     "metadata": {
      "needs_background": "light"
     },
     "output_type": "display_data"
    }
   ],
   "source": [
    "fig_con_de, ax_con_de = custom_confusin_matrix(y_tt_test, y_pred_default, \"Random Forest, default\")\n",
    "fig_con_rfc, ax_con_rfc = custom_confusin_matrix(y_tt_test, y_pred_rfc, \"Random Forest\")\n",
    "\n",
    "\n",
    "cm_figs = [fig_con_de, fig_con_rfc]\n",
    "fig_file_names = [\"CM Random Forest, default\", \"CM Random Forest\"]\n",
    "\n",
    "# save_figures\n",
    "if save_figures:\n",
    "    for each_f, each_n in zip(cm_figs, fig_file_names):\n",
    "        fig_name = f\"{figure_path}{each_n}\"\n",
    "        each_f.savefig(f\"{fig_name}.pdf\", \n",
    "                       dpi = 300, \n",
    "                       bbox_inches=\"tight\")\n",
    "        each_f.savefig(f\"{fig_name}.png\", \n",
    "                       dpi = 300, \n",
    "                       bbox_inches=\"tight\")\n",
    "        each_f.savefig(f\"{fig_name}.svg\", \n",
    "                       dpi = 300, \n",
    "                        bbox_inches=\"tight\")"
   ]
  },
  {
   "cell_type": "code",
   "execution_count": null,
   "id": "2eb1ffd8-6be3-4379-a465-2e7ddff0d8ca",
   "metadata": {},
   "outputs": [],
   "source": []
  }
 ],
 "metadata": {
  "kernelspec": {
   "display_name": "Python 3 (ipykernel)",
   "language": "python",
   "name": "python3"
  },
  "language_info": {
   "codemirror_mode": {
    "name": "ipython",
    "version": 3
   },
   "file_extension": ".py",
   "mimetype": "text/x-python",
   "name": "python",
   "nbconvert_exporter": "python",
   "pygments_lexer": "ipython3",
   "version": "3.9.7"
  }
 },
 "nbformat": 4,
 "nbformat_minor": 5
}
