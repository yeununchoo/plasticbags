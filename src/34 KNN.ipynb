{
 "cells": [
  {
   "cell_type": "markdown",
   "id": "9500a59d-c5b4-445f-95c3-569ead697c45",
   "metadata": {},
   "source": [
    "## Model 4: K Nearest Neighbors"
   ]
  },
  {
   "cell_type": "code",
   "execution_count": 1,
   "id": "29a906e8-4e30-4472-9090-011bbf9cd0a3",
   "metadata": {},
   "outputs": [],
   "source": [
    "import pandas as pd\n",
    "import numpy as np\n",
    "import time\n",
    "\n",
    "import matplotlib as mpl\n",
    "import matplotlib.pyplot as plt\n",
    "\n",
    "# from sklearn.linear_model import LogisticRegression\n",
    "# from sklearn.metrics import roc_curve, auc, RocCurveDisplay\n",
    "from sklearn.neighbors import KNeighborsClassifier\n",
    "from sklearn.metrics import balanced_accuracy_score\n",
    "from sklearn.metrics import accuracy_score\n",
    "\n",
    "from sklearn.model_selection import GridSearchCV\n",
    "from sklearn.model_selection import train_test_split\n",
    "\n",
    "save_figures = False\n",
    "figure_path = \"../figures/models/\"\n",
    "# df_init = pd.read_parquet(\"../data/init.parquet\")\n",
    "# df_before = pd.read_parquet(\"../data/before_split.parquet\")\n",
    "# df_train = pd.read_parquet(\"../data/prep_train.parquet\")\n",
    "# df_val = pd.read_parquet(\"../data/prep_val.parquet\")\n",
    "# df_test = pd.read_parquet(\"../data/prep_test.parquet\")\n",
    "# df_tt_train = pd.read_parquet(\"../data/prep_tt_train.parquet\")\n",
    "# df_tt_test = pd.read_parquet(\"../data/prep_tt_test.parquet\")\n",
    "df_all = pd.read_parquet(\"../data/prep_all.parquet\")"
   ]
  },
  {
   "cell_type": "code",
   "execution_count": 2,
   "id": "fcad624e-08ea-4b2a-81a5-98bfab72ab7b",
   "metadata": {},
   "outputs": [
    {
     "data": {
      "text/html": [
       "<div>\n",
       "<style scoped>\n",
       "    .dataframe tbody tr th:only-of-type {\n",
       "        vertical-align: middle;\n",
       "    }\n",
       "\n",
       "    .dataframe tbody tr th {\n",
       "        vertical-align: top;\n",
       "    }\n",
       "\n",
       "    .dataframe thead th {\n",
       "        text-align: right;\n",
       "    }\n",
       "</style>\n",
       "<table border=\"1\" class=\"dataframe\">\n",
       "  <thead>\n",
       "    <tr style=\"text-align: right;\">\n",
       "      <th></th>\n",
       "      <th>Year_Y2015</th>\n",
       "      <th>Year_Y2016</th>\n",
       "      <th>Country_England</th>\n",
       "      <th>Country_Wales</th>\n",
       "      <th>Supermarket_Asda</th>\n",
       "      <th>Supermarket_Tesco Extra</th>\n",
       "      <th>Supermarket_Tesco Metro</th>\n",
       "      <th>Supermarket_Waitrose</th>\n",
       "      <th>Time_Evening</th>\n",
       "      <th>Time_Morning</th>\n",
       "      <th>...</th>\n",
       "      <th>YearCountryAge_Y2016EnglandAge_g2</th>\n",
       "      <th>YearCountryAge_Y2016EnglandAge_g3</th>\n",
       "      <th>YearCountryAge_Y2016WalesAge_g1</th>\n",
       "      <th>YearCountryAge_Y2016WalesAge_g2</th>\n",
       "      <th>YearCountryAge_Y2016WalesAge_g3</th>\n",
       "      <th>YearCountryAge_nan</th>\n",
       "      <th>ObsSize</th>\n",
       "      <th>FemaleN</th>\n",
       "      <th>MaleN</th>\n",
       "      <th>y</th>\n",
       "    </tr>\n",
       "  </thead>\n",
       "  <tbody>\n",
       "    <tr>\n",
       "      <th>0</th>\n",
       "      <td>0.0</td>\n",
       "      <td>1.0</td>\n",
       "      <td>0.0</td>\n",
       "      <td>1.0</td>\n",
       "      <td>0.0</td>\n",
       "      <td>0.0</td>\n",
       "      <td>1.0</td>\n",
       "      <td>0.0</td>\n",
       "      <td>0.0</td>\n",
       "      <td>1.0</td>\n",
       "      <td>...</td>\n",
       "      <td>0.0</td>\n",
       "      <td>0.0</td>\n",
       "      <td>0.0</td>\n",
       "      <td>1.0</td>\n",
       "      <td>0.0</td>\n",
       "      <td>0.0</td>\n",
       "      <td>-0.471136</td>\n",
       "      <td>-1.156159</td>\n",
       "      <td>0.871226</td>\n",
       "      <td>1</td>\n",
       "    </tr>\n",
       "    <tr>\n",
       "      <th>1</th>\n",
       "      <td>0.0</td>\n",
       "      <td>1.0</td>\n",
       "      <td>0.0</td>\n",
       "      <td>1.0</td>\n",
       "      <td>0.0</td>\n",
       "      <td>0.0</td>\n",
       "      <td>1.0</td>\n",
       "      <td>0.0</td>\n",
       "      <td>0.0</td>\n",
       "      <td>1.0</td>\n",
       "      <td>...</td>\n",
       "      <td>0.0</td>\n",
       "      <td>0.0</td>\n",
       "      <td>0.0</td>\n",
       "      <td>1.0</td>\n",
       "      <td>0.0</td>\n",
       "      <td>0.0</td>\n",
       "      <td>-0.471136</td>\n",
       "      <td>-1.156159</td>\n",
       "      <td>0.871226</td>\n",
       "      <td>1</td>\n",
       "    </tr>\n",
       "    <tr>\n",
       "      <th>2</th>\n",
       "      <td>0.0</td>\n",
       "      <td>1.0</td>\n",
       "      <td>0.0</td>\n",
       "      <td>1.0</td>\n",
       "      <td>0.0</td>\n",
       "      <td>0.0</td>\n",
       "      <td>1.0</td>\n",
       "      <td>0.0</td>\n",
       "      <td>0.0</td>\n",
       "      <td>1.0</td>\n",
       "      <td>...</td>\n",
       "      <td>0.0</td>\n",
       "      <td>0.0</td>\n",
       "      <td>1.0</td>\n",
       "      <td>0.0</td>\n",
       "      <td>0.0</td>\n",
       "      <td>0.0</td>\n",
       "      <td>-0.471136</td>\n",
       "      <td>0.583858</td>\n",
       "      <td>-0.993069</td>\n",
       "      <td>1</td>\n",
       "    </tr>\n",
       "    <tr>\n",
       "      <th>3</th>\n",
       "      <td>0.0</td>\n",
       "      <td>1.0</td>\n",
       "      <td>0.0</td>\n",
       "      <td>1.0</td>\n",
       "      <td>0.0</td>\n",
       "      <td>0.0</td>\n",
       "      <td>1.0</td>\n",
       "      <td>0.0</td>\n",
       "      <td>0.0</td>\n",
       "      <td>1.0</td>\n",
       "      <td>...</td>\n",
       "      <td>0.0</td>\n",
       "      <td>0.0</td>\n",
       "      <td>0.0</td>\n",
       "      <td>0.0</td>\n",
       "      <td>0.0</td>\n",
       "      <td>1.0</td>\n",
       "      <td>1.811174</td>\n",
       "      <td>2.323876</td>\n",
       "      <td>-0.993069</td>\n",
       "      <td>1</td>\n",
       "    </tr>\n",
       "    <tr>\n",
       "      <th>4</th>\n",
       "      <td>0.0</td>\n",
       "      <td>1.0</td>\n",
       "      <td>0.0</td>\n",
       "      <td>1.0</td>\n",
       "      <td>0.0</td>\n",
       "      <td>0.0</td>\n",
       "      <td>1.0</td>\n",
       "      <td>0.0</td>\n",
       "      <td>0.0</td>\n",
       "      <td>1.0</td>\n",
       "      <td>...</td>\n",
       "      <td>0.0</td>\n",
       "      <td>0.0</td>\n",
       "      <td>0.0</td>\n",
       "      <td>0.0</td>\n",
       "      <td>1.0</td>\n",
       "      <td>0.0</td>\n",
       "      <td>-0.471136</td>\n",
       "      <td>0.583858</td>\n",
       "      <td>-0.993069</td>\n",
       "      <td>1</td>\n",
       "    </tr>\n",
       "  </tbody>\n",
       "</table>\n",
       "<p>5 rows × 86 columns</p>\n",
       "</div>"
      ],
      "text/plain": [
       "   Year_Y2015  Year_Y2016  Country_England  Country_Wales  Supermarket_Asda  \\\n",
       "0         0.0         1.0              0.0            1.0               0.0   \n",
       "1         0.0         1.0              0.0            1.0               0.0   \n",
       "2         0.0         1.0              0.0            1.0               0.0   \n",
       "3         0.0         1.0              0.0            1.0               0.0   \n",
       "4         0.0         1.0              0.0            1.0               0.0   \n",
       "\n",
       "   Supermarket_Tesco Extra  Supermarket_Tesco Metro  Supermarket_Waitrose  \\\n",
       "0                      0.0                      1.0                   0.0   \n",
       "1                      0.0                      1.0                   0.0   \n",
       "2                      0.0                      1.0                   0.0   \n",
       "3                      0.0                      1.0                   0.0   \n",
       "4                      0.0                      1.0                   0.0   \n",
       "\n",
       "   Time_Evening  Time_Morning  ...  YearCountryAge_Y2016EnglandAge_g2  \\\n",
       "0           0.0           1.0  ...                                0.0   \n",
       "1           0.0           1.0  ...                                0.0   \n",
       "2           0.0           1.0  ...                                0.0   \n",
       "3           0.0           1.0  ...                                0.0   \n",
       "4           0.0           1.0  ...                                0.0   \n",
       "\n",
       "   YearCountryAge_Y2016EnglandAge_g3  YearCountryAge_Y2016WalesAge_g1  \\\n",
       "0                                0.0                              0.0   \n",
       "1                                0.0                              0.0   \n",
       "2                                0.0                              1.0   \n",
       "3                                0.0                              0.0   \n",
       "4                                0.0                              0.0   \n",
       "\n",
       "   YearCountryAge_Y2016WalesAge_g2  YearCountryAge_Y2016WalesAge_g3  \\\n",
       "0                              1.0                              0.0   \n",
       "1                              1.0                              0.0   \n",
       "2                              0.0                              0.0   \n",
       "3                              0.0                              0.0   \n",
       "4                              0.0                              1.0   \n",
       "\n",
       "   YearCountryAge_nan   ObsSize   FemaleN     MaleN  y  \n",
       "0                 0.0 -0.471136 -1.156159  0.871226  1  \n",
       "1                 0.0 -0.471136 -1.156159  0.871226  1  \n",
       "2                 0.0 -0.471136  0.583858 -0.993069  1  \n",
       "3                 1.0  1.811174  2.323876 -0.993069  1  \n",
       "4                 0.0 -0.471136  0.583858 -0.993069  1  \n",
       "\n",
       "[5 rows x 86 columns]"
      ]
     },
     "execution_count": 2,
     "metadata": {},
     "output_type": "execute_result"
    }
   ],
   "source": [
    "df_all.head()"
   ]
  },
  {
   "cell_type": "code",
   "execution_count": 3,
   "id": "ba6d25b5-4243-4c0c-91ba-dc1d1fb404a1",
   "metadata": {},
   "outputs": [],
   "source": [
    "X_all = df_all.iloc[:,0:-1].to_numpy()\n",
    "y_all = df_all[\"y\"].to_numpy()"
   ]
  },
  {
   "cell_type": "markdown",
   "id": "c60e507f-1770-4fe8-99bc-5ee940652879",
   "metadata": {},
   "source": [
    "### KNN, Grid Search"
   ]
  },
  {
   "cell_type": "code",
   "execution_count": 4,
   "id": "6d215c00-e1a8-4f1b-bf4d-837b50b04831",
   "metadata": {},
   "outputs": [
    {
     "data": {
      "text/plain": [
       "KNeighborsClassifier(n_jobs=1)"
      ]
     },
     "execution_count": 4,
     "metadata": {},
     "output_type": "execute_result"
    }
   ],
   "source": [
    "random_state = 132\n",
    "KNN_grid = KNeighborsClassifier(n_jobs = 1)\n",
    "KNN_grid"
   ]
  },
  {
   "cell_type": "code",
   "execution_count": 5,
   "id": "4593bbba-e7f2-476b-941e-b1a3347e1672",
   "metadata": {},
   "outputs": [
    {
     "data": {
      "text/plain": [
       "GridSearchCV(cv=5, estimator=KNeighborsClassifier(n_jobs=1), n_jobs=-2,\n",
       "             param_grid={'n_neighbors': [2, 3, 5, 8, 9, 10, 11, 12, 15, 30],\n",
       "                         'weights': ['uniform', 'distance']},\n",
       "             scoring='balanced_accuracy', verbose=4)"
      ]
     },
     "execution_count": 5,
     "metadata": {},
     "output_type": "execute_result"
    }
   ],
   "source": [
    "params_KNN = {'n_neighbors': [2, 3, 5, 8, 9, 10, 11, 12, 15, 30], \n",
    "              'weights': ['uniform', 'distance']}\n",
    "\n",
    "random_states_split = [123, 456, 789, \n",
    "                       741, 852, 963, \n",
    "                       159, 753, 951, 357]\n",
    "\n",
    "gridCV_knn = GridSearchCV(estimator = KNN_grid, \n",
    "                          param_grid = params_KNN, \n",
    "                          scoring = 'balanced_accuracy', \n",
    "                          n_jobs = -2,\n",
    "                          refit = True, \n",
    "                          cv = 5, verbose = 4)\n",
    "gridCV_knn"
   ]
  },
  {
   "cell_type": "code",
   "execution_count": 6,
   "id": "97c449dd-e73d-4f8f-a10f-f9c675809e72",
   "metadata": {},
   "outputs": [
    {
     "name": "stdout",
     "output_type": "stream",
     "text": [
      "Fitting 5 folds for each of 20 candidates, totalling 100 fits\n",
      "{'n_neighbors': 12, 'weights': 'uniform'}\n",
      "Iteration 123: 2.659 seconds\n",
      "Fitting 5 folds for each of 20 candidates, totalling 100 fits\n",
      "{'n_neighbors': 8, 'weights': 'uniform'}\n",
      "Iteration 456: 1.344 seconds\n",
      "Fitting 5 folds for each of 20 candidates, totalling 100 fits\n",
      "{'n_neighbors': 8, 'weights': 'distance'}\n",
      "Iteration 789: 1.356 seconds\n",
      "Fitting 5 folds for each of 20 candidates, totalling 100 fits\n",
      "{'n_neighbors': 2, 'weights': 'uniform'}\n",
      "Iteration 741: 1.348 seconds\n",
      "Fitting 5 folds for each of 20 candidates, totalling 100 fits\n",
      "{'n_neighbors': 8, 'weights': 'uniform'}\n",
      "Iteration 852: 1.345 seconds\n",
      "Fitting 5 folds for each of 20 candidates, totalling 100 fits\n",
      "{'n_neighbors': 2, 'weights': 'uniform'}\n",
      "Iteration 963: 1.315 seconds\n",
      "Fitting 5 folds for each of 20 candidates, totalling 100 fits\n",
      "{'n_neighbors': 2, 'weights': 'uniform'}\n",
      "Iteration 159: 1.386 seconds\n",
      "Fitting 5 folds for each of 20 candidates, totalling 100 fits\n",
      "{'n_neighbors': 8, 'weights': 'uniform'}\n",
      "Iteration 753: 1.384 seconds\n",
      "Fitting 5 folds for each of 20 candidates, totalling 100 fits\n",
      "{'n_neighbors': 2, 'weights': 'uniform'}\n",
      "Iteration 951: 1.354 seconds\n",
      "Fitting 5 folds for each of 20 candidates, totalling 100 fits\n",
      "{'n_neighbors': 2, 'weights': 'uniform'}\n",
      "Iteration 357: 1.368 seconds\n",
      "Wall time: 14.9 s\n"
     ]
    }
   ],
   "source": [
    "%%time\n",
    "\n",
    "BalAccuracy_knn = []\n",
    "\n",
    "for each_rs in random_states_split:\n",
    "    start_time = time.time()\n",
    "    X_other_temp, X_test_temp, y_other_temp, y_test_temp = \\\n",
    "        train_test_split(X_all, y_all, \n",
    "                         test_size = 0.1, \n",
    "                         random_state = each_rs, \n",
    "                         stratify = y_all)\n",
    "    \n",
    "    gridCV_knn.fit(X_other_temp, y_other_temp)\n",
    "    \n",
    "    BalAccuracy_knn.append(gridCV_knn.best_score_)\n",
    "    \n",
    "    print(gridCV_knn.best_params_, flush = True)\n",
    "    \n",
    "    end_time = time.time()\n",
    "    print(f\"Iteration {each_rs}: {end_time - start_time:.3f} seconds\", flush = True)"
   ]
  },
  {
   "cell_type": "code",
   "execution_count": 7,
   "id": "b54b4cce-1a4f-4117-8ca3-2929f2a8db46",
   "metadata": {},
   "outputs": [
    {
     "data": {
      "text/plain": [
       "{'n_neighbors': 2, 'weights': 'uniform'}"
      ]
     },
     "execution_count": 7,
     "metadata": {},
     "output_type": "execute_result"
    }
   ],
   "source": [
    "gridCV_knn.best_params_"
   ]
  },
  {
   "cell_type": "code",
   "execution_count": 8,
   "id": "551c5b9a-29fe-4f25-ab0c-e12f6eb9fd71",
   "metadata": {},
   "outputs": [
    {
     "name": "stdout",
     "output_type": "stream",
     "text": [
      "0.6151 (0.0101)\n"
     ]
    }
   ],
   "source": [
    "print(f\"{np.mean(BalAccuracy_knn):.4f} ({np.std(BalAccuracy_knn):.4f})\")"
   ]
  },
  {
   "cell_type": "code",
   "execution_count": 9,
   "id": "dd93e939-a1f7-4114-8a63-977e92d8431b",
   "metadata": {},
   "outputs": [],
   "source": [
    "import json\n",
    "\n",
    "knn_scores = {\"knn\": BalAccuracy_knn}\n",
    "\n",
    "with open(\"../results/knn_scores.json\", \"w\") as outfile:\n",
    "    json.dump(knn_scores, outfile)\n",
    "    \n",
    "# with open(\"logistic.json\", \"r\") as readfile:\n",
    "#     dict_data = json.load(readfile)"
   ]
  },
  {
   "cell_type": "code",
   "execution_count": null,
   "id": "6b7e13c8-bb49-49dd-9d5c-7d336bb412f5",
   "metadata": {},
   "outputs": [],
   "source": []
  }
 ],
 "metadata": {
  "kernelspec": {
   "display_name": "Python 3 (ipykernel)",
   "language": "python",
   "name": "python3"
  },
  "language_info": {
   "codemirror_mode": {
    "name": "ipython",
    "version": 3
   },
   "file_extension": ".py",
   "mimetype": "text/x-python",
   "name": "python",
   "nbconvert_exporter": "python",
   "pygments_lexer": "ipython3",
   "version": "3.9.7"
  }
 },
 "nbformat": 4,
 "nbformat_minor": 5
}
