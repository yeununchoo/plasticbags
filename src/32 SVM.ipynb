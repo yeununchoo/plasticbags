{
 "cells": [
  {
   "cell_type": "markdown",
   "id": "9500a59d-c5b4-445f-95c3-569ead697c45",
   "metadata": {},
   "source": [
    "## Model 2: Support Vector Machines"
   ]
  },
  {
   "cell_type": "code",
   "execution_count": 1,
   "id": "29a906e8-4e30-4472-9090-011bbf9cd0a3",
   "metadata": {},
   "outputs": [],
   "source": [
    "import pandas as pd\n",
    "import numpy as np\n",
    "import time\n",
    "\n",
    "import matplotlib as mpl\n",
    "import matplotlib.pyplot as plt\n",
    "\n",
    "# from sklearn.linear_model import LogisticRegression\n",
    "# from sklearn.metrics import roc_curve, auc, RocCurveDisplay\n",
    "from sklearn.svm import SVC\n",
    "from sklearn.metrics import balanced_accuracy_score\n",
    "from sklearn.metrics import accuracy_score\n",
    "\n",
    "from sklearn.model_selection import GridSearchCV\n",
    "from sklearn.model_selection import train_test_split\n",
    "\n",
    "save_figures = False\n",
    "figure_path = \"../figures/models/\"\n",
    "# df_init = pd.read_parquet(\"../data/init.parquet\")\n",
    "# df_before = pd.read_parquet(\"../data/before_split.parquet\")\n",
    "# df_train = pd.read_parquet(\"../data/prep_train.parquet\")\n",
    "# df_val = pd.read_parquet(\"../data/prep_val.parquet\")\n",
    "# df_test = pd.read_parquet(\"../data/prep_test.parquet\")\n",
    "# df_tt_train = pd.read_parquet(\"../data/prep_tt_train.parquet\")\n",
    "# df_tt_test = pd.read_parquet(\"../data/prep_tt_test.parquet\")\n",
    "df_all = pd.read_parquet(\"../data/prep_all.parquet\")"
   ]
  },
  {
   "cell_type": "code",
   "execution_count": 2,
   "id": "fcad624e-08ea-4b2a-81a5-98bfab72ab7b",
   "metadata": {},
   "outputs": [
    {
     "data": {
      "text/html": [
       "<div>\n",
       "<style scoped>\n",
       "    .dataframe tbody tr th:only-of-type {\n",
       "        vertical-align: middle;\n",
       "    }\n",
       "\n",
       "    .dataframe tbody tr th {\n",
       "        vertical-align: top;\n",
       "    }\n",
       "\n",
       "    .dataframe thead th {\n",
       "        text-align: right;\n",
       "    }\n",
       "</style>\n",
       "<table border=\"1\" class=\"dataframe\">\n",
       "  <thead>\n",
       "    <tr style=\"text-align: right;\">\n",
       "      <th></th>\n",
       "      <th>Year_Y2015</th>\n",
       "      <th>Year_Y2016</th>\n",
       "      <th>Country_England</th>\n",
       "      <th>Country_Wales</th>\n",
       "      <th>Supermarket_Asda</th>\n",
       "      <th>Supermarket_Tesco Extra</th>\n",
       "      <th>Supermarket_Tesco Metro</th>\n",
       "      <th>Supermarket_Waitrose</th>\n",
       "      <th>Time_Evening</th>\n",
       "      <th>Time_Morning</th>\n",
       "      <th>...</th>\n",
       "      <th>YearCountryAge_Y2016EnglandAge_g2</th>\n",
       "      <th>YearCountryAge_Y2016EnglandAge_g3</th>\n",
       "      <th>YearCountryAge_Y2016WalesAge_g1</th>\n",
       "      <th>YearCountryAge_Y2016WalesAge_g2</th>\n",
       "      <th>YearCountryAge_Y2016WalesAge_g3</th>\n",
       "      <th>YearCountryAge_nan</th>\n",
       "      <th>ObsSize</th>\n",
       "      <th>FemaleN</th>\n",
       "      <th>MaleN</th>\n",
       "      <th>y</th>\n",
       "    </tr>\n",
       "  </thead>\n",
       "  <tbody>\n",
       "    <tr>\n",
       "      <th>0</th>\n",
       "      <td>0.0</td>\n",
       "      <td>1.0</td>\n",
       "      <td>0.0</td>\n",
       "      <td>1.0</td>\n",
       "      <td>0.0</td>\n",
       "      <td>0.0</td>\n",
       "      <td>1.0</td>\n",
       "      <td>0.0</td>\n",
       "      <td>0.0</td>\n",
       "      <td>1.0</td>\n",
       "      <td>...</td>\n",
       "      <td>0.0</td>\n",
       "      <td>0.0</td>\n",
       "      <td>0.0</td>\n",
       "      <td>1.0</td>\n",
       "      <td>0.0</td>\n",
       "      <td>0.0</td>\n",
       "      <td>-0.471136</td>\n",
       "      <td>-1.156159</td>\n",
       "      <td>0.871226</td>\n",
       "      <td>1</td>\n",
       "    </tr>\n",
       "    <tr>\n",
       "      <th>1</th>\n",
       "      <td>0.0</td>\n",
       "      <td>1.0</td>\n",
       "      <td>0.0</td>\n",
       "      <td>1.0</td>\n",
       "      <td>0.0</td>\n",
       "      <td>0.0</td>\n",
       "      <td>1.0</td>\n",
       "      <td>0.0</td>\n",
       "      <td>0.0</td>\n",
       "      <td>1.0</td>\n",
       "      <td>...</td>\n",
       "      <td>0.0</td>\n",
       "      <td>0.0</td>\n",
       "      <td>0.0</td>\n",
       "      <td>1.0</td>\n",
       "      <td>0.0</td>\n",
       "      <td>0.0</td>\n",
       "      <td>-0.471136</td>\n",
       "      <td>-1.156159</td>\n",
       "      <td>0.871226</td>\n",
       "      <td>1</td>\n",
       "    </tr>\n",
       "    <tr>\n",
       "      <th>2</th>\n",
       "      <td>0.0</td>\n",
       "      <td>1.0</td>\n",
       "      <td>0.0</td>\n",
       "      <td>1.0</td>\n",
       "      <td>0.0</td>\n",
       "      <td>0.0</td>\n",
       "      <td>1.0</td>\n",
       "      <td>0.0</td>\n",
       "      <td>0.0</td>\n",
       "      <td>1.0</td>\n",
       "      <td>...</td>\n",
       "      <td>0.0</td>\n",
       "      <td>0.0</td>\n",
       "      <td>1.0</td>\n",
       "      <td>0.0</td>\n",
       "      <td>0.0</td>\n",
       "      <td>0.0</td>\n",
       "      <td>-0.471136</td>\n",
       "      <td>0.583858</td>\n",
       "      <td>-0.993069</td>\n",
       "      <td>1</td>\n",
       "    </tr>\n",
       "    <tr>\n",
       "      <th>3</th>\n",
       "      <td>0.0</td>\n",
       "      <td>1.0</td>\n",
       "      <td>0.0</td>\n",
       "      <td>1.0</td>\n",
       "      <td>0.0</td>\n",
       "      <td>0.0</td>\n",
       "      <td>1.0</td>\n",
       "      <td>0.0</td>\n",
       "      <td>0.0</td>\n",
       "      <td>1.0</td>\n",
       "      <td>...</td>\n",
       "      <td>0.0</td>\n",
       "      <td>0.0</td>\n",
       "      <td>0.0</td>\n",
       "      <td>0.0</td>\n",
       "      <td>0.0</td>\n",
       "      <td>1.0</td>\n",
       "      <td>1.811174</td>\n",
       "      <td>2.323876</td>\n",
       "      <td>-0.993069</td>\n",
       "      <td>1</td>\n",
       "    </tr>\n",
       "    <tr>\n",
       "      <th>4</th>\n",
       "      <td>0.0</td>\n",
       "      <td>1.0</td>\n",
       "      <td>0.0</td>\n",
       "      <td>1.0</td>\n",
       "      <td>0.0</td>\n",
       "      <td>0.0</td>\n",
       "      <td>1.0</td>\n",
       "      <td>0.0</td>\n",
       "      <td>0.0</td>\n",
       "      <td>1.0</td>\n",
       "      <td>...</td>\n",
       "      <td>0.0</td>\n",
       "      <td>0.0</td>\n",
       "      <td>0.0</td>\n",
       "      <td>0.0</td>\n",
       "      <td>1.0</td>\n",
       "      <td>0.0</td>\n",
       "      <td>-0.471136</td>\n",
       "      <td>0.583858</td>\n",
       "      <td>-0.993069</td>\n",
       "      <td>1</td>\n",
       "    </tr>\n",
       "  </tbody>\n",
       "</table>\n",
       "<p>5 rows × 86 columns</p>\n",
       "</div>"
      ],
      "text/plain": [
       "   Year_Y2015  Year_Y2016  Country_England  Country_Wales  Supermarket_Asda  \\\n",
       "0         0.0         1.0              0.0            1.0               0.0   \n",
       "1         0.0         1.0              0.0            1.0               0.0   \n",
       "2         0.0         1.0              0.0            1.0               0.0   \n",
       "3         0.0         1.0              0.0            1.0               0.0   \n",
       "4         0.0         1.0              0.0            1.0               0.0   \n",
       "\n",
       "   Supermarket_Tesco Extra  Supermarket_Tesco Metro  Supermarket_Waitrose  \\\n",
       "0                      0.0                      1.0                   0.0   \n",
       "1                      0.0                      1.0                   0.0   \n",
       "2                      0.0                      1.0                   0.0   \n",
       "3                      0.0                      1.0                   0.0   \n",
       "4                      0.0                      1.0                   0.0   \n",
       "\n",
       "   Time_Evening  Time_Morning  ...  YearCountryAge_Y2016EnglandAge_g2  \\\n",
       "0           0.0           1.0  ...                                0.0   \n",
       "1           0.0           1.0  ...                                0.0   \n",
       "2           0.0           1.0  ...                                0.0   \n",
       "3           0.0           1.0  ...                                0.0   \n",
       "4           0.0           1.0  ...                                0.0   \n",
       "\n",
       "   YearCountryAge_Y2016EnglandAge_g3  YearCountryAge_Y2016WalesAge_g1  \\\n",
       "0                                0.0                              0.0   \n",
       "1                                0.0                              0.0   \n",
       "2                                0.0                              1.0   \n",
       "3                                0.0                              0.0   \n",
       "4                                0.0                              0.0   \n",
       "\n",
       "   YearCountryAge_Y2016WalesAge_g2  YearCountryAge_Y2016WalesAge_g3  \\\n",
       "0                              1.0                              0.0   \n",
       "1                              1.0                              0.0   \n",
       "2                              0.0                              0.0   \n",
       "3                              0.0                              0.0   \n",
       "4                              0.0                              1.0   \n",
       "\n",
       "   YearCountryAge_nan   ObsSize   FemaleN     MaleN  y  \n",
       "0                 0.0 -0.471136 -1.156159  0.871226  1  \n",
       "1                 0.0 -0.471136 -1.156159  0.871226  1  \n",
       "2                 0.0 -0.471136  0.583858 -0.993069  1  \n",
       "3                 1.0  1.811174  2.323876 -0.993069  1  \n",
       "4                 0.0 -0.471136  0.583858 -0.993069  1  \n",
       "\n",
       "[5 rows x 86 columns]"
      ]
     },
     "execution_count": 2,
     "metadata": {},
     "output_type": "execute_result"
    }
   ],
   "source": [
    "df_all.head()"
   ]
  },
  {
   "cell_type": "code",
   "execution_count": 3,
   "id": "ba6d25b5-4243-4c0c-91ba-dc1d1fb404a1",
   "metadata": {},
   "outputs": [],
   "source": [
    "X_all = df_all.iloc[:,0:-1].to_numpy()\n",
    "y_all = df_all[\"y\"].to_numpy()\n",
    "\n",
    "X_all = np.ascontiguousarray(X_all)\n",
    "y_all = np.ascontiguousarray(y_all)"
   ]
  },
  {
   "cell_type": "markdown",
   "id": "c60e507f-1770-4fe8-99bc-5ee940652879",
   "metadata": {},
   "source": [
    "### Linear Kernel, Grid Search"
   ]
  },
  {
   "cell_type": "code",
   "execution_count": 4,
   "id": "6d215c00-e1a8-4f1b-bf4d-837b50b04831",
   "metadata": {},
   "outputs": [
    {
     "data": {
      "text/plain": [
       "SVC(cache_size=1000, class_weight='balanced', kernel='linear', max_iter=200000,\n",
       "    tol=0.002)"
      ]
     },
     "execution_count": 4,
     "metadata": {},
     "output_type": "execute_result"
    }
   ],
   "source": [
    "SVC_lin = SVC(kernel = \"linear\", \n",
    "              class_weight = \"balanced\", \n",
    "              cache_size = 1000, \n",
    "              tol = 0.002, \n",
    "              max_iter = 200_000)\n",
    "SVC_lin "
   ]
  },
  {
   "cell_type": "code",
   "execution_count": 5,
   "id": "4593bbba-e7f2-476b-941e-b1a3347e1672",
   "metadata": {},
   "outputs": [
    {
     "data": {
      "text/plain": [
       "GridSearchCV(cv=5,\n",
       "             estimator=SVC(cache_size=1000, class_weight='balanced',\n",
       "                           kernel='linear', max_iter=200000, tol=0.002),\n",
       "             n_jobs=-2,\n",
       "             param_grid={'C': array([1.00000000e-03, 3.16227766e-03, 1.00000000e-02, 3.16227766e-02,\n",
       "       1.00000000e-01, 3.16227766e-01, 1.00000000e+00, 3.16227766e+00,\n",
       "       1.00000000e+01, 3.16227766e+01, 1.00000000e+02])},\n",
       "             scoring='balanced_accuracy')"
      ]
     },
     "execution_count": 5,
     "metadata": {},
     "output_type": "execute_result"
    }
   ],
   "source": [
    "c_penalty = np.logspace(-3, 2, 11)\n",
    "params_lin = {'C':c_penalty}\n",
    "\n",
    "random_states_split = [123, 456, 789, \n",
    "                       741, 852, 963, \n",
    "                       159, 753, 951, 357]\n",
    "\n",
    "gridCV_lin = GridSearchCV(estimator = SVC_lin, \n",
    "                          param_grid = params_lin, \n",
    "                          scoring = 'balanced_accuracy', \n",
    "                          n_jobs = -2,\n",
    "                          refit = True, \n",
    "                          cv = 5)\n",
    "gridCV_lin"
   ]
  },
  {
   "cell_type": "code",
   "execution_count": 6,
   "id": "97c449dd-e73d-4f8f-a10f-f9c675809e72",
   "metadata": {},
   "outputs": [
    {
     "name": "stdout",
     "output_type": "stream",
     "text": [
      "{'C': 31.622776601683793}\n",
      "Iteration 123: 11.841 seconds\n",
      "{'C': 0.03162277660168379}\n",
      "Iteration 456: 10.300 seconds\n",
      "{'C': 1.0}\n",
      "Iteration 789: 10.650 seconds\n",
      "{'C': 31.622776601683793}\n",
      "Iteration 741: 11.726 seconds\n",
      "{'C': 1.0}\n",
      "Iteration 852: 11.308 seconds\n",
      "{'C': 31.622776601683793}\n",
      "Iteration 963: 11.188 seconds\n",
      "{'C': 0.03162277660168379}\n",
      "Iteration 159: 10.842 seconds\n",
      "{'C': 0.1}\n",
      "Iteration 753: 10.445 seconds\n",
      "{'C': 0.03162277660168379}\n",
      "Iteration 951: 10.381 seconds\n",
      "{'C': 0.03162277660168379}\n",
      "Iteration 357: 10.755 seconds\n",
      "Wall time: 1min 49s\n"
     ]
    }
   ],
   "source": [
    "%%time\n",
    "\n",
    "BalAccuracy_lin = []\n",
    "\n",
    "for each_rs in random_states_split:\n",
    "    start_time = time.time()\n",
    "    X_other_temp, X_test_temp, y_other_temp, y_test_temp = \\\n",
    "        train_test_split(X_all, y_all, \n",
    "                         test_size = 0.1, \n",
    "                         random_state = each_rs,\n",
    "                         stratify = y_all)\n",
    "    \n",
    "    gridCV_lin.fit(X_other_temp, y_other_temp)\n",
    "    \n",
    "    BalAccuracy_lin.append(gridCV_lin.best_score_)\n",
    "    \n",
    "    print(gridCV_lin.best_params_, flush = True)\n",
    "    \n",
    "    end_time = time.time()\n",
    "    print(f\"Iteration {each_rs}: {end_time - start_time:.3f} seconds\", flush = True)"
   ]
  },
  {
   "cell_type": "code",
   "execution_count": 7,
   "id": "551c5b9a-29fe-4f25-ab0c-e12f6eb9fd71",
   "metadata": {},
   "outputs": [
    {
     "name": "stdout",
     "output_type": "stream",
     "text": [
      "0.6820 (0.0048)\n"
     ]
    }
   ],
   "source": [
    "print(f\"{np.mean(BalAccuracy_lin):.4f} ({np.std(BalAccuracy_lin):.4f})\")"
   ]
  },
  {
   "cell_type": "markdown",
   "id": "ba61df3a-b845-4a90-81bf-d7b2e8624ace",
   "metadata": {},
   "source": [
    "### Radial Basis Function Kernel, Grid Search"
   ]
  },
  {
   "cell_type": "code",
   "execution_count": 8,
   "id": "f39bad9f-9ece-495b-ab1a-01e2186d6128",
   "metadata": {},
   "outputs": [
    {
     "data": {
      "text/plain": [
       "SVC(cache_size=1000, class_weight='balanced', max_iter=100000, tol=0.002)"
      ]
     },
     "execution_count": 8,
     "metadata": {},
     "output_type": "execute_result"
    }
   ],
   "source": [
    "SVC_rbf = SVC(kernel = \"rbf\", \n",
    "              class_weight = \"balanced\", \n",
    "              cache_size = 1000, \n",
    "              tol = 0.002, \n",
    "              max_iter = 100_000)\n",
    "SVC_rbf "
   ]
  },
  {
   "cell_type": "code",
   "execution_count": 9,
   "id": "14097f7e-8910-42ae-afa0-288155a1a8b9",
   "metadata": {},
   "outputs": [
    {
     "data": {
      "text/plain": [
       "GridSearchCV(cv=5,\n",
       "             estimator=SVC(cache_size=1000, class_weight='balanced',\n",
       "                           max_iter=100000, tol=0.002),\n",
       "             n_jobs=-2,\n",
       "             param_grid={'C': array([1.e-03, 1.e-02, 1.e-01, 1.e+00, 1.e+01, 1.e+02]),\n",
       "                         'gamma': array([1.00000000e-02, 1.77827941e-02, 3.16227766e-02, 5.62341325e-02,\n",
       "       1.00000000e-01, 1.77827941e-01, 3.16227766e-01, 5.62341325e-01,\n",
       "       1.00000000e+00, 1.77827941e+00, 3.16227766e+00, 5.62341325e+00,\n",
       "       1.00000000e+01, 1.77827941e+01, 3.16227766e+01, 5.62341325e+01,\n",
       "       1.00000000e+02])},\n",
       "             scoring='balanced_accuracy', verbose=4)"
      ]
     },
     "execution_count": 9,
     "metadata": {},
     "output_type": "execute_result"
    }
   ],
   "source": [
    "c_penalty = np.logspace(-3, 2, 6)\n",
    "gamma_penalty = np.logspace(-2, 2, 17)\n",
    "params_rbf = {'C':c_penalty, \n",
    "              \"gamma\": gamma_penalty}\n",
    "\n",
    "\n",
    "gridCV_rbf = GridSearchCV(estimator = SVC_rbf, \n",
    "                          param_grid = params_rbf, \n",
    "                          scoring = 'balanced_accuracy', \n",
    "                          n_jobs = -2,\n",
    "                          refit = True, \n",
    "                          cv = 5, verbose = 4)\n",
    "gridCV_rbf"
   ]
  },
  {
   "cell_type": "code",
   "execution_count": 10,
   "id": "8d571373-6906-4ff0-ad53-2d0cce5cb377",
   "metadata": {},
   "outputs": [
    {
     "name": "stdout",
     "output_type": "stream",
     "text": [
      "Fitting 5 folds for each of 102 candidates, totalling 510 fits\n",
      "{'C': 1.0, 'gamma': 0.03162277660168379}\n",
      "Iteration 123: 85.417 seconds\n",
      "Fitting 5 folds for each of 102 candidates, totalling 510 fits\n",
      "{'C': 1.0, 'gamma': 0.03162277660168379}\n",
      "Iteration 456: 89.629 seconds\n",
      "Fitting 5 folds for each of 102 candidates, totalling 510 fits\n",
      "{'C': 1.0, 'gamma': 0.05623413251903491}\n",
      "Iteration 789: 89.425 seconds\n",
      "Fitting 5 folds for each of 102 candidates, totalling 510 fits\n",
      "{'C': 1.0, 'gamma': 0.05623413251903491}\n",
      "Iteration 741: 87.508 seconds\n",
      "Fitting 5 folds for each of 102 candidates, totalling 510 fits\n",
      "{'C': 1.0, 'gamma': 0.05623413251903491}\n",
      "Iteration 852: 95.596 seconds\n",
      "Fitting 5 folds for each of 102 candidates, totalling 510 fits\n",
      "{'C': 1.0, 'gamma': 0.05623413251903491}\n",
      "Iteration 963: 92.271 seconds\n",
      "Fitting 5 folds for each of 102 candidates, totalling 510 fits\n",
      "{'C': 1.0, 'gamma': 0.03162277660168379}\n",
      "Iteration 159: 91.968 seconds\n",
      "Fitting 5 folds for each of 102 candidates, totalling 510 fits\n",
      "{'C': 1.0, 'gamma': 0.03162277660168379}\n",
      "Iteration 753: 91.302 seconds\n",
      "Fitting 5 folds for each of 102 candidates, totalling 510 fits\n",
      "{'C': 10.0, 'gamma': 0.01778279410038923}\n",
      "Iteration 951: 88.665 seconds\n",
      "Fitting 5 folds for each of 102 candidates, totalling 510 fits\n",
      "{'C': 1.0, 'gamma': 0.03162277660168379}\n",
      "Iteration 357: 87.202 seconds\n",
      "Wall time: 14min 58s\n"
     ]
    }
   ],
   "source": [
    "%%time\n",
    "\n",
    "BalAccuracy_rbf = []\n",
    "\n",
    "for each_rs in random_states_split:\n",
    "    start_time = time.time()\n",
    "    X_other_temp, X_test_temp, y_other_temp, y_test_temp = \\\n",
    "        train_test_split(X_all, y_all, \n",
    "                         test_size = 0.1, \n",
    "                         random_state = each_rs, \n",
    "                         stratify = y_all)\n",
    "    \n",
    "    gridCV_rbf.fit(X_other_temp, y_other_temp)\n",
    "    \n",
    "    BalAccuracy_rbf.append(gridCV_rbf.best_score_)\n",
    "    \n",
    "    print(gridCV_rbf.best_params_, flush = True)\n",
    "    \n",
    "    end_time = time.time()\n",
    "    print(f\"Iteration {each_rs}: {end_time - start_time:.3f} seconds\", flush = True)"
   ]
  },
  {
   "cell_type": "code",
   "execution_count": 11,
   "id": "449650bd-1478-4f27-82fc-45701da2332c",
   "metadata": {},
   "outputs": [
    {
     "name": "stdout",
     "output_type": "stream",
     "text": [
      "0.6907 (0.0031)\n"
     ]
    }
   ],
   "source": [
    "print(f\"{np.mean(BalAccuracy_rbf):.4f} ({np.std(BalAccuracy_rbf):.4f})\")"
   ]
  },
  {
   "cell_type": "code",
   "execution_count": 12,
   "id": "d7fa56a6-768e-4257-8055-4fa6841f44e0",
   "metadata": {},
   "outputs": [
    {
     "name": "stdout",
     "output_type": "stream",
     "text": [
      "0.6820 (0.0048)\n",
      "0.6907 (0.0031)\n"
     ]
    }
   ],
   "source": [
    "print(f\"{np.mean(BalAccuracy_lin):.4f} ({np.std(BalAccuracy_lin):.4f})\")\n",
    "print(f\"{np.mean(BalAccuracy_rbf):.4f} ({np.std(BalAccuracy_rbf):.4f})\")"
   ]
  },
  {
   "cell_type": "code",
   "execution_count": 13,
   "id": "dd93e939-a1f7-4114-8a63-977e92d8431b",
   "metadata": {},
   "outputs": [],
   "source": [
    "import json\n",
    "\n",
    "svc_scores = {\"lin\": BalAccuracy_lin,\n",
    "              \"rbf\": BalAccuracy_rbf}\n",
    "\n",
    "with open(\"../results/svc_scores.json\", \"w\") as outfile:\n",
    "    json.dump(svc_scores, outfile)\n",
    "    \n",
    "# with open(\"logistic.json\", \"r\") as readfile:\n",
    "#     dict_data = json.load(readfile)"
   ]
  },
  {
   "cell_type": "code",
   "execution_count": null,
   "id": "0bc4be78-f7f3-4d29-98a4-ae250546f5bb",
   "metadata": {},
   "outputs": [],
   "source": []
  }
 ],
 "metadata": {
  "kernelspec": {
   "display_name": "Python 3 (ipykernel)",
   "language": "python",
   "name": "python3"
  },
  "language_info": {
   "codemirror_mode": {
    "name": "ipython",
    "version": 3
   },
   "file_extension": ".py",
   "mimetype": "text/x-python",
   "name": "python",
   "nbconvert_exporter": "python",
   "pygments_lexer": "ipython3",
   "version": "3.9.7"
  }
 },
 "nbformat": 4,
 "nbformat_minor": 5
}
