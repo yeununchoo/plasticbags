{
 "cells": [
  {
   "cell_type": "markdown",
   "id": "9500a59d-c5b4-445f-95c3-569ead697c45",
   "metadata": {},
   "source": [
    "## Appendix B2. Support Vector Machines"
   ]
  },
  {
   "cell_type": "code",
   "execution_count": 1,
   "id": "29a906e8-4e30-4472-9090-011bbf9cd0a3",
   "metadata": {},
   "outputs": [],
   "source": [
    "import pandas as pd\n",
    "import numpy as np\n",
    "\n",
    "import matplotlib as mpl\n",
    "import matplotlib.pyplot as plt\n",
    "\n",
    "# from sklearn.linear_model import LogisticRegression\n",
    "# from sklearn.metrics import roc_curve, auc, RocCurveDisplay\n",
    "from sklearn.svm import SVC\n",
    "from sklearn.metrics import balanced_accuracy_score\n",
    "from sklearn.metrics import accuracy_score\n",
    "\n",
    "from sklearn.model_selection import GridSearchCV\n",
    "\n",
    "save_figures = False\n",
    "figure_path = \"../figures/models/\"\n",
    "# df_init = pd.read_parquet(\"../data/init.parquet\")\n",
    "# df_before = pd.read_parquet(\"../data/before_split.parquet\")\n",
    "# df_train = pd.read_parquet(\"../data/prep_train.parquet\")\n",
    "# df_val = pd.read_parquet(\"../data/prep_val.parquet\")\n",
    "# df_test = pd.read_parquet(\"../data/prep_test.parquet\")\n",
    "df_tt_train = pd.read_parquet(\"../data/prep_tt_train.parquet\")\n",
    "df_tt_test = pd.read_parquet(\"../data/prep_tt_test.parquet\")"
   ]
  },
  {
   "cell_type": "code",
   "execution_count": 2,
   "id": "fcad624e-08ea-4b2a-81a5-98bfab72ab7b",
   "metadata": {},
   "outputs": [
    {
     "data": {
      "text/html": [
       "<div>\n",
       "<style scoped>\n",
       "    .dataframe tbody tr th:only-of-type {\n",
       "        vertical-align: middle;\n",
       "    }\n",
       "\n",
       "    .dataframe tbody tr th {\n",
       "        vertical-align: top;\n",
       "    }\n",
       "\n",
       "    .dataframe thead th {\n",
       "        text-align: right;\n",
       "    }\n",
       "</style>\n",
       "<table border=\"1\" class=\"dataframe\">\n",
       "  <thead>\n",
       "    <tr style=\"text-align: right;\">\n",
       "      <th></th>\n",
       "      <th>Year_Y2015</th>\n",
       "      <th>Year_Y2016</th>\n",
       "      <th>Country_England</th>\n",
       "      <th>Country_Wales</th>\n",
       "      <th>Supermarket_Asda</th>\n",
       "      <th>Supermarket_Tesco Extra</th>\n",
       "      <th>Supermarket_Tesco Metro</th>\n",
       "      <th>Supermarket_Waitrose</th>\n",
       "      <th>Time_Evening</th>\n",
       "      <th>Time_Morning</th>\n",
       "      <th>...</th>\n",
       "      <th>YearCountryAge_Y2016EnglandAge_g2</th>\n",
       "      <th>YearCountryAge_Y2016EnglandAge_g3</th>\n",
       "      <th>YearCountryAge_Y2016WalesAge_g1</th>\n",
       "      <th>YearCountryAge_Y2016WalesAge_g2</th>\n",
       "      <th>YearCountryAge_Y2016WalesAge_g3</th>\n",
       "      <th>YearCountryAge_nan</th>\n",
       "      <th>ObsSize</th>\n",
       "      <th>FemaleN</th>\n",
       "      <th>MaleN</th>\n",
       "      <th>y</th>\n",
       "    </tr>\n",
       "  </thead>\n",
       "  <tbody>\n",
       "    <tr>\n",
       "      <th>0</th>\n",
       "      <td>0.0</td>\n",
       "      <td>1.0</td>\n",
       "      <td>0.0</td>\n",
       "      <td>1.0</td>\n",
       "      <td>0.0</td>\n",
       "      <td>0.0</td>\n",
       "      <td>1.0</td>\n",
       "      <td>0.0</td>\n",
       "      <td>0.0</td>\n",
       "      <td>0.0</td>\n",
       "      <td>...</td>\n",
       "      <td>0.0</td>\n",
       "      <td>0.0</td>\n",
       "      <td>0.0</td>\n",
       "      <td>1.0</td>\n",
       "      <td>0.0</td>\n",
       "      <td>0.0</td>\n",
       "      <td>-0.474255</td>\n",
       "      <td>-1.160118</td>\n",
       "      <td>0.858181</td>\n",
       "      <td>1</td>\n",
       "    </tr>\n",
       "    <tr>\n",
       "      <th>1</th>\n",
       "      <td>0.0</td>\n",
       "      <td>1.0</td>\n",
       "      <td>1.0</td>\n",
       "      <td>0.0</td>\n",
       "      <td>0.0</td>\n",
       "      <td>1.0</td>\n",
       "      <td>0.0</td>\n",
       "      <td>0.0</td>\n",
       "      <td>0.0</td>\n",
       "      <td>0.0</td>\n",
       "      <td>...</td>\n",
       "      <td>0.0</td>\n",
       "      <td>1.0</td>\n",
       "      <td>0.0</td>\n",
       "      <td>0.0</td>\n",
       "      <td>0.0</td>\n",
       "      <td>0.0</td>\n",
       "      <td>-0.474255</td>\n",
       "      <td>0.589356</td>\n",
       "      <td>-0.999109</td>\n",
       "      <td>1</td>\n",
       "    </tr>\n",
       "    <tr>\n",
       "      <th>2</th>\n",
       "      <td>1.0</td>\n",
       "      <td>0.0</td>\n",
       "      <td>0.0</td>\n",
       "      <td>1.0</td>\n",
       "      <td>1.0</td>\n",
       "      <td>0.0</td>\n",
       "      <td>0.0</td>\n",
       "      <td>0.0</td>\n",
       "      <td>0.0</td>\n",
       "      <td>0.0</td>\n",
       "      <td>...</td>\n",
       "      <td>0.0</td>\n",
       "      <td>0.0</td>\n",
       "      <td>0.0</td>\n",
       "      <td>0.0</td>\n",
       "      <td>0.0</td>\n",
       "      <td>0.0</td>\n",
       "      <td>-0.474255</td>\n",
       "      <td>0.589356</td>\n",
       "      <td>-0.999109</td>\n",
       "      <td>1</td>\n",
       "    </tr>\n",
       "    <tr>\n",
       "      <th>3</th>\n",
       "      <td>0.0</td>\n",
       "      <td>1.0</td>\n",
       "      <td>0.0</td>\n",
       "      <td>1.0</td>\n",
       "      <td>0.0</td>\n",
       "      <td>1.0</td>\n",
       "      <td>0.0</td>\n",
       "      <td>0.0</td>\n",
       "      <td>0.0</td>\n",
       "      <td>0.0</td>\n",
       "      <td>...</td>\n",
       "      <td>0.0</td>\n",
       "      <td>0.0</td>\n",
       "      <td>0.0</td>\n",
       "      <td>0.0</td>\n",
       "      <td>0.0</td>\n",
       "      <td>1.0</td>\n",
       "      <td>1.794531</td>\n",
       "      <td>0.589356</td>\n",
       "      <td>0.858181</td>\n",
       "      <td>1</td>\n",
       "    </tr>\n",
       "    <tr>\n",
       "      <th>4</th>\n",
       "      <td>0.0</td>\n",
       "      <td>1.0</td>\n",
       "      <td>1.0</td>\n",
       "      <td>0.0</td>\n",
       "      <td>1.0</td>\n",
       "      <td>0.0</td>\n",
       "      <td>0.0</td>\n",
       "      <td>0.0</td>\n",
       "      <td>0.0</td>\n",
       "      <td>1.0</td>\n",
       "      <td>...</td>\n",
       "      <td>0.0</td>\n",
       "      <td>1.0</td>\n",
       "      <td>0.0</td>\n",
       "      <td>0.0</td>\n",
       "      <td>0.0</td>\n",
       "      <td>0.0</td>\n",
       "      <td>-0.474255</td>\n",
       "      <td>-1.160118</td>\n",
       "      <td>0.858181</td>\n",
       "      <td>0</td>\n",
       "    </tr>\n",
       "  </tbody>\n",
       "</table>\n",
       "<p>5 rows × 86 columns</p>\n",
       "</div>"
      ],
      "text/plain": [
       "   Year_Y2015  Year_Y2016  Country_England  Country_Wales  Supermarket_Asda  \\\n",
       "0         0.0         1.0              0.0            1.0               0.0   \n",
       "1         0.0         1.0              1.0            0.0               0.0   \n",
       "2         1.0         0.0              0.0            1.0               1.0   \n",
       "3         0.0         1.0              0.0            1.0               0.0   \n",
       "4         0.0         1.0              1.0            0.0               1.0   \n",
       "\n",
       "   Supermarket_Tesco Extra  Supermarket_Tesco Metro  Supermarket_Waitrose  \\\n",
       "0                      0.0                      1.0                   0.0   \n",
       "1                      1.0                      0.0                   0.0   \n",
       "2                      0.0                      0.0                   0.0   \n",
       "3                      1.0                      0.0                   0.0   \n",
       "4                      0.0                      0.0                   0.0   \n",
       "\n",
       "   Time_Evening  Time_Morning  ...  YearCountryAge_Y2016EnglandAge_g2  \\\n",
       "0           0.0           0.0  ...                                0.0   \n",
       "1           0.0           0.0  ...                                0.0   \n",
       "2           0.0           0.0  ...                                0.0   \n",
       "3           0.0           0.0  ...                                0.0   \n",
       "4           0.0           1.0  ...                                0.0   \n",
       "\n",
       "   YearCountryAge_Y2016EnglandAge_g3  YearCountryAge_Y2016WalesAge_g1  \\\n",
       "0                                0.0                              0.0   \n",
       "1                                1.0                              0.0   \n",
       "2                                0.0                              0.0   \n",
       "3                                0.0                              0.0   \n",
       "4                                1.0                              0.0   \n",
       "\n",
       "   YearCountryAge_Y2016WalesAge_g2  YearCountryAge_Y2016WalesAge_g3  \\\n",
       "0                              1.0                              0.0   \n",
       "1                              0.0                              0.0   \n",
       "2                              0.0                              0.0   \n",
       "3                              0.0                              0.0   \n",
       "4                              0.0                              0.0   \n",
       "\n",
       "   YearCountryAge_nan   ObsSize   FemaleN     MaleN  y  \n",
       "0                 0.0 -0.474255 -1.160118  0.858181  1  \n",
       "1                 0.0 -0.474255  0.589356 -0.999109  1  \n",
       "2                 0.0 -0.474255  0.589356 -0.999109  1  \n",
       "3                 1.0  1.794531  0.589356  0.858181  1  \n",
       "4                 0.0 -0.474255 -1.160118  0.858181  0  \n",
       "\n",
       "[5 rows x 86 columns]"
      ]
     },
     "execution_count": 2,
     "metadata": {},
     "output_type": "execute_result"
    }
   ],
   "source": [
    "df_tt_train.head()"
   ]
  },
  {
   "cell_type": "code",
   "execution_count": 3,
   "id": "ba6d25b5-4243-4c0c-91ba-dc1d1fb404a1",
   "metadata": {},
   "outputs": [],
   "source": [
    "X_tt_train = df_tt_train.iloc[:,0:-1].to_numpy()\n",
    "y_tt_train = df_tt_train[\"y\"].to_numpy()\n",
    "\n",
    "X_tt_test = df_tt_test.iloc[:,0:-1].to_numpy()\n",
    "y_tt_test = df_tt_test[\"y\"].to_numpy()\n",
    "\n",
    "X_tt_train = np.ascontiguousarray(X_tt_train)\n",
    "y_tt_train = np.ascontiguousarray(y_tt_train)\n",
    "X_tt_test = np.ascontiguousarray(X_tt_test)\n",
    "y_tt_test = np.ascontiguousarray(y_tt_test)"
   ]
  },
  {
   "cell_type": "markdown",
   "id": "2eaded25-6510-492b-8d50-48662648189d",
   "metadata": {},
   "source": [
    "### Linear Kernel, Default Parameter"
   ]
  },
  {
   "cell_type": "code",
   "execution_count": 4,
   "id": "1861c81b-bd2e-43f5-af24-82d1bdaa62cd",
   "metadata": {},
   "outputs": [
    {
     "name": "stdout",
     "output_type": "stream",
     "text": [
      "Wall time: 473 ms\n"
     ]
    },
    {
     "data": {
      "text/plain": [
       "SVC(cache_size=1000, class_weight='balanced', kernel='linear', tol=0.005)"
      ]
     },
     "execution_count": 4,
     "metadata": {},
     "output_type": "execute_result"
    }
   ],
   "source": [
    "%%time\n",
    "\n",
    "SVC_lin = SVC(kernel = \"linear\", \n",
    "              class_weight = \"balanced\", \n",
    "              cache_size = 1000, \n",
    "              tol = 0.005)\n",
    "SVC_lin.fit(X_tt_train, y_tt_train)"
   ]
  },
  {
   "cell_type": "code",
   "execution_count": 5,
   "id": "933cc4ec-e940-4f28-b286-8c70ef7289fc",
   "metadata": {},
   "outputs": [
    {
     "data": {
      "text/plain": [
       "{'C': 1.0,\n",
       " 'break_ties': False,\n",
       " 'cache_size': 1000,\n",
       " 'class_weight': 'balanced',\n",
       " 'coef0': 0.0,\n",
       " 'decision_function_shape': 'ovr',\n",
       " 'degree': 3,\n",
       " 'gamma': 'scale',\n",
       " 'kernel': 'linear',\n",
       " 'max_iter': -1,\n",
       " 'probability': False,\n",
       " 'random_state': None,\n",
       " 'shrinking': True,\n",
       " 'tol': 0.005,\n",
       " 'verbose': False}"
      ]
     },
     "execution_count": 5,
     "metadata": {},
     "output_type": "execute_result"
    }
   ],
   "source": [
    "SVC_lin.get_params()"
   ]
  },
  {
   "cell_type": "code",
   "execution_count": 6,
   "id": "a8567cbe-6b9c-4c20-a450-cfcde1e4b65b",
   "metadata": {},
   "outputs": [],
   "source": [
    "y_pred_default = SVC_lin.predict(X_tt_test)"
   ]
  },
  {
   "cell_type": "code",
   "execution_count": 7,
   "id": "20c26632-96e8-4255-af9f-5e00227fcc1e",
   "metadata": {},
   "outputs": [
    {
     "name": "stdout",
     "output_type": "stream",
     "text": [
      "0.6842384105960264\n",
      "0.7108753315649867\n"
     ]
    }
   ],
   "source": [
    "print(balanced_accuracy_score(y_tt_test, y_pred_default))\n",
    "print(accuracy_score(y_tt_test, y_pred_default))"
   ]
  },
  {
   "cell_type": "markdown",
   "id": "c60e507f-1770-4fe8-99bc-5ee940652879",
   "metadata": {},
   "source": [
    "### Linear Kernel, Grid Search"
   ]
  },
  {
   "cell_type": "code",
   "execution_count": 8,
   "id": "6d215c00-e1a8-4f1b-bf4d-837b50b04831",
   "metadata": {},
   "outputs": [
    {
     "data": {
      "text/plain": [
       "SVC(cache_size=1000, class_weight='balanced', kernel='linear', max_iter=100000,\n",
       "    tol=0.002)"
      ]
     },
     "execution_count": 8,
     "metadata": {},
     "output_type": "execute_result"
    }
   ],
   "source": [
    "SVC_lin = SVC(kernel = \"linear\", \n",
    "              class_weight = \"balanced\", \n",
    "              cache_size = 1000, \n",
    "              tol = 0.002, \n",
    "              max_iter = 100_000)\n",
    "SVC_lin "
   ]
  },
  {
   "cell_type": "code",
   "execution_count": 9,
   "id": "4593bbba-e7f2-476b-941e-b1a3347e1672",
   "metadata": {},
   "outputs": [
    {
     "data": {
      "text/plain": [
       "GridSearchCV(cv=5,\n",
       "             estimator=SVC(cache_size=1000, class_weight='balanced',\n",
       "                           kernel='linear', max_iter=100000, tol=0.002),\n",
       "             n_jobs=-2,\n",
       "             param_grid={'C': array([1.00000000e-03, 3.16227766e-03, 1.00000000e-02, 3.16227766e-02,\n",
       "       1.00000000e-01, 3.16227766e-01, 1.00000000e+00, 3.16227766e+00,\n",
       "       1.00000000e+01, 3.16227766e+01, 1.00000000e+02])},\n",
       "             scoring='balanced_accuracy', verbose=4)"
      ]
     },
     "execution_count": 9,
     "metadata": {},
     "output_type": "execute_result"
    }
   ],
   "source": [
    "c_penalty = np.logspace(-3, 2, 11)\n",
    "params_lin = {'C':c_penalty}\n",
    "\n",
    "gridCV_lin = GridSearchCV(estimator = SVC_lin, \n",
    "                          param_grid = params_lin, \n",
    "                          scoring = 'balanced_accuracy', \n",
    "                          n_jobs = -2,\n",
    "                          refit = True, \n",
    "                          cv = 5, verbose = 4)\n",
    "gridCV_lin"
   ]
  },
  {
   "cell_type": "code",
   "execution_count": 10,
   "id": "97c449dd-e73d-4f8f-a10f-f9c675809e72",
   "metadata": {},
   "outputs": [
    {
     "name": "stdout",
     "output_type": "stream",
     "text": [
      "Fitting 5 folds for each of 11 candidates, totalling 55 fits\n",
      "Wall time: 10.8 s\n"
     ]
    },
    {
     "data": {
      "text/plain": [
       "GridSearchCV(cv=5,\n",
       "             estimator=SVC(cache_size=1000, class_weight='balanced',\n",
       "                           kernel='linear', max_iter=100000, tol=0.002),\n",
       "             n_jobs=-2,\n",
       "             param_grid={'C': array([1.00000000e-03, 3.16227766e-03, 1.00000000e-02, 3.16227766e-02,\n",
       "       1.00000000e-01, 3.16227766e-01, 1.00000000e+00, 3.16227766e+00,\n",
       "       1.00000000e+01, 3.16227766e+01, 1.00000000e+02])},\n",
       "             scoring='balanced_accuracy', verbose=4)"
      ]
     },
     "execution_count": 10,
     "metadata": {},
     "output_type": "execute_result"
    }
   ],
   "source": [
    "%%time \n",
    "gridCV_lin.fit(X_tt_train, y_tt_train)"
   ]
  },
  {
   "cell_type": "code",
   "execution_count": 11,
   "id": "b54b4cce-1a4f-4117-8ca3-2929f2a8db46",
   "metadata": {},
   "outputs": [
    {
     "data": {
      "text/plain": [
       "{'C': 0.03162277660168379}"
      ]
     },
     "execution_count": 11,
     "metadata": {},
     "output_type": "execute_result"
    }
   ],
   "source": [
    "y_pred_lin = gridCV_lin.predict(X_tt_test)\n",
    "gridCV_lin.best_params_"
   ]
  },
  {
   "cell_type": "code",
   "execution_count": 12,
   "id": "551c5b9a-29fe-4f25-ab0c-e12f6eb9fd71",
   "metadata": {},
   "outputs": [
    {
     "name": "stdout",
     "output_type": "stream",
     "text": [
      "0.6957836644591612\n",
      "0.7374005305039788\n"
     ]
    }
   ],
   "source": [
    "print(balanced_accuracy_score(y_tt_test, y_pred_lin))\n",
    "print(accuracy_score(y_tt_test, y_pred_lin))"
   ]
  },
  {
   "cell_type": "markdown",
   "id": "ba61df3a-b845-4a90-81bf-d7b2e8624ace",
   "metadata": {},
   "source": [
    "### Radial Basis Function Kernel, Grid Search"
   ]
  },
  {
   "cell_type": "code",
   "execution_count": 13,
   "id": "f39bad9f-9ece-495b-ab1a-01e2186d6128",
   "metadata": {},
   "outputs": [
    {
     "data": {
      "text/plain": [
       "SVC(cache_size=1000, class_weight='balanced', max_iter=100000, tol=0.002)"
      ]
     },
     "execution_count": 13,
     "metadata": {},
     "output_type": "execute_result"
    }
   ],
   "source": [
    "SVC_rbf = SVC(kernel = \"rbf\", \n",
    "              class_weight = \"balanced\", \n",
    "              cache_size = 1000, \n",
    "              tol = 0.002, \n",
    "              max_iter = 100_000)\n",
    "SVC_rbf "
   ]
  },
  {
   "cell_type": "code",
   "execution_count": 14,
   "id": "14097f7e-8910-42ae-afa0-288155a1a8b9",
   "metadata": {},
   "outputs": [
    {
     "data": {
      "text/plain": [
       "GridSearchCV(cv=5,\n",
       "             estimator=SVC(cache_size=1000, class_weight='balanced',\n",
       "                           max_iter=100000, tol=0.002),\n",
       "             n_jobs=-2,\n",
       "             param_grid={'C': array([1.e-03, 1.e-02, 1.e-01, 1.e+00, 1.e+01, 1.e+02]),\n",
       "                         'gamma': array([1.00000000e-02, 1.77827941e-02, 3.16227766e-02, 5.62341325e-02,\n",
       "       1.00000000e-01, 1.77827941e-01, 3.16227766e-01, 5.62341325e-01,\n",
       "       1.00000000e+00, 1.77827941e+00, 3.16227766e+00, 5.62341325e+00,\n",
       "       1.00000000e+01, 1.77827941e+01, 3.16227766e+01, 5.62341325e+01,\n",
       "       1.00000000e+02])},\n",
       "             scoring='balanced_accuracy', verbose=4)"
      ]
     },
     "execution_count": 14,
     "metadata": {},
     "output_type": "execute_result"
    }
   ],
   "source": [
    "c_penalty = np.logspace(-3, 2, 6)\n",
    "gamma_penalty = np.logspace(-2, 2, 17)\n",
    "params_rbf = {'C':c_penalty, \n",
    "              \"gamma\": gamma_penalty}\n",
    "\n",
    "\n",
    "gridCV_rbf = GridSearchCV(estimator = SVC_rbf, \n",
    "                          param_grid = params_rbf, \n",
    "                          scoring = 'balanced_accuracy', \n",
    "                          n_jobs = -2,\n",
    "                          refit = True, \n",
    "                          cv = 5, verbose = 4)\n",
    "gridCV_rbf"
   ]
  },
  {
   "cell_type": "code",
   "execution_count": 15,
   "id": "8d571373-6906-4ff0-ad53-2d0cce5cb377",
   "metadata": {},
   "outputs": [
    {
     "name": "stdout",
     "output_type": "stream",
     "text": [
      "Fitting 5 folds for each of 102 candidates, totalling 510 fits\n",
      "Wall time: 1min 23s\n"
     ]
    },
    {
     "data": {
      "text/plain": [
       "GridSearchCV(cv=5,\n",
       "             estimator=SVC(cache_size=1000, class_weight='balanced',\n",
       "                           max_iter=100000, tol=0.002),\n",
       "             n_jobs=-2,\n",
       "             param_grid={'C': array([1.e-03, 1.e-02, 1.e-01, 1.e+00, 1.e+01, 1.e+02]),\n",
       "                         'gamma': array([1.00000000e-02, 1.77827941e-02, 3.16227766e-02, 5.62341325e-02,\n",
       "       1.00000000e-01, 1.77827941e-01, 3.16227766e-01, 5.62341325e-01,\n",
       "       1.00000000e+00, 1.77827941e+00, 3.16227766e+00, 5.62341325e+00,\n",
       "       1.00000000e+01, 1.77827941e+01, 3.16227766e+01, 5.62341325e+01,\n",
       "       1.00000000e+02])},\n",
       "             scoring='balanced_accuracy', verbose=4)"
      ]
     },
     "execution_count": 15,
     "metadata": {},
     "output_type": "execute_result"
    }
   ],
   "source": [
    "%%time\n",
    "gridCV_rbf.fit(X_tt_train, y_tt_train)"
   ]
  },
  {
   "cell_type": "code",
   "execution_count": 16,
   "id": "449650bd-1478-4f27-82fc-45701da2332c",
   "metadata": {},
   "outputs": [
    {
     "data": {
      "text/plain": [
       "{'C': 1.0, 'gamma': 0.05623413251903491}"
      ]
     },
     "execution_count": 16,
     "metadata": {},
     "output_type": "execute_result"
    }
   ],
   "source": [
    "y_pred_rbf = gridCV_rbf.predict(X_tt_test)\n",
    "gridCV_rbf.best_params_"
   ]
  },
  {
   "cell_type": "code",
   "execution_count": 17,
   "id": "4d4c8392-8e35-4626-b757-55ec78e2228b",
   "metadata": {},
   "outputs": [
    {
     "name": "stdout",
     "output_type": "stream",
     "text": [
      "0.6977041942604856\n",
      "0.6923076923076923\n"
     ]
    }
   ],
   "source": [
    "print(balanced_accuracy_score(y_tt_test, y_pred_rbf))\n",
    "print(accuracy_score(y_tt_test, y_pred_rbf))"
   ]
  },
  {
   "cell_type": "code",
   "execution_count": 18,
   "id": "dd93e939-a1f7-4114-8a63-977e92d8431b",
   "metadata": {},
   "outputs": [],
   "source": [
    "import json\n",
    "\n",
    "svc_params = {\"lin\": gridCV_lin.best_params_,\n",
    "\"rbf\": gridCV_rbf.best_params_}\n",
    "\n",
    "with open(\"../results/svc_params.json\", \"w\") as outfile:\n",
    "    json.dump(svc_params, outfile)\n",
    "    \n",
    "# with open(\"logistic.json\", \"r\") as readfile:\n",
    "#     dict_data = json.load(readfile)"
   ]
  },
  {
   "cell_type": "code",
   "execution_count": 19,
   "id": "46f37d79-22b3-4234-bd48-d72e9e8a7746",
   "metadata": {},
   "outputs": [],
   "source": [
    "from sklearn.metrics import confusion_matrix, ConfusionMatrixDisplay\n",
    "\n",
    "def custom_confusin_matrix(y_test, y_pred, model_name):\n",
    "    c_labels = [0, 1] \n",
    "    c_disp_labels = [\"Not Green\", \"Green\"]\n",
    "\n",
    "    c_matrix = confusion_matrix(y_test, y_pred,\n",
    "                                labels = c_labels)\n",
    "    c_mat_display = ConfusionMatrixDisplay(confusion_matrix = c_matrix,\n",
    "                                           display_labels = c_disp_labels)\n",
    "\n",
    "    fig_con, ax_con = plt.subplots()\n",
    "\n",
    "    c_mat_display.plot(ax = ax_con, cmap = \"PuBu\")\n",
    "    ax_con.set_xlabel(ax_con.get_xlabel(), fontsize = 16)\n",
    "    ax_con.set_ylabel(ax_con.get_ylabel(), fontsize = 16)\n",
    "    ax_con.set_title(model_name, fontsize = 18)\n",
    "\n",
    "    text_artists = ax_con.get_children()[0:4]\n",
    "    for each_text in text_artists:\n",
    "        each_text.set_fontsize(14)\n",
    "\n",
    "    ax_con.set_xticks(ax_con.get_xticks())\n",
    "    ax_con.set_xticklabels(c_disp_labels, fontsize = 14)\n",
    "\n",
    "    ax_con.set_yticks(ax_con.get_xticks())\n",
    "    ax_con.set_yticklabels(c_disp_labels, fontsize = 14)\n",
    "\n",
    "    fig_con.set_size_inches([8, 6])\n",
    "    \n",
    "    return fig_con, ax_con\n"
   ]
  },
  {
   "cell_type": "code",
   "execution_count": 20,
   "id": "cabff3cc-e777-4573-8bbb-b948242241b5",
   "metadata": {},
   "outputs": [
    {
     "data": {
      "image/png": "[encoded data removed]",
      "text/plain": [
       "<Figure size 576x432 with 2 Axes>"
      ]
     },
     "metadata": {
      "needs_background": "light"
     },
     "output_type": "display_data"
    },
    {
     "data": {
      "image/png": "[encoded data removed]",
      "text/plain": [
       "<Figure size 576x432 with 2 Axes>"
      ]
     },
     "metadata": {
      "needs_background": "light"
     },
     "output_type": "display_data"
    },
    {
     "data": {
      "image/png": "[encoded data removed]",
      "text/plain": [
       "<Figure size 576x432 with 2 Axes>"
      ]
     },
     "metadata": {
      "needs_background": "light"
     },
     "output_type": "display_data"
    }
   ],
   "source": [
    "fig_con_de, ax_con_de = custom_confusin_matrix(y_tt_test, y_pred_default, \"SVC, default\")\n",
    "fig_con_lin, ax_con_lin = custom_confusin_matrix(y_tt_test, y_pred_lin, \"SVC, Linear\")\n",
    "fig_con_rbf, ax_con_rbf = custom_confusin_matrix(y_tt_test, y_pred_rbf, \"SVC, RBF Kernel\")\n",
    "\n",
    "\n",
    "cm_figs = [fig_con_de, fig_con_lin, fig_con_rbf]\n",
    "fig_file_names = [\"CM SVC, default\", \"CM SVC, Linear\", \"CM SVC, RBF Kernel\"]\n",
    "\n",
    "# save_figures\n",
    "if save_figures:\n",
    "    for each_f, each_n in zip(cm_figs, fig_file_names):\n",
    "        fig_name = f\"{figure_path}{each_n}\"\n",
    "        each_f.savefig(f\"{fig_name}.pdf\", \n",
    "                       dpi = 300, \n",
    "                       bbox_inches=\"tight\")\n",
    "        each_f.savefig(f\"{fig_name}.png\", \n",
    "                       dpi = 300, \n",
    "                       bbox_inches=\"tight\")\n",
    "        each_f.savefig(f\"{fig_name}.svg\", \n",
    "                       dpi = 300, \n",
    "                        bbox_inches=\"tight\")"
   ]
  },
  {
   "cell_type": "code",
   "execution_count": null,
   "id": "c826fd7d-d223-4417-acf3-f391016a1900",
   "metadata": {},
   "outputs": [],
   "source": []
  }
 ],
 "metadata": {
  "kernelspec": {
   "display_name": "Python 3 (ipykernel)",
   "language": "python",
   "name": "python3"
  },
  "language_info": {
   "codemirror_mode": {
    "name": "ipython",
    "version": 3
   },
   "file_extension": ".py",
   "mimetype": "text/x-python",
   "name": "python",
   "nbconvert_exporter": "python",
   "pygments_lexer": "ipython3",
   "version": "3.9.7"
  }
 },
 "nbformat": 4,
 "nbformat_minor": 5
}
