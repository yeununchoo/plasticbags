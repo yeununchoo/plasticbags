{
 "cells": [
  {
   "cell_type": "markdown",
   "id": "9500a59d-c5b4-445f-95c3-569ead697c45",
   "metadata": {},
   "source": [
    "## Appendix B5. Boost Methods"
   ]
  },
  {
   "cell_type": "code",
   "execution_count": 1,
   "id": "29a906e8-4e30-4472-9090-011bbf9cd0a3",
   "metadata": {},
   "outputs": [],
   "source": [
    "import pandas as pd\n",
    "import numpy as np\n",
    "import time\n",
    "\n",
    "import matplotlib as mpl\n",
    "import matplotlib.pyplot as plt\n",
    "\n",
    "# from sklearn.linear_model import LogisticRegression\n",
    "# from sklearn.metrics import roc_curve, auc, RocCurveDisplay\n",
    "from sklearn.ensemble import AdaBoostClassifier, GradientBoostingClassifier\n",
    "from xgboost import XGBClassifier\n",
    "from sklearn.metrics import balanced_accuracy_score\n",
    "from sklearn.metrics import accuracy_score\n",
    "\n",
    "from sklearn.model_selection import GridSearchCV\n",
    "\n",
    "save_figures = False\n",
    "figure_path = \"../figures/models/\"\n",
    "# df_init = pd.read_parquet(\"../data/init.parquet\")\n",
    "# df_before = pd.read_parquet(\"../data/before_split.parquet\")\n",
    "# df_train = pd.read_parquet(\"../data/prep_train.parquet\")\n",
    "# df_val = pd.read_parquet(\"../data/prep_val.parquet\")\n",
    "# df_test = pd.read_parquet(\"../data/prep_test.parquet\")\n",
    "df_tt_train = pd.read_parquet(\"../data/prep_tt_train.parquet\")\n",
    "df_tt_test = pd.read_parquet(\"../data/prep_tt_test.parquet\")"
   ]
  },
  {
   "cell_type": "code",
   "execution_count": 2,
   "id": "fcad624e-08ea-4b2a-81a5-98bfab72ab7b",
   "metadata": {},
   "outputs": [
    {
     "data": {
      "text/html": [
       "<div>\n",
       "<style scoped>\n",
       "    .dataframe tbody tr th:only-of-type {\n",
       "        vertical-align: middle;\n",
       "    }\n",
       "\n",
       "    .dataframe tbody tr th {\n",
       "        vertical-align: top;\n",
       "    }\n",
       "\n",
       "    .dataframe thead th {\n",
       "        text-align: right;\n",
       "    }\n",
       "</style>\n",
       "<table border=\"1\" class=\"dataframe\">\n",
       "  <thead>\n",
       "    <tr style=\"text-align: right;\">\n",
       "      <th></th>\n",
       "      <th>Year_Y2015</th>\n",
       "      <th>Year_Y2016</th>\n",
       "      <th>Country_England</th>\n",
       "      <th>Country_Wales</th>\n",
       "      <th>Supermarket_Asda</th>\n",
       "      <th>Supermarket_Tesco Extra</th>\n",
       "      <th>Supermarket_Tesco Metro</th>\n",
       "      <th>Supermarket_Waitrose</th>\n",
       "      <th>Time_Evening</th>\n",
       "      <th>Time_Morning</th>\n",
       "      <th>...</th>\n",
       "      <th>YearCountryAge_Y2016EnglandAge_g2</th>\n",
       "      <th>YearCountryAge_Y2016EnglandAge_g3</th>\n",
       "      <th>YearCountryAge_Y2016WalesAge_g1</th>\n",
       "      <th>YearCountryAge_Y2016WalesAge_g2</th>\n",
       "      <th>YearCountryAge_Y2016WalesAge_g3</th>\n",
       "      <th>YearCountryAge_nan</th>\n",
       "      <th>ObsSize</th>\n",
       "      <th>FemaleN</th>\n",
       "      <th>MaleN</th>\n",
       "      <th>y</th>\n",
       "    </tr>\n",
       "  </thead>\n",
       "  <tbody>\n",
       "    <tr>\n",
       "      <th>0</th>\n",
       "      <td>0.0</td>\n",
       "      <td>1.0</td>\n",
       "      <td>0.0</td>\n",
       "      <td>1.0</td>\n",
       "      <td>0.0</td>\n",
       "      <td>0.0</td>\n",
       "      <td>1.0</td>\n",
       "      <td>0.0</td>\n",
       "      <td>0.0</td>\n",
       "      <td>0.0</td>\n",
       "      <td>...</td>\n",
       "      <td>0.0</td>\n",
       "      <td>0.0</td>\n",
       "      <td>0.0</td>\n",
       "      <td>1.0</td>\n",
       "      <td>0.0</td>\n",
       "      <td>0.0</td>\n",
       "      <td>-0.474255</td>\n",
       "      <td>-1.160118</td>\n",
       "      <td>0.858181</td>\n",
       "      <td>1</td>\n",
       "    </tr>\n",
       "    <tr>\n",
       "      <th>1</th>\n",
       "      <td>0.0</td>\n",
       "      <td>1.0</td>\n",
       "      <td>1.0</td>\n",
       "      <td>0.0</td>\n",
       "      <td>0.0</td>\n",
       "      <td>1.0</td>\n",
       "      <td>0.0</td>\n",
       "      <td>0.0</td>\n",
       "      <td>0.0</td>\n",
       "      <td>0.0</td>\n",
       "      <td>...</td>\n",
       "      <td>0.0</td>\n",
       "      <td>1.0</td>\n",
       "      <td>0.0</td>\n",
       "      <td>0.0</td>\n",
       "      <td>0.0</td>\n",
       "      <td>0.0</td>\n",
       "      <td>-0.474255</td>\n",
       "      <td>0.589356</td>\n",
       "      <td>-0.999109</td>\n",
       "      <td>1</td>\n",
       "    </tr>\n",
       "    <tr>\n",
       "      <th>2</th>\n",
       "      <td>1.0</td>\n",
       "      <td>0.0</td>\n",
       "      <td>0.0</td>\n",
       "      <td>1.0</td>\n",
       "      <td>1.0</td>\n",
       "      <td>0.0</td>\n",
       "      <td>0.0</td>\n",
       "      <td>0.0</td>\n",
       "      <td>0.0</td>\n",
       "      <td>0.0</td>\n",
       "      <td>...</td>\n",
       "      <td>0.0</td>\n",
       "      <td>0.0</td>\n",
       "      <td>0.0</td>\n",
       "      <td>0.0</td>\n",
       "      <td>0.0</td>\n",
       "      <td>0.0</td>\n",
       "      <td>-0.474255</td>\n",
       "      <td>0.589356</td>\n",
       "      <td>-0.999109</td>\n",
       "      <td>1</td>\n",
       "    </tr>\n",
       "    <tr>\n",
       "      <th>3</th>\n",
       "      <td>0.0</td>\n",
       "      <td>1.0</td>\n",
       "      <td>0.0</td>\n",
       "      <td>1.0</td>\n",
       "      <td>0.0</td>\n",
       "      <td>1.0</td>\n",
       "      <td>0.0</td>\n",
       "      <td>0.0</td>\n",
       "      <td>0.0</td>\n",
       "      <td>0.0</td>\n",
       "      <td>...</td>\n",
       "      <td>0.0</td>\n",
       "      <td>0.0</td>\n",
       "      <td>0.0</td>\n",
       "      <td>0.0</td>\n",
       "      <td>0.0</td>\n",
       "      <td>1.0</td>\n",
       "      <td>1.794531</td>\n",
       "      <td>0.589356</td>\n",
       "      <td>0.858181</td>\n",
       "      <td>1</td>\n",
       "    </tr>\n",
       "    <tr>\n",
       "      <th>4</th>\n",
       "      <td>0.0</td>\n",
       "      <td>1.0</td>\n",
       "      <td>1.0</td>\n",
       "      <td>0.0</td>\n",
       "      <td>1.0</td>\n",
       "      <td>0.0</td>\n",
       "      <td>0.0</td>\n",
       "      <td>0.0</td>\n",
       "      <td>0.0</td>\n",
       "      <td>1.0</td>\n",
       "      <td>...</td>\n",
       "      <td>0.0</td>\n",
       "      <td>1.0</td>\n",
       "      <td>0.0</td>\n",
       "      <td>0.0</td>\n",
       "      <td>0.0</td>\n",
       "      <td>0.0</td>\n",
       "      <td>-0.474255</td>\n",
       "      <td>-1.160118</td>\n",
       "      <td>0.858181</td>\n",
       "      <td>0</td>\n",
       "    </tr>\n",
       "  </tbody>\n",
       "</table>\n",
       "<p>5 rows × 86 columns</p>\n",
       "</div>"
      ],
      "text/plain": [
       "   Year_Y2015  Year_Y2016  Country_England  Country_Wales  Supermarket_Asda  \\\n",
       "0         0.0         1.0              0.0            1.0               0.0   \n",
       "1         0.0         1.0              1.0            0.0               0.0   \n",
       "2         1.0         0.0              0.0            1.0               1.0   \n",
       "3         0.0         1.0              0.0            1.0               0.0   \n",
       "4         0.0         1.0              1.0            0.0               1.0   \n",
       "\n",
       "   Supermarket_Tesco Extra  Supermarket_Tesco Metro  Supermarket_Waitrose  \\\n",
       "0                      0.0                      1.0                   0.0   \n",
       "1                      1.0                      0.0                   0.0   \n",
       "2                      0.0                      0.0                   0.0   \n",
       "3                      1.0                      0.0                   0.0   \n",
       "4                      0.0                      0.0                   0.0   \n",
       "\n",
       "   Time_Evening  Time_Morning  ...  YearCountryAge_Y2016EnglandAge_g2  \\\n",
       "0           0.0           0.0  ...                                0.0   \n",
       "1           0.0           0.0  ...                                0.0   \n",
       "2           0.0           0.0  ...                                0.0   \n",
       "3           0.0           0.0  ...                                0.0   \n",
       "4           0.0           1.0  ...                                0.0   \n",
       "\n",
       "   YearCountryAge_Y2016EnglandAge_g3  YearCountryAge_Y2016WalesAge_g1  \\\n",
       "0                                0.0                              0.0   \n",
       "1                                1.0                              0.0   \n",
       "2                                0.0                              0.0   \n",
       "3                                0.0                              0.0   \n",
       "4                                1.0                              0.0   \n",
       "\n",
       "   YearCountryAge_Y2016WalesAge_g2  YearCountryAge_Y2016WalesAge_g3  \\\n",
       "0                              1.0                              0.0   \n",
       "1                              0.0                              0.0   \n",
       "2                              0.0                              0.0   \n",
       "3                              0.0                              0.0   \n",
       "4                              0.0                              0.0   \n",
       "\n",
       "   YearCountryAge_nan   ObsSize   FemaleN     MaleN  y  \n",
       "0                 0.0 -0.474255 -1.160118  0.858181  1  \n",
       "1                 0.0 -0.474255  0.589356 -0.999109  1  \n",
       "2                 0.0 -0.474255  0.589356 -0.999109  1  \n",
       "3                 1.0  1.794531  0.589356  0.858181  1  \n",
       "4                 0.0 -0.474255 -1.160118  0.858181  0  \n",
       "\n",
       "[5 rows x 86 columns]"
      ]
     },
     "execution_count": 2,
     "metadata": {},
     "output_type": "execute_result"
    }
   ],
   "source": [
    "df_tt_train.head()"
   ]
  },
  {
   "cell_type": "code",
   "execution_count": 3,
   "id": "ba6d25b5-4243-4c0c-91ba-dc1d1fb404a1",
   "metadata": {},
   "outputs": [],
   "source": [
    "X_tt_train = df_tt_train.iloc[:,0:-1].to_numpy()\n",
    "y_tt_train = df_tt_train[\"y\"].to_numpy()\n",
    "\n",
    "X_tt_test = df_tt_test.iloc[:,0:-1].to_numpy()\n",
    "y_tt_test = df_tt_test[\"y\"].to_numpy()"
   ]
  },
  {
   "cell_type": "markdown",
   "id": "2eaded25-6510-492b-8d50-48662648189d",
   "metadata": {},
   "source": [
    "### Adaboost, Default Parameter"
   ]
  },
  {
   "cell_type": "code",
   "execution_count": 4,
   "id": "a2747534-f6ff-42d3-9377-de7e6cc0ac04",
   "metadata": {},
   "outputs": [
    {
     "data": {
      "text/plain": [
       "(3387,)"
      ]
     },
     "execution_count": 4,
     "metadata": {},
     "output_type": "execute_result"
    }
   ],
   "source": [
    "n_each_class = [np.sum(y_tt_train == each_c) \n",
    "                for each_c \n",
    "                in np.unique(y_tt_train)]\n",
    "\n",
    "weight_each_class = [1/each_n \n",
    "                     for each_n \n",
    "                     in n_each_class]\n",
    "\n",
    "balanced_weights = np.array([weight_each_class[each_y] \n",
    "                             for each_y \n",
    "                             in y_tt_train])\n",
    "balanced_weights.shape"
   ]
  },
  {
   "cell_type": "code",
   "execution_count": 5,
   "id": "1861c81b-bd2e-43f5-af24-82d1bdaa62cd",
   "metadata": {},
   "outputs": [
    {
     "name": "stdout",
     "output_type": "stream",
     "text": [
      "Wall time: 230 ms\n"
     ]
    },
    {
     "data": {
      "text/plain": [
       "AdaBoostClassifier(random_state=132)"
      ]
     },
     "execution_count": 5,
     "metadata": {},
     "output_type": "execute_result"
    }
   ],
   "source": [
    "%%time\n",
    "\n",
    "random_state = 132\n",
    "Ada_default = AdaBoostClassifier(random_state= random_state)\n",
    "Ada_default.fit(X_tt_train, y_tt_train, sample_weight=balanced_weights)"
   ]
  },
  {
   "cell_type": "code",
   "execution_count": 6,
   "id": "933cc4ec-e940-4f28-b286-8c70ef7289fc",
   "metadata": {},
   "outputs": [
    {
     "data": {
      "text/plain": [
       "{'algorithm': 'SAMME.R',\n",
       " 'base_estimator': None,\n",
       " 'learning_rate': 1.0,\n",
       " 'n_estimators': 50,\n",
       " 'random_state': 132}"
      ]
     },
     "execution_count": 6,
     "metadata": {},
     "output_type": "execute_result"
    }
   ],
   "source": [
    "Ada_default.get_params()"
   ]
  },
  {
   "cell_type": "code",
   "execution_count": 7,
   "id": "a8567cbe-6b9c-4c20-a450-cfcde1e4b65b",
   "metadata": {},
   "outputs": [],
   "source": [
    "y_pred_ada_default = Ada_default.predict(X_tt_test)"
   ]
  },
  {
   "cell_type": "code",
   "execution_count": 8,
   "id": "20c26632-96e8-4255-af9f-5e00227fcc1e",
   "metadata": {},
   "outputs": [
    {
     "name": "stdout",
     "output_type": "stream",
     "text": [
      "0.666158940397351\n",
      "0.6578249336870027\n"
     ]
    }
   ],
   "source": [
    "print(balanced_accuracy_score(y_tt_test, y_pred_ada_default))\n",
    "print(accuracy_score(y_tt_test, y_pred_ada_default))"
   ]
  },
  {
   "cell_type": "markdown",
   "id": "c60e507f-1770-4fe8-99bc-5ee940652879",
   "metadata": {},
   "source": [
    "### Adaboost, Grid Search"
   ]
  },
  {
   "cell_type": "code",
   "execution_count": 9,
   "id": "9da850fb-f0ad-4ccc-917e-b4d1a7007187",
   "metadata": {},
   "outputs": [
    {
     "data": {
      "text/plain": [
       "(3387,)"
      ]
     },
     "execution_count": 9,
     "metadata": {},
     "output_type": "execute_result"
    }
   ],
   "source": [
    "n_each_class = [np.sum(y_tt_train == each_c) \n",
    "                for each_c \n",
    "                in np.unique(y_tt_train)]\n",
    "\n",
    "weight_each_class = [1/each_n \n",
    "                     for each_n \n",
    "                     in n_each_class]\n",
    "\n",
    "balanced_weights = np.array([weight_each_class[each_y] \n",
    "                             for each_y \n",
    "                             in y_tt_train])\n",
    "balanced_weights.shape"
   ]
  },
  {
   "cell_type": "code",
   "execution_count": 10,
   "id": "6d215c00-e1a8-4f1b-bf4d-837b50b04831",
   "metadata": {},
   "outputs": [
    {
     "data": {
      "text/plain": [
       "AdaBoostClassifier(random_state=132)"
      ]
     },
     "execution_count": 10,
     "metadata": {},
     "output_type": "execute_result"
    }
   ],
   "source": [
    "random_state = 132\n",
    "Ada_grid = AdaBoostClassifier(random_state= random_state)\n",
    "Ada_grid"
   ]
  },
  {
   "cell_type": "code",
   "execution_count": 11,
   "id": "4593bbba-e7f2-476b-941e-b1a3347e1672",
   "metadata": {},
   "outputs": [
    {
     "data": {
      "text/plain": [
       "GridSearchCV(cv=5, estimator=AdaBoostClassifier(random_state=132), n_jobs=-2,\n",
       "             param_grid={'learning_rate': [0.6, 0.7, 0.8, 0.9, 1, 2, 3, 4, 5],\n",
       "                         'n_estimators': [10, 15, 20, 25, 30, 40, 50, 80, 100,\n",
       "                                          150, 200]},\n",
       "             scoring='balanced_accuracy', verbose=4)"
      ]
     },
     "execution_count": 11,
     "metadata": {},
     "output_type": "execute_result"
    }
   ],
   "source": [
    "params_Ada = {'learning_rate': [0.6, 0.7, 0.8, 0.9, 1, 2, 3, 4, 5],\n",
    "             'n_estimators': [10, 15, 20, 25, 30, 40, 50, 80, 100, 150, 200]}\n",
    "\n",
    "gridCV_Ada = GridSearchCV(estimator = Ada_grid, \n",
    "                          param_grid = params_Ada, \n",
    "                          scoring = 'balanced_accuracy', \n",
    "                          n_jobs = -2,\n",
    "                          refit = True, \n",
    "                          cv = 5, verbose = 4)\n",
    "gridCV_Ada"
   ]
  },
  {
   "cell_type": "code",
   "execution_count": 12,
   "id": "97c449dd-e73d-4f8f-a10f-f9c675809e72",
   "metadata": {},
   "outputs": [
    {
     "name": "stdout",
     "output_type": "stream",
     "text": [
      "Fitting 5 folds for each of 99 candidates, totalling 495 fits\n",
      "Wall time: 27.8 s\n"
     ]
    },
    {
     "data": {
      "text/plain": [
       "GridSearchCV(cv=5, estimator=AdaBoostClassifier(random_state=132), n_jobs=-2,\n",
       "             param_grid={'learning_rate': [0.6, 0.7, 0.8, 0.9, 1, 2, 3, 4, 5],\n",
       "                         'n_estimators': [10, 15, 20, 25, 30, 40, 50, 80, 100,\n",
       "                                          150, 200]},\n",
       "             scoring='balanced_accuracy', verbose=4)"
      ]
     },
     "execution_count": 12,
     "metadata": {},
     "output_type": "execute_result"
    }
   ],
   "source": [
    "%%time \n",
    "gridCV_Ada.fit(X_tt_train, y_tt_train, \n",
    "               groups = None, \n",
    "               sample_weight = balanced_weights)"
   ]
  },
  {
   "cell_type": "code",
   "execution_count": 13,
   "id": "b54b4cce-1a4f-4117-8ca3-2929f2a8db46",
   "metadata": {},
   "outputs": [
    {
     "data": {
      "text/plain": [
       "{'learning_rate': 0.8, 'n_estimators': 20}"
      ]
     },
     "execution_count": 13,
     "metadata": {},
     "output_type": "execute_result"
    }
   ],
   "source": [
    "y_pred_Ada = gridCV_Ada.predict(X_tt_test)\n",
    "gridCV_Ada.best_params_"
   ]
  },
  {
   "cell_type": "code",
   "execution_count": 14,
   "id": "551c5b9a-29fe-4f25-ab0c-e12f6eb9fd71",
   "metadata": {},
   "outputs": [
    {
     "name": "stdout",
     "output_type": "stream",
     "text": [
      "0.6744812362030905\n",
      "0.6631299734748011\n"
     ]
    }
   ],
   "source": [
    "print(balanced_accuracy_score(y_tt_test, y_pred_Ada))\n",
    "print(accuracy_score(y_tt_test, y_pred_Ada))"
   ]
  },
  {
   "cell_type": "markdown",
   "id": "0810f30b-2f1d-4826-8ee8-e2ba2d163382",
   "metadata": {},
   "source": [
    "### Gradient Boost, Default Parameter"
   ]
  },
  {
   "cell_type": "code",
   "execution_count": 15,
   "id": "59124440-ed27-4221-b506-f18e077d6953",
   "metadata": {},
   "outputs": [
    {
     "data": {
      "text/plain": [
       "(3387,)"
      ]
     },
     "execution_count": 15,
     "metadata": {},
     "output_type": "execute_result"
    }
   ],
   "source": [
    "n_each_class = [np.sum(y_tt_train == each_c) \n",
    "                for each_c \n",
    "                in np.unique(y_tt_train)]\n",
    "\n",
    "weight_each_class = [1/each_n \n",
    "                     for each_n \n",
    "                     in n_each_class]\n",
    "\n",
    "balanced_weights = np.array([weight_each_class[each_y] for each_y in y_tt_train])\n",
    "balanced_weights.shape"
   ]
  },
  {
   "cell_type": "code",
   "execution_count": 16,
   "id": "55fbd69a-c1f4-4fb9-8087-9ae18c619bed",
   "metadata": {},
   "outputs": [
    {
     "name": "stdout",
     "output_type": "stream",
     "text": [
      "Wall time: 1.18 s\n"
     ]
    },
    {
     "data": {
      "text/plain": [
       "GradientBoostingClassifier(n_estimators=200, random_state=132)"
      ]
     },
     "execution_count": 16,
     "metadata": {},
     "output_type": "execute_result"
    }
   ],
   "source": [
    "%%time\n",
    "\n",
    "random_state = 132\n",
    "Gradient_default = GradientBoostingClassifier(loss = 'deviance', \n",
    "                                              random_state= random_state, \n",
    "                                              n_estimators = 200)\n",
    "Gradient_default.fit(X_tt_train, y_tt_train, \n",
    "                     sample_weight = balanced_weights)"
   ]
  },
  {
   "cell_type": "code",
   "execution_count": 17,
   "id": "d1fb1617-a934-41be-9fd6-2e585ba2a453",
   "metadata": {},
   "outputs": [
    {
     "name": "stdout",
     "output_type": "stream",
     "text": [
      "Wall time: 998 µs\n"
     ]
    }
   ],
   "source": [
    "%%time \n",
    "y_pred_gradient_default = Gradient_default.predict(X_tt_test)"
   ]
  },
  {
   "cell_type": "code",
   "execution_count": 18,
   "id": "b0e1f82a-9dde-489d-b2ec-e5ffda5574ff",
   "metadata": {},
   "outputs": [
    {
     "name": "stdout",
     "output_type": "stream",
     "text": [
      "0.6594922737306843\n",
      "0.6551724137931034\n"
     ]
    }
   ],
   "source": [
    "print(balanced_accuracy_score(y_tt_test, y_pred_gradient_default))\n",
    "print(accuracy_score(y_tt_test, y_pred_gradient_default))"
   ]
  },
  {
   "cell_type": "markdown",
   "id": "d1abc275-bb7a-4ba3-9856-37c586ef6f89",
   "metadata": {
    "tags": []
   },
   "source": [
    "### Gradient Boost, Grid Search"
   ]
  },
  {
   "cell_type": "code",
   "execution_count": 19,
   "id": "c0357731-0e46-493a-95e7-d98677d06f09",
   "metadata": {},
   "outputs": [
    {
     "data": {
      "text/plain": [
       "(3387,)"
      ]
     },
     "execution_count": 19,
     "metadata": {},
     "output_type": "execute_result"
    }
   ],
   "source": [
    "n_each_class = [np.sum(y_tt_train == each_c) \n",
    "                for each_c \n",
    "                in np.unique(y_tt_train)]\n",
    "\n",
    "weight_each_class = [1/each_n \n",
    "                     for each_n \n",
    "                     in n_each_class]\n",
    "\n",
    "balanced_weights = np.array([weight_each_class[each_y] \n",
    "                             for each_y \n",
    "                             in y_tt_train])\n",
    "balanced_weights.shape"
   ]
  },
  {
   "cell_type": "code",
   "execution_count": 20,
   "id": "b3756ce2-367f-4b65-ac67-7f2ba190c96a",
   "metadata": {},
   "outputs": [
    {
     "data": {
      "text/plain": [
       "GradientBoostingClassifier(random_state=132)"
      ]
     },
     "execution_count": 20,
     "metadata": {},
     "output_type": "execute_result"
    }
   ],
   "source": [
    "random_state = 132\n",
    "Gradient_grid = GradientBoostingClassifier(loss = 'deviance', \n",
    "                                           random_state= random_state, \n",
    "                                           min_samples_split = 2)\n",
    "Gradient_grid"
   ]
  },
  {
   "cell_type": "code",
   "execution_count": 21,
   "id": "fcc57925-d1d0-4881-b297-d145c07019d4",
   "metadata": {},
   "outputs": [
    {
     "data": {
      "text/plain": [
       "GridSearchCV(cv=5, estimator=GradientBoostingClassifier(random_state=132),\n",
       "             n_jobs=-2,\n",
       "             param_grid={'learning_rate': [0.05, 0.075, 0.1, 0.125, 0.15, 0.2],\n",
       "                         'max_depth': [2, 3, 4, 5, 8],\n",
       "                         'max_features': [0.1, 0.2, 0.3, 0.4, 0.5, 0.6, 0.7],\n",
       "                         'n_estimators': [20, 30, 40, 50, 80, 100]},\n",
       "             scoring='balanced_accuracy', verbose=4)"
      ]
     },
     "execution_count": 21,
     "metadata": {},
     "output_type": "execute_result"
    }
   ],
   "source": [
    "params_Gradient = {'learning_rate': [0.05, 0.075, 0.1, 0.125, 0.15, 0.2],\n",
    "                   'max_features': [0.1, 0.2, 0.3, 0.4, 0.5, 0.6, 0.7], \n",
    "                   'max_depth': [2, 3, 4, 5, 8], \n",
    "                   'n_estimators': [20, 30, 40, 50, 80, 100]}\n",
    "\n",
    "gridCV_Gradient = GridSearchCV(estimator = Gradient_grid, \n",
    "                               param_grid = params_Gradient, \n",
    "                               scoring = 'balanced_accuracy', \n",
    "                               n_jobs = -2,\n",
    "                               refit = True, \n",
    "                               cv = 5, verbose = 4)\n",
    "gridCV_Gradient"
   ]
  },
  {
   "cell_type": "code",
   "execution_count": 22,
   "id": "471089f9-014d-4cdb-b2d8-1a3dd57c6f22",
   "metadata": {},
   "outputs": [
    {
     "name": "stdout",
     "output_type": "stream",
     "text": [
      "Fitting 5 folds for each of 1260 candidates, totalling 6300 fits\n",
      "Wall time: 3min 44s\n"
     ]
    },
    {
     "data": {
      "text/plain": [
       "GridSearchCV(cv=5, estimator=GradientBoostingClassifier(random_state=132),\n",
       "             n_jobs=-2,\n",
       "             param_grid={'learning_rate': [0.05, 0.075, 0.1, 0.125, 0.15, 0.2],\n",
       "                         'max_depth': [2, 3, 4, 5, 8],\n",
       "                         'max_features': [0.1, 0.2, 0.3, 0.4, 0.5, 0.6, 0.7],\n",
       "                         'n_estimators': [20, 30, 40, 50, 80, 100]},\n",
       "             scoring='balanced_accuracy', verbose=4)"
      ]
     },
     "execution_count": 22,
     "metadata": {},
     "output_type": "execute_result"
    }
   ],
   "source": [
    "%%time \n",
    "gridCV_Gradient.fit(X_tt_train, y_tt_train, \n",
    "                    groups = None, \n",
    "                    sample_weight = balanced_weights)"
   ]
  },
  {
   "cell_type": "code",
   "execution_count": 23,
   "id": "d15cf3da-b21e-4791-85b1-0f71acdf86cb",
   "metadata": {},
   "outputs": [
    {
     "data": {
      "text/plain": [
       "{'learning_rate': 0.1,\n",
       " 'max_depth': 2,\n",
       " 'max_features': 0.4,\n",
       " 'n_estimators': 100}"
      ]
     },
     "execution_count": 23,
     "metadata": {},
     "output_type": "execute_result"
    }
   ],
   "source": [
    "y_pred_Gradient = gridCV_Gradient.predict(X_tt_test)\n",
    "gridCV_Gradient.best_params_"
   ]
  },
  {
   "cell_type": "code",
   "execution_count": 24,
   "id": "8f837f2b-01bf-42bd-980a-1213cda84b27",
   "metadata": {},
   "outputs": [
    {
     "name": "stdout",
     "output_type": "stream",
     "text": [
      "0.6926490066225166\n",
      "0.7002652519893899\n"
     ]
    }
   ],
   "source": [
    "print(balanced_accuracy_score(y_tt_test, y_pred_Gradient))\n",
    "print(accuracy_score(y_tt_test, y_pred_Gradient))"
   ]
  },
  {
   "cell_type": "code",
   "execution_count": 25,
   "id": "bb0213b1-d4cb-4fe1-b52e-c0da700271de",
   "metadata": {},
   "outputs": [
    {
     "data": {
      "text/plain": [
       "0.6946083084810397"
      ]
     },
     "execution_count": 25,
     "metadata": {},
     "output_type": "execute_result"
    }
   ],
   "source": [
    "gridCV_Gradient.best_score_"
   ]
  },
  {
   "cell_type": "markdown",
   "id": "55465cfe-a0d1-485c-9d78-f482493dbea1",
   "metadata": {},
   "source": [
    "### XGB, Default Parameter"
   ]
  },
  {
   "cell_type": "code",
   "execution_count": 26,
   "id": "714bef64-e276-4818-9259-7f9ae8c14811",
   "metadata": {},
   "outputs": [],
   "source": [
    "xgb_pos_scale = n_each_class[0]/n_each_class[1]"
   ]
  },
  {
   "cell_type": "code",
   "execution_count": 27,
   "id": "6402f333-5a70-4198-ad55-c4e12e766a52",
   "metadata": {},
   "outputs": [
    {
     "name": "stdout",
     "output_type": "stream",
     "text": [
      "Wall time: 75.8 ms\n"
     ]
    },
    {
     "data": {
      "text/plain": [
       "XGBClassifier(base_score=0.5, booster='gbtree', colsample_bylevel=1,\n",
       "              colsample_bynode=1, colsample_bytree=1, eval_metric='auc',\n",
       "              gamma=0, gpu_id=-1, importance_type='gain',\n",
       "              interaction_constraints='', learning_rate=0.300000012,\n",
       "              max_delta_step=0, max_depth=6, min_child_weight=1, missing=nan,\n",
       "              monotone_constraints='()', n_estimators=20, n_jobs=12,\n",
       "              num_parallel_tree=1, random_state=132, reg_alpha=0, reg_lambda=1,\n",
       "              scale_pos_weight=0.2484334684850719, subsample=1,\n",
       "              tree_method='exact', use_label_encoder=False,\n",
       "              validate_parameters=1, verbosity=None)"
      ]
     },
     "execution_count": 27,
     "metadata": {},
     "output_type": "execute_result"
    }
   ],
   "source": [
    "%%time\n",
    "\n",
    "random_state = 132\n",
    "XGB_default = XGBClassifier(random_state= random_state, \n",
    "                            use_label_encoder=False, \n",
    "                            n_estimators = 20, \n",
    "                            scale_pos_weight = xgb_pos_scale,\n",
    "                            eval_metric = 'auc')\n",
    "XGB_default.fit(X_tt_train, y_tt_train)"
   ]
  },
  {
   "cell_type": "code",
   "execution_count": 28,
   "id": "e9821c3b-da3a-4614-9830-e2daa686098e",
   "metadata": {},
   "outputs": [
    {
     "data": {
      "text/plain": [
       "{'objective': 'binary:logistic',\n",
       " 'use_label_encoder': False,\n",
       " 'base_score': 0.5,\n",
       " 'booster': 'gbtree',\n",
       " 'colsample_bylevel': 1,\n",
       " 'colsample_bynode': 1,\n",
       " 'colsample_bytree': 1,\n",
       " 'gamma': 0,\n",
       " 'gpu_id': -1,\n",
       " 'importance_type': 'gain',\n",
       " 'interaction_constraints': '',\n",
       " 'learning_rate': 0.300000012,\n",
       " 'max_delta_step': 0,\n",
       " 'max_depth': 6,\n",
       " 'min_child_weight': 1,\n",
       " 'missing': nan,\n",
       " 'monotone_constraints': '()',\n",
       " 'n_estimators': 20,\n",
       " 'n_jobs': 12,\n",
       " 'num_parallel_tree': 1,\n",
       " 'random_state': 132,\n",
       " 'reg_alpha': 0,\n",
       " 'reg_lambda': 1,\n",
       " 'scale_pos_weight': 0.2484334684850719,\n",
       " 'subsample': 1,\n",
       " 'tree_method': 'exact',\n",
       " 'validate_parameters': 1,\n",
       " 'verbosity': None,\n",
       " 'eval_metric': 'auc'}"
      ]
     },
     "execution_count": 28,
     "metadata": {},
     "output_type": "execute_result"
    }
   ],
   "source": [
    "XGB_default.get_params()"
   ]
  },
  {
   "cell_type": "code",
   "execution_count": 29,
   "id": "57a185c1-01f8-42cb-bbd7-ec14361686c6",
   "metadata": {},
   "outputs": [],
   "source": [
    "y_pred_xgb_default = XGB_default.predict(X_tt_test)"
   ]
  },
  {
   "cell_type": "code",
   "execution_count": 30,
   "id": "1b41d006-b942-49fb-b11e-f20c8e56eca8",
   "metadata": {},
   "outputs": [
    {
     "name": "stdout",
     "output_type": "stream",
     "text": [
      "0.6644591611479029\n",
      "0.6631299734748011\n"
     ]
    }
   ],
   "source": [
    "print(balanced_accuracy_score(y_tt_test, y_pred_xgb_default))\n",
    "print(accuracy_score(y_tt_test, y_pred_xgb_default))"
   ]
  },
  {
   "cell_type": "markdown",
   "id": "cb870e5a-a398-47e4-8603-9bc8d6c6c40a",
   "metadata": {
    "tags": []
   },
   "source": [
    "### XGB, Grid Search"
   ]
  },
  {
   "cell_type": "code",
   "execution_count": 31,
   "id": "b5fe7d61-1798-445a-a959-924537d0b990",
   "metadata": {},
   "outputs": [],
   "source": [
    "xgb_pos_scale = n_each_class[0]/n_each_class[1]"
   ]
  },
  {
   "cell_type": "code",
   "execution_count": 32,
   "id": "0b640a58-acf8-4278-8c9b-e6977d3e46a2",
   "metadata": {},
   "outputs": [
    {
     "data": {
      "text/plain": [
       "XGBClassifier(base_score=None, booster=None, colsample_bylevel=None,\n",
       "              colsample_bynode=None, colsample_bytree=None, eval_metric='auc',\n",
       "              gamma=None, gpu_id=None, importance_type='gain',\n",
       "              interaction_constraints=None, learning_rate=None,\n",
       "              max_delta_step=None, max_depth=None, min_child_weight=None,\n",
       "              missing=nan, monotone_constraints=None, n_estimators=100,\n",
       "              n_jobs=None, num_parallel_tree=None, random_state=132,\n",
       "              reg_alpha=None, reg_lambda=None,\n",
       "              scale_pos_weight=0.2484334684850719, subsample=None,\n",
       "              tree_method=None, use_label_encoder=False,\n",
       "              validate_parameters=None, verbosity=None)"
      ]
     },
     "execution_count": 32,
     "metadata": {},
     "output_type": "execute_result"
    }
   ],
   "source": [
    "random_state = 132\n",
    "XGB_grid = XGBClassifier(random_state= random_state, \n",
    "                         use_label_encoder=False, \n",
    "                         scale_pos_weight = xgb_pos_scale, \n",
    "                         eval_metric = 'auc')\n",
    "XGB_grid"
   ]
  },
  {
   "cell_type": "code",
   "execution_count": 33,
   "id": "cfb5efec-3e22-490b-b8de-cb4c18bd4ae6",
   "metadata": {},
   "outputs": [
    {
     "data": {
      "text/plain": [
       "GridSearchCV(cv=5,\n",
       "             estimator=XGBClassifier(base_score=None, booster=None,\n",
       "                                     colsample_bylevel=None,\n",
       "                                     colsample_bynode=None,\n",
       "                                     colsample_bytree=None, eval_metric='auc',\n",
       "                                     gamma=None, gpu_id=None,\n",
       "                                     importance_type='gain',\n",
       "                                     interaction_constraints=None,\n",
       "                                     learning_rate=None, max_delta_step=None,\n",
       "                                     max_depth=None, min_child_weight=None,\n",
       "                                     missing=nan, monotone_constraints=None,\n",
       "                                     n_est...\n",
       "                                     reg_alpha=None, reg_lambda=None,\n",
       "                                     scale_pos_weight=0.2484334684850719,\n",
       "                                     subsample=None, tree_method=None,\n",
       "                                     use_label_encoder=False,\n",
       "                                     validate_parameters=None, verbosity=None),\n",
       "             n_jobs=-2,\n",
       "             param_grid={'gamma': [0.7, 0.75, 0.8, 0.85, 0.9, 1.0],\n",
       "                         'learning_rate': [0.25, 0.3, 0.35, 0.375, 0.4, 0.425,\n",
       "                                           0.45],\n",
       "                         'max_depth': [2, 3, 4, 5],\n",
       "                         'n_estimators': [20, 30, 40, 50]},\n",
       "             scoring='balanced_accuracy', verbose=4)"
      ]
     },
     "execution_count": 33,
     "metadata": {},
     "output_type": "execute_result"
    }
   ],
   "source": [
    "params_XGB = {'learning_rate': [0.25, 0.3, 0.35, 0.375, 0.4, 0.425, 0.45],\n",
    "              'max_depth': [2, 3, 4, 5],\n",
    "              'gamma': [0.7, 0.75, 0.8, 0.85, 0.9, 1.0], \n",
    "              'n_estimators': [20, 30, 40, 50]}\n",
    "\n",
    "gridCV_XGB = GridSearchCV(estimator = XGB_grid, \n",
    "                           param_grid = params_XGB, \n",
    "                           scoring = 'balanced_accuracy', \n",
    "                           n_jobs = -2,\n",
    "                           refit = True, \n",
    "                           cv = 5, verbose = 4)\n",
    "gridCV_XGB"
   ]
  },
  {
   "cell_type": "code",
   "execution_count": 34,
   "id": "66bac37e-1ba2-4383-b47a-2a1209aa007b",
   "metadata": {},
   "outputs": [
    {
     "name": "stdout",
     "output_type": "stream",
     "text": [
      "Fitting 5 folds for each of 672 candidates, totalling 3360 fits\n",
      "Wall time: 1min 55s\n"
     ]
    },
    {
     "data": {
      "text/plain": [
       "GridSearchCV(cv=5,\n",
       "             estimator=XGBClassifier(base_score=None, booster=None,\n",
       "                                     colsample_bylevel=None,\n",
       "                                     colsample_bynode=None,\n",
       "                                     colsample_bytree=None, eval_metric='auc',\n",
       "                                     gamma=None, gpu_id=None,\n",
       "                                     importance_type='gain',\n",
       "                                     interaction_constraints=None,\n",
       "                                     learning_rate=None, max_delta_step=None,\n",
       "                                     max_depth=None, min_child_weight=None,\n",
       "                                     missing=nan, monotone_constraints=None,\n",
       "                                     n_est...\n",
       "                                     reg_alpha=None, reg_lambda=None,\n",
       "                                     scale_pos_weight=0.2484334684850719,\n",
       "                                     subsample=None, tree_method=None,\n",
       "                                     use_label_encoder=False,\n",
       "                                     validate_parameters=None, verbosity=None),\n",
       "             n_jobs=-2,\n",
       "             param_grid={'gamma': [0.7, 0.75, 0.8, 0.85, 0.9, 1.0],\n",
       "                         'learning_rate': [0.25, 0.3, 0.35, 0.375, 0.4, 0.425,\n",
       "                                           0.45],\n",
       "                         'max_depth': [2, 3, 4, 5],\n",
       "                         'n_estimators': [20, 30, 40, 50]},\n",
       "             scoring='balanced_accuracy', verbose=4)"
      ]
     },
     "execution_count": 34,
     "metadata": {},
     "output_type": "execute_result"
    }
   ],
   "source": [
    "%%time \n",
    "gridCV_XGB.fit(X_tt_train, y_tt_train)"
   ]
  },
  {
   "cell_type": "code",
   "execution_count": 35,
   "id": "061c4e77-460e-4b29-8f3c-9ce24ecba29a",
   "metadata": {},
   "outputs": [
    {
     "data": {
      "text/plain": [
       "{'gamma': 0.8, 'learning_rate': 0.4, 'max_depth': 2, 'n_estimators': 30}"
      ]
     },
     "execution_count": 35,
     "metadata": {},
     "output_type": "execute_result"
    }
   ],
   "source": [
    "y_pred_XGB = gridCV_XGB.predict(X_tt_test)\n",
    "gridCV_XGB.best_params_"
   ]
  },
  {
   "cell_type": "code",
   "execution_count": 36,
   "id": "54095428-1525-4031-85b5-7c610990d332",
   "metadata": {},
   "outputs": [
    {
     "name": "stdout",
     "output_type": "stream",
     "text": [
      "0.667682119205298\n",
      "0.6843501326259946\n"
     ]
    }
   ],
   "source": [
    "print(balanced_accuracy_score(y_tt_test, y_pred_XGB))\n",
    "print(accuracy_score(y_tt_test, y_pred_XGB))"
   ]
  },
  {
   "cell_type": "code",
   "execution_count": 37,
   "id": "57478c98-af74-41bb-82fe-b1bf415b3a01",
   "metadata": {},
   "outputs": [
    {
     "data": {
      "text/plain": [
       "0.6949554905900616"
      ]
     },
     "execution_count": 37,
     "metadata": {},
     "output_type": "execute_result"
    }
   ],
   "source": [
    "gridCV_XGB.best_score_"
   ]
  },
  {
   "cell_type": "code",
   "execution_count": 38,
   "id": "dd93e939-a1f7-4114-8a63-977e92d8431b",
   "metadata": {},
   "outputs": [],
   "source": [
    "import json\n",
    "\n",
    "boost_params = {\"ada\": gridCV_Ada.best_params_, \n",
    "                \"gradient\": gridCV_Gradient.best_params_, \n",
    "                \"xgb\": gridCV_XGB.best_params_}\n",
    "\n",
    "with open(\"../results/boost_params.json\", \"w\") as outfile:\n",
    "    json.dump(boost_params, outfile)\n",
    "    \n",
    "# with open(\"logistic.json\", \"r\") as readfile:\n",
    "#     dict_data = json.load(readfile)"
   ]
  },
  {
   "cell_type": "code",
   "execution_count": 39,
   "id": "88713e2a-fb97-4578-a28e-e1db0b5a3a58",
   "metadata": {},
   "outputs": [],
   "source": [
    "from sklearn.metrics import confusion_matrix, ConfusionMatrixDisplay\n",
    "\n",
    "def custom_confusin_matrix(y_test, y_pred, model_name):\n",
    "    c_labels = [0, 1] \n",
    "    c_disp_labels = [\"Not Green\", \"Green\"]\n",
    "\n",
    "    c_matrix = confusion_matrix(y_test, y_pred,\n",
    "                                labels = c_labels)\n",
    "    c_mat_display = ConfusionMatrixDisplay(confusion_matrix = c_matrix,\n",
    "                                           display_labels = c_disp_labels)\n",
    "\n",
    "    fig_con, ax_con = plt.subplots()\n",
    "\n",
    "    c_mat_display.plot(ax = ax_con, cmap = \"PuBu\")\n",
    "    ax_con.set_xlabel(ax_con.get_xlabel(), fontsize = 16)\n",
    "    ax_con.set_ylabel(ax_con.get_ylabel(), fontsize = 16)\n",
    "    ax_con.set_title(model_name, fontsize = 18)\n",
    "\n",
    "    text_artists = ax_con.get_children()[0:4]\n",
    "    for each_text in text_artists:\n",
    "        each_text.set_fontsize(14)\n",
    "\n",
    "    ax_con.set_xticks(ax_con.get_xticks())\n",
    "    ax_con.set_xticklabels(c_disp_labels, fontsize = 14)\n",
    "\n",
    "    ax_con.set_yticks(ax_con.get_xticks())\n",
    "    ax_con.set_yticklabels(c_disp_labels, fontsize = 14)\n",
    "\n",
    "    fig_con.set_size_inches([8, 6])\n",
    "    \n",
    "    return fig_con, ax_con\n"
   ]
  },
  {
   "cell_type": "code",
   "execution_count": 42,
   "id": "d0ac1617-67e3-4194-ae2a-1a3777e5423d",
   "metadata": {},
   "outputs": [
    {
     "data": {
      "image/png": "[encoded data removed]",
      "text/plain": [
       "<Figure size 576x432 with 2 Axes>"
      ]
     },
     "metadata": {
      "needs_background": "light"
     },
     "output_type": "display_data"
    },
    {
     "data": {
      "image/png": "[encoded data removed]",
      "text/plain": [
       "<Figure size 576x432 with 2 Axes>"
      ]
     },
     "metadata": {
      "needs_background": "light"
     },
     "output_type": "display_data"
    },
    {
     "data": {
      "image/png": "[encoded data removed]",
      "text/plain": [
       "<Figure size 576x432 with 2 Axes>"
      ]
     },
     "metadata": {
      "needs_background": "light"
     },
     "output_type": "display_data"
    },
    {
     "data": {
      "image/png": "[encoded data removed]",
      "text/plain": [
       "<Figure size 576x432 with 2 Axes>"
      ]
     },
     "metadata": {
      "needs_background": "light"
     },
     "output_type": "display_data"
    },
    {
     "data": {
      "image/png": "[encoded data removed]",
      "text/plain": [
       "<Figure size 576x432 with 2 Axes>"
      ]
     },
     "metadata": {
      "needs_background": "light"
     },
     "output_type": "display_data"
    },
    {
     "data": {
      "image/png": "[encoded data removed]",
      "text/plain": [
       "<Figure size 576x432 with 2 Axes>"
      ]
     },
     "metadata": {
      "needs_background": "light"
     },
     "output_type": "display_data"
    }
   ],
   "source": [
    "fig_con_Ada_d, ax_con_Ada_d = custom_confusin_matrix(y_tt_test, y_pred_ada_default, \"AdaBoost, default\")\n",
    "fig_con_Ada, ax_con_Ada = custom_confusin_matrix(y_tt_test, y_pred_Ada, \"AdaBoost\")\n",
    "\n",
    "fig_con_Grad_d, ax_con_Grad_d = custom_confusin_matrix(y_tt_test, y_pred_gradient_default, \"Gradient Boost, default\")\n",
    "fig_con_Grad, ax_con_Ada_d = custom_confusin_matrix(y_tt_test, y_pred_Gradient, \"Gradient Boost\")\n",
    "\n",
    "fig_con_XGB_d, ax_con_XGB_d = custom_confusin_matrix(y_tt_test, y_pred_xgb_default, \"XGB, default\")\n",
    "fig_con_XGB, ax_con_XGB = custom_confusin_matrix(y_tt_test, y_pred_XGB, \"XGB\")\n",
    "\n",
    "\n",
    "cm_figs = [fig_con_Ada_d, fig_con_Ada, \n",
    "           fig_con_Grad_d, fig_con_Grad, \n",
    "           fig_con_XGB_d, fig_con_XGB]\n",
    "fig_file_names = [\"CM AdaBoost, default\", \"CM AdaBoost\",\n",
    "                  \"CM Gradient Boost, default\", \"CM Gradient Boost\", \n",
    "                  \"CM XGB, default\", \"CM XGB\"]\n",
    "\n",
    "# save_figures\n",
    "if save_figures:\n",
    "    for each_f, each_n in zip(cm_figs, fig_file_names):\n",
    "        fig_name = f\"{figure_path}{each_n}\"\n",
    "        each_f.savefig(f\"{fig_name}.pdf\", \n",
    "                       dpi = 300, \n",
    "                       bbox_inches=\"tight\")\n",
    "        each_f.savefig(f\"{fig_name}.png\", \n",
    "                       dpi = 300, \n",
    "                       bbox_inches=\"tight\")\n",
    "        each_f.savefig(f\"{fig_name}.svg\", \n",
    "                       dpi = 300, \n",
    "                        bbox_inches=\"tight\")"
   ]
  },
  {
   "cell_type": "code",
   "execution_count": null,
   "id": "2eb1ffd8-6be3-4379-a465-2e7ddff0d8ca",
   "metadata": {},
   "outputs": [],
   "source": []
  }
 ],
 "metadata": {
  "kernelspec": {
   "display_name": "Python 3 (ipykernel)",
   "language": "python",
   "name": "python3"
  },
  "language_info": {
   "codemirror_mode": {
    "name": "ipython",
    "version": 3
   },
   "file_extension": ".py",
   "mimetype": "text/x-python",
   "name": "python",
   "nbconvert_exporter": "python",
   "pygments_lexer": "ipython3",
   "version": "3.9.7"
  }
 },
 "nbformat": 4,
 "nbformat_minor": 5
}
