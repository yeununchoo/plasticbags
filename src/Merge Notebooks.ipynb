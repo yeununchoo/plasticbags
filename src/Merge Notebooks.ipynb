{
 "cells": [
  {
   "cell_type": "code",
   "execution_count": 1,
   "id": "fe5f09a6-9de8-40d5-9d80-016c10760cfb",
   "metadata": {},
   "outputs": [],
   "source": [
    "import nbformat\n",
    "\n",
    "# Notebooks in order\n",
    "nt_intro = nbformat.read('Intro.ipynb', 4)\n",
    "nt_EDA1 = nbformat.read('EDA1.ipynb', 4)\n",
    "nt_EDA2 = nbformat.read('EDA2.ipynb', 4)\n",
    "nt_Pre = nbformat.read('Preprocessing.ipynb', 4)\n",
    "nt_Ref = nbformat.read('References.ipynb', 4)\n",
    "nt_Appendix = nbformat.read('Appendix.ipynb', 4)\n",
    "\n",
    "# Create midterm draft\n",
    "nt_midterm_draft = nbformat.v4.new_notebook(metadata=nt_intro.metadata)\n",
    "\n",
    "# Merge all notebooks\n",
    "nt_midterm_draft.cells = nt_intro.cells + nt_EDA1.cells + nt_EDA2.cells \\\n",
    "                            + nt_Pre.cells + nt_Ref.cells  + nt_Appendix.cells\n",
    "\n",
    "# Save midterm draft\n",
    "nbformat.write(nt_midterm_draft, 'Midterm_report.ipynb')"
   ]
  },
  {
   "cell_type": "code",
   "execution_count": null,
   "id": "f91f92d4-0d6a-4806-afa5-1bf7e9dc7eb2",
   "metadata": {},
   "outputs": [],
   "source": []
  }
 ],
 "metadata": {
  "kernelspec": {
   "display_name": "Python 3 (ipykernel)",
   "language": "python",
   "name": "python3"
  },
  "language_info": {
   "codemirror_mode": {
    "name": "ipython",
    "version": 3
   },
   "file_extension": ".py",
   "mimetype": "text/x-python",
   "name": "python",
   "nbconvert_exporter": "python",
   "pygments_lexer": "ipython3",
   "version": "3.9.7"
  }
 },
 "nbformat": 4,
 "nbformat_minor": 5
}
