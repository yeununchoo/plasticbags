{
 "cells": [
  {
   "cell_type": "markdown",
   "id": "23117638-c2d8-4fc6-972d-6342e7cc4bd2",
   "metadata": {},
   "source": [
    "## Appendix A. Environment Summary"
   ]
  },
  {
   "cell_type": "markdown",
   "id": "805de3cc-2d73-4e1d-b64a-c26720a1102a",
   "metadata": {},
   "source": [
    "Environment summary for future reproducibility of the code"
   ]
  },
  {
   "cell_type": "code",
   "execution_count": 1,
   "id": "ee220528-0969-4b26-bd83-e67a1730836f",
   "metadata": {},
   "outputs": [
    {
     "name": "stdout",
     "output_type": "stream",
     "text": [
      "Python version: 3.9.7 | packaged by conda-forge | (default, Sep 14 2021, 01:11:01) [MSC v.1916 64 bit (AMD64)]\n",
      "\n",
      "Versions of each module used in this project\n",
      "    numpy: 1.21.1\n",
      "    pandas: 1.3.1\n",
      "    matplotlib: 3.4.2\n",
      "    sklearn: 0.24.2\n",
      "    xgboost: 1.3.3\n",
      "    shap: 0.39.0\n"
     ]
    }
   ],
   "source": [
    "import sys\n",
    "import importlib\n",
    "\n",
    "print(f\"Python version: {sys.version}\\n\")\n",
    "\n",
    "print(\"Versions of each module used in this project\")\n",
    "\n",
    "modules = [\"numpy\", \"pandas\", \"matplotlib\", \"sklearn\", \"xgboost\", \"shap\"]\n",
    "\n",
    "for each_module in modules:\n",
    "    # four spaces\n",
    "    print(f\"    {each_module}\", end = \": \")\n",
    "    print(importlib.import_module(each_module).__version__)"
   ]
  },
  {
   "cell_type": "markdown",
   "id": "f35d5f83-5803-44d9-ad60-eddf05b5230c",
   "metadata": {},
   "source": [
    "Also, the attached [yaml file](../environment.yml) can also be used to recreate the virtual environment. "
   ]
  },
  {
   "cell_type": "code",
   "execution_count": null,
   "id": "28b7f321-afd7-41ad-b7d1-a5955799e7c9",
   "metadata": {},
   "outputs": [],
   "source": []
  }
 ],
 "metadata": {
  "kernelspec": {
   "display_name": "Python 3 (ipykernel)",
   "language": "python",
   "name": "python3"
  },
  "language_info": {
   "codemirror_mode": {
    "name": "ipython",
    "version": 3
   },
   "file_extension": ".py",
   "mimetype": "text/x-python",
   "name": "python",
   "nbconvert_exporter": "python",
   "pygments_lexer": "ipython3",
   "version": "3.9.7"
  }
 },
 "nbformat": 4,
 "nbformat_minor": 5
}
