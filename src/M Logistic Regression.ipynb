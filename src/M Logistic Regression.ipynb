{
 "cells": [
  {
   "cell_type": "markdown",
   "id": "9500a59d-c5b4-445f-95c3-569ead697c45",
   "metadata": {},
   "source": [
    "## Model 1: Logistic Regression"
   ]
  },
  {
   "cell_type": "code",
   "execution_count": 1,
   "id": "29a906e8-4e30-4472-9090-011bbf9cd0a3",
   "metadata": {},
   "outputs": [],
   "source": [
    "import pandas as pd\n",
    "import numpy as np\n",
    "\n",
    "import matplotlib as mpl\n",
    "import matplotlib.pyplot as plt\n",
    "\n",
    "save_figures = False\n",
    "figure_path = \"../figures/preprocessing/\"\n",
    "# df_init = pd.read_parquet(\"../data/init.parquet\")\n",
    "# df_before = pd.read_parquet(\"../data/before_split.parquet\")\n",
    "df_train = pd.read_parquet(\"../data/prep_train.parquet\")\n",
    "# df_val = pd.read_parquet(\"../data/prep_val.parquet\")\n",
    "# df_test = pd.read_parquet(\"../data/prep_test.parquet\")"
   ]
  },
  {
   "cell_type": "markdown",
   "id": "2eaded25-6510-492b-8d50-48662648189d",
   "metadata": {},
   "source": [
    "### asdf"
   ]
  },
  {
   "cell_type": "code",
   "execution_count": 3,
   "id": "fcad624e-08ea-4b2a-81a5-98bfab72ab7b",
   "metadata": {},
   "outputs": [
    {
     "data": {
      "text/html": [
       "<div>\n",
       "<style scoped>\n",
       "    .dataframe tbody tr th:only-of-type {\n",
       "        vertical-align: middle;\n",
       "    }\n",
       "\n",
       "    .dataframe tbody tr th {\n",
       "        vertical-align: top;\n",
       "    }\n",
       "\n",
       "    .dataframe thead th {\n",
       "        text-align: right;\n",
       "    }\n",
       "</style>\n",
       "<table border=\"1\" class=\"dataframe\">\n",
       "  <thead>\n",
       "    <tr style=\"text-align: right;\">\n",
       "      <th></th>\n",
       "      <th>x0_Year2015</th>\n",
       "      <th>x0_Year2016</th>\n",
       "      <th>x1_England</th>\n",
       "      <th>x1_Wales</th>\n",
       "      <th>x2_Asda</th>\n",
       "      <th>x2_Tesco Extra</th>\n",
       "      <th>x2_Tesco Metro</th>\n",
       "      <th>x2_Waitrose</th>\n",
       "      <th>x3_Evening</th>\n",
       "      <th>x3_Morning</th>\n",
       "      <th>...</th>\n",
       "      <th>x12_Year2016EnglandAge_g2</th>\n",
       "      <th>x12_Year2016EnglandAge_g3</th>\n",
       "      <th>x12_Year2016WalesAge_g1</th>\n",
       "      <th>x12_Year2016WalesAge_g2</th>\n",
       "      <th>x12_Year2016WalesAge_g3</th>\n",
       "      <th>x12_nan</th>\n",
       "      <th>ObsSize</th>\n",
       "      <th>FemaleN</th>\n",
       "      <th>MaleN</th>\n",
       "      <th>y</th>\n",
       "    </tr>\n",
       "  </thead>\n",
       "  <tbody>\n",
       "    <tr>\n",
       "      <th>0</th>\n",
       "      <td>0.0</td>\n",
       "      <td>1.0</td>\n",
       "      <td>0.0</td>\n",
       "      <td>1.0</td>\n",
       "      <td>0.0</td>\n",
       "      <td>0.0</td>\n",
       "      <td>1.0</td>\n",
       "      <td>0.0</td>\n",
       "      <td>0.0</td>\n",
       "      <td>0.0</td>\n",
       "      <td>...</td>\n",
       "      <td>0.0</td>\n",
       "      <td>0.0</td>\n",
       "      <td>0.0</td>\n",
       "      <td>0.0</td>\n",
       "      <td>1.0</td>\n",
       "      <td>0.0</td>\n",
       "      <td>-0.474725</td>\n",
       "      <td>0.584369</td>\n",
       "      <td>-1.000185</td>\n",
       "      <td>1</td>\n",
       "    </tr>\n",
       "    <tr>\n",
       "      <th>1</th>\n",
       "      <td>0.0</td>\n",
       "      <td>1.0</td>\n",
       "      <td>1.0</td>\n",
       "      <td>0.0</td>\n",
       "      <td>1.0</td>\n",
       "      <td>0.0</td>\n",
       "      <td>0.0</td>\n",
       "      <td>0.0</td>\n",
       "      <td>0.0</td>\n",
       "      <td>1.0</td>\n",
       "      <td>...</td>\n",
       "      <td>0.0</td>\n",
       "      <td>0.0</td>\n",
       "      <td>0.0</td>\n",
       "      <td>0.0</td>\n",
       "      <td>0.0</td>\n",
       "      <td>1.0</td>\n",
       "      <td>1.790563</td>\n",
       "      <td>0.584369</td>\n",
       "      <td>0.865711</td>\n",
       "      <td>1</td>\n",
       "    </tr>\n",
       "    <tr>\n",
       "      <th>2</th>\n",
       "      <td>1.0</td>\n",
       "      <td>0.0</td>\n",
       "      <td>0.0</td>\n",
       "      <td>1.0</td>\n",
       "      <td>0.0</td>\n",
       "      <td>0.0</td>\n",
       "      <td>1.0</td>\n",
       "      <td>0.0</td>\n",
       "      <td>0.0</td>\n",
       "      <td>1.0</td>\n",
       "      <td>...</td>\n",
       "      <td>0.0</td>\n",
       "      <td>0.0</td>\n",
       "      <td>0.0</td>\n",
       "      <td>0.0</td>\n",
       "      <td>0.0</td>\n",
       "      <td>0.0</td>\n",
       "      <td>-0.474725</td>\n",
       "      <td>-1.162936</td>\n",
       "      <td>0.865711</td>\n",
       "      <td>1</td>\n",
       "    </tr>\n",
       "    <tr>\n",
       "      <th>3</th>\n",
       "      <td>0.0</td>\n",
       "      <td>1.0</td>\n",
       "      <td>0.0</td>\n",
       "      <td>1.0</td>\n",
       "      <td>1.0</td>\n",
       "      <td>0.0</td>\n",
       "      <td>0.0</td>\n",
       "      <td>0.0</td>\n",
       "      <td>0.0</td>\n",
       "      <td>0.0</td>\n",
       "      <td>...</td>\n",
       "      <td>0.0</td>\n",
       "      <td>0.0</td>\n",
       "      <td>0.0</td>\n",
       "      <td>1.0</td>\n",
       "      <td>0.0</td>\n",
       "      <td>0.0</td>\n",
       "      <td>-0.474725</td>\n",
       "      <td>0.584369</td>\n",
       "      <td>-1.000185</td>\n",
       "      <td>1</td>\n",
       "    </tr>\n",
       "    <tr>\n",
       "      <th>4</th>\n",
       "      <td>1.0</td>\n",
       "      <td>0.0</td>\n",
       "      <td>1.0</td>\n",
       "      <td>0.0</td>\n",
       "      <td>1.0</td>\n",
       "      <td>0.0</td>\n",
       "      <td>0.0</td>\n",
       "      <td>0.0</td>\n",
       "      <td>1.0</td>\n",
       "      <td>0.0</td>\n",
       "      <td>...</td>\n",
       "      <td>0.0</td>\n",
       "      <td>0.0</td>\n",
       "      <td>0.0</td>\n",
       "      <td>0.0</td>\n",
       "      <td>0.0</td>\n",
       "      <td>0.0</td>\n",
       "      <td>-0.474725</td>\n",
       "      <td>0.584369</td>\n",
       "      <td>-1.000185</td>\n",
       "      <td>0</td>\n",
       "    </tr>\n",
       "  </tbody>\n",
       "</table>\n",
       "<p>5 rows × 86 columns</p>\n",
       "</div>"
      ],
      "text/plain": [
       "   x0_Year2015  x0_Year2016  x1_England  x1_Wales  x2_Asda  x2_Tesco Extra  \\\n",
       "0          0.0          1.0         0.0       1.0      0.0             0.0   \n",
       "1          0.0          1.0         1.0       0.0      1.0             0.0   \n",
       "2          1.0          0.0         0.0       1.0      0.0             0.0   \n",
       "3          0.0          1.0         0.0       1.0      1.0             0.0   \n",
       "4          1.0          0.0         1.0       0.0      1.0             0.0   \n",
       "\n",
       "   x2_Tesco Metro  x2_Waitrose  x3_Evening  x3_Morning  ...  \\\n",
       "0             1.0          0.0         0.0         0.0  ...   \n",
       "1             0.0          0.0         0.0         1.0  ...   \n",
       "2             1.0          0.0         0.0         1.0  ...   \n",
       "3             0.0          0.0         0.0         0.0  ...   \n",
       "4             0.0          0.0         1.0         0.0  ...   \n",
       "\n",
       "   x12_Year2016EnglandAge_g2  x12_Year2016EnglandAge_g3  \\\n",
       "0                        0.0                        0.0   \n",
       "1                        0.0                        0.0   \n",
       "2                        0.0                        0.0   \n",
       "3                        0.0                        0.0   \n",
       "4                        0.0                        0.0   \n",
       "\n",
       "   x12_Year2016WalesAge_g1  x12_Year2016WalesAge_g2  x12_Year2016WalesAge_g3  \\\n",
       "0                      0.0                      0.0                      1.0   \n",
       "1                      0.0                      0.0                      0.0   \n",
       "2                      0.0                      0.0                      0.0   \n",
       "3                      0.0                      1.0                      0.0   \n",
       "4                      0.0                      0.0                      0.0   \n",
       "\n",
       "   x12_nan   ObsSize   FemaleN     MaleN  y  \n",
       "0      0.0 -0.474725  0.584369 -1.000185  1  \n",
       "1      1.0  1.790563  0.584369  0.865711  1  \n",
       "2      0.0 -0.474725 -1.162936  0.865711  1  \n",
       "3      0.0 -0.474725  0.584369 -1.000185  1  \n",
       "4      0.0 -0.474725  0.584369 -1.000185  0  \n",
       "\n",
       "[5 rows x 86 columns]"
      ]
     },
     "execution_count": 3,
     "metadata": {},
     "output_type": "execute_result"
    }
   ],
   "source": [
    "df_train.head()"
   ]
  },
  {
   "cell_type": "code",
   "execution_count": 4,
   "id": "ba6d25b5-4243-4c0c-91ba-dc1d1fb404a1",
   "metadata": {},
   "outputs": [],
   "source": [
    "X = df_train.iloc[:,0:-1].copy()\n",
    "y = df_train[\"y\"].copy()\n",
    "\n",
    "X_cols = X.columns\n",
    "X = X.to_numpy()\n",
    "\n",
    "y = y.to_numpy()"
   ]
  },
  {
   "cell_type": "code",
   "execution_count": 16,
   "id": "fd09fbc1-473d-408c-955f-1195cea11653",
   "metadata": {},
   "outputs": [],
   "source": [
    "from sklearn.linear_model import LogisticRegression"
   ]
  },
  {
   "cell_type": "code",
   "execution_count": 54,
   "id": "1861c81b-bd2e-43f5-af24-82d1bdaa62cd",
   "metadata": {},
   "outputs": [],
   "source": [
    "LR = LogisticRegression(penalty = 'none', fit_intercept = False, max_iter = 1000)"
   ]
  },
  {
   "cell_type": "code",
   "execution_count": 55,
   "id": "a8567cbe-6b9c-4c20-a450-cfcde1e4b65b",
   "metadata": {},
   "outputs": [
    {
     "data": {
      "text/plain": [
       "LogisticRegression(fit_intercept=False, max_iter=1000, penalty='none')"
      ]
     },
     "execution_count": 55,
     "metadata": {},
     "output_type": "execute_result"
    }
   ],
   "source": [
    "LR.fit(X, y)"
   ]
  },
  {
   "cell_type": "code",
   "execution_count": 56,
   "id": "943290fc-8604-403a-a4fc-5053ba8a6978",
   "metadata": {},
   "outputs": [],
   "source": [
    "y_prob = LR.predict_proba(X)[:,1]"
   ]
  },
  {
   "cell_type": "code",
   "execution_count": 57,
   "id": "1119847a-c539-4921-b9d5-4fb8b33365a9",
   "metadata": {},
   "outputs": [
    {
     "data": {
      "text/plain": [
       "(array([1, 1, 1, ..., 1, 0, 1]),\n",
       " array([0.95774479, 0.95833231, 0.87065662, ..., 0.9438131 , 0.79861754,\n",
       "        0.80930394]))"
      ]
     },
     "execution_count": 57,
     "metadata": {},
     "output_type": "execute_result"
    }
   ],
   "source": [
    "y, y_prob"
   ]
  },
  {
   "cell_type": "code",
   "execution_count": 58,
   "id": "d709f444-9fe7-448b-920f-d129a008f9c6",
   "metadata": {},
   "outputs": [
    {
     "data": {
      "text/plain": [
       "2720"
      ]
     },
     "execution_count": 58,
     "metadata": {},
     "output_type": "execute_result"
    }
   ],
   "source": [
    "np.sum(y_prob > 0.5)"
   ]
  },
  {
   "cell_type": "code",
   "execution_count": 59,
   "id": "b67bcd75-70b9-4b22-8238-da39db902433",
   "metadata": {},
   "outputs": [],
   "source": [
    "from sklearn.metrics import roc_curve, auc, RocCurveDisplay"
   ]
  },
  {
   "cell_type": "code",
   "execution_count": 60,
   "id": "74abe28e-210a-4fa8-91c7-cb05278c8381",
   "metadata": {},
   "outputs": [],
   "source": [
    "fpr_lr, tpr_lr, p_crits_lr = roc_curve(y,y_prob) \n",
    "auc_lr = auc(fpr_lr, tpr_lr)\n"
   ]
  },
  {
   "cell_type": "code",
   "execution_count": 61,
   "id": "9fd5332b-5b37-4249-9e70-1bdcf329e32d",
   "metadata": {},
   "outputs": [
    {
     "data": {
      "image/png": "[encoded data removed]",
      "text/plain": [
       "<Figure size 576x432 with 1 Axes>"
      ]
     },
     "metadata": {
      "needs_background": "light"
     },
     "output_type": "display_data"
    }
   ],
   "source": [
    "fig_lr, ax_lr = plt.subplots()\n",
    "\n",
    "display = RocCurveDisplay(fpr=fpr_lr, tpr=tpr_lr, roc_auc=auc_lr)\n",
    "\n",
    "display.plot(ax = ax_lr)\n",
    "\n",
    "fig_lr.set_size_inches([8, 6])\n",
    "\n",
    "ax_lr.set_xlabel(ax_lr.get_xlabel(), fontsize = 16)\n",
    "ax_lr.set_ylabel(ax_lr.get_ylabel(), fontsize = 16)\n",
    "ax_lr.set_title(\"ROC Curve\", fontsize = 18)\n",
    "\n",
    "ax_lr.grid()\n"
   ]
  },
  {
   "cell_type": "code",
   "execution_count": null,
   "id": "6d215c00-e1a8-4f1b-bf4d-837b50b04831",
   "metadata": {},
   "outputs": [],
   "source": []
  },
  {
   "cell_type": "code",
   "execution_count": null,
   "id": "4593bbba-e7f2-476b-941e-b1a3347e1672",
   "metadata": {},
   "outputs": [],
   "source": []
  }
 ],
 "metadata": {
  "kernelspec": {
   "display_name": "Python 3 (ipykernel)",
   "language": "python",
   "name": "python3"
  },
  "language_info": {
   "codemirror_mode": {
    "name": "ipython",
    "version": 3
   },
   "file_extension": ".py",
   "mimetype": "text/x-python",
   "name": "python",
   "nbconvert_exporter": "python",
   "pygments_lexer": "ipython3",
   "version": "3.9.7"
  }
 },
 "nbformat": 4,
 "nbformat_minor": 5
}
