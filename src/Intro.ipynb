{
 "cells": [
  {
   "cell_type": "markdown",
   "id": "302bd4a7-fc1b-4158-a78f-0526023bb3e6",
   "metadata": {
    "tags": []
   },
   "source": [
    "# Predicting green customer behavior to avoid single-use plastic bags\n",
    "\n",
    "Yeunun Choo\n",
    "\n",
    "Individual Project Midterm Report\n",
    "\n",
    "Data 1030\n",
    "\n",
    "Fall 2021\n",
    "\n",
    "Brown University"
   ]
  },
  {
   "cell_type": "markdown",
   "id": "574e4ea6-d3a9-4ffb-a214-e848d61b796c",
   "metadata": {
    "tags": []
   },
   "source": [
    "## Introduction"
   ]
  },
  {
   "cell_type": "markdown",
   "id": "9aa65fc6-0bb4-48af-8a7b-7bf5a657c447",
   "metadata": {
    "tags": []
   },
   "source": [
    "The purpose of this project is to build a series of models that can predict if a customer is going to use single-use plastic bags in a supermarket. If we do not let ourselves fall into the [rabbit](https://stanfordmag.org/contents/paper-plastic-or-reusable) [hole](https://news.climate.columbia.edu/2020/04/30/plastic-paper-cotton-bags/) of the overall environmental damage of buying a brand new reusable bag only to throw it away after a few uses, because that is just overconsumption and not what reusable bags are for in the first place, I hope we can all agree that we should try to minimize the usage of single-use plastic bags in everyday grocery shopping. Naturally, a curiosity rises on if a machine learning model can predict whether or not a customer is going to use a plastic bag. We can imagine a situation where some background information about the customer is available, and the model can make predictions based on the available information, or in the machine learning lingo, to classify whether the customer's action was \"green\" or \"not green\"."
   ]
  },
  {
   "cell_type": "markdown",
   "id": "96a915c9-a938-4c07-89dc-218466a36c94",
   "metadata": {},
   "source": [
    "The main target variable of this model should therefore indicate if the customer will use a single-use plastic bag when checking out their items in a supermarket, and other predictor variables should be other easily obtainable information about the customer and the particular supermarket branch. However, there are still many specific details to be discussed about the definition of the target variable, and ultimately what counts as a green behavior. What if the customer did not purchase a new plastic bag but they have brought their own plastic bag from home which they already had anyway? They have clearly used a plastic bag, but the result of action is not much different from brining any other reusable bags in the sense that it did not create any additional plastic waste. What if the customer has brought their own reusable bag but they had to purchase an additional single-use plastic bag because all the items did not quite fit in to the original reusable bag? Is it fair to label this behavior ungreen, when they still had the right intention to bring an reusable bag? In other words, should the result matter more than the intention or vice versa? These questions are hard to answer because they are fundamentally philosophical questions about our values, while the focus of this project is on machine learning algorithms and not on the most ethical definition of green customer behavior on plastic waste. Thus, let's define our target variable based on one version of such green behavior and focus on developing a running model, before exploring other equally possible definitions of the target variable. "
   ]
  },
  {
   "cell_type": "markdown",
   "id": "dd73f2f2-5c3e-4fb6-bad5-56b20d788561",
   "metadata": {
    "tags": []
   },
   "source": [
    "There are some more other practical concerns to be addressed if this kind of model were to be deployed in real life. We should make it sure that the customer information is not collected intrusively but with plain and transparent consent. Also, the model should not be used in such a way to limit the freedom and rights of the customers as a member of liberal democracy. The model should not be used to supervise and evaluate customer behaviors nor to impose one interpretation of the aforementioned green behaviors over the others. It should, ideally, guide the general public to be more environmentally aware in a friendly manner, while still being informative to the policy makers. In reality, much challenges are to be expected, just like any other combinations of politics and machine learning. However, despite the political difficulties, it is still important for us to make efforts [to reduce plastic waste](https://www.unep.org/resources/report/single-use-plastics-roadmap-sustainability), and if machine learning algorithms can be useful, we should definitely use them."
   ]
  },
  {
   "cell_type": "markdown",
   "id": "4f895c9c-763f-4f64-aa2f-ff9002d1a9a1",
   "metadata": {},
   "source": [
    "In this project, we use the data provided by a [public policy study by Thomas et al.](https://dx.doi.org/10.3389/fpsyg.2019.00266), which examined the effectiveness of charging a small fee of five pence in reducing the consumption of single-use plastic bags in England. The new policy was introduced to England in 2015, while it was already in place in Wales. Thus, the researchers compared the consumer's behaviors between 2015 to 2016 in both countries to see if there was any noticeable change in the use of the plastic bags by analyzing three separate sets of data collect by different methods. One the three data sets, the [observational data](https://dx.doi.org/10.5255/UKDA-SN-852642), was kindly shared under the Creative Commons license [CC-By-SA 4.0](https://creativecommons.org/licenses/by-sa/4.0/), which allows fair use and redistribution, so it was available for this project."
   ]
  },
  {
   "cell_type": "markdown",
   "id": "2b912bb4-6202-498e-b5f1-d66149c0e501",
   "metadata": {},
   "source": [
    "The dataset contains the observations from N = 3764 people in Cardiff and Bristol, two neighboring cities under different jurisdictions. Further information about the variables are very clearly documented in the [attached manual](<../data/ESM00385X1 Observational Study Variable List.docx>) and [original report](https://orca.cardiff.ac.uk/94652/) for the public policy study. There are total 31 variables recorded in the dataset and they can be summarized as the following:\n",
    "\n",
    "- 18 variables on the choice of bags:\n",
    "    - 4 on single-use plastic bags: *SUPB_Own*, *SUPB_Other*, *SUPBBinary*, *SUPBSum*\n",
    "    - 8 on common reusuable shopping bags: *B4L_Own*, *B4L_Other*, *B4LBinary*, *B4LSum*, *CANVAS*, *CANVASBinary*, *OWNBAGBinary*, *OWNBAGSum*\n",
    "    - 5 on other permanent bags: *Other_Rucksack*, *Other_Handbag*, *Other_Other*, *NoBag*, *OtherBag*\n",
    "    - 1 summary variable: *BagUseGroup*\n",
    "- 11 variables on the customer and the supermarket branch:\n",
    "    - Numeric: *ObsSize*, *FemaleN*, *MaleN*\n",
    "    - Categorical: *Year*, *Country*, *Supermarket*, *Time*, *Weather*, , *Gender*, *Age*, *Child*\n",
    "- 2 variables for record identification and administrative purposes\n",
    "    - *CONTEXT*, *IDCODE*"
   ]
  },
  {
   "cell_type": "markdown",
   "id": "f0208017-8c7e-4a5a-89b8-f40787ccdce2",
   "metadata": {
    "tags": []
   },
   "source": [
    "Similar efforts of predicting the consumption of plastic bags by logistic regression was made by [Lavelle-Hill (2020)](https://doi.org/10.1016/j.jenvp.2020.101473), which used a different albeit larger dataset with the additional purpose of identifying consumer-level characteristics that are associated with the bag usage. Their model has correctly predicted the test data with 67% accuracy, which could be used as a benchmark for this project. "
   ]
  },
  {
   "cell_type": "markdown",
   "id": "418d5c98-c558-4d3a-b1e6-302f5ee4a841",
   "metadata": {
    "tags": []
   },
   "source": [
    "In this project, the target variable was constructed from the bag choice variables, and the feature variables were constructed from the 11 variables on the customer and the supermarket branch and some of the interactions. The target and feature variables are defined in the Exploratory Data Analysis and Preprocessing sections of this project, but here is a rough summary:\n",
    "\n",
    "- Target variable $y$:\n",
    "    - $y = 0$ if the customer has purchased new single-use plastic bags from the supermarket without brining their own reusuable bags. However, exceptions were made if only one additional bag was purchased when they had aleady brought own reusable bags. \n",
    "    - $y = 1$ otherwise\n",
    "- Feature variables $X$:\n",
    "    - The 11 variables on the customer and the supermarket branch: *Year*, *Country*, *Supermarket*, *Time*, *Weather*, *ObsSize*, *FemaleN*, *MaleN*, *Gender*, *Age*, *Child*\n",
    "    - selected interactions between these variables\n",
    "- Classfication algorithms planned to use:\n",
    "    - Logistic regression, quardratic discriminant analysis, classfication tree and random forest, and support vector machines\n"
   ]
  },
  {
   "cell_type": "markdown",
   "id": "58130851-92ef-4732-941f-b536994efe4b",
   "metadata": {
    "tags": []
   },
   "source": [
    "Finally, the versions of the packages used in the Python [virtual environment](./environment.yml) for this project are listed in the [Appendix](./Appendix.ipynb) for the future reproducibility of the code. "
   ]
  },
  {
   "cell_type": "code",
   "execution_count": null,
   "id": "836d3840-f7b4-46c4-898b-1ec5ef2bcf9d",
   "metadata": {},
   "outputs": [],
   "source": []
  }
 ],
 "metadata": {
  "kernelspec": {
   "display_name": "Python 3 (ipykernel)",
   "language": "python",
   "name": "python3"
  },
  "language_info": {
   "codemirror_mode": {
    "name": "ipython",
    "version": 3
   },
   "file_extension": ".py",
   "mimetype": "text/x-python",
   "name": "python",
   "nbconvert_exporter": "python",
   "pygments_lexer": "ipython3",
   "version": "3.9.7"
  }
 },
 "nbformat": 4,
 "nbformat_minor": 5
}
